{
 "cells": [
  {
   "cell_type": "code",
   "execution_count": 1,
   "id": "a89d7b78",
   "metadata": {},
   "outputs": [],
   "source": [
    "import tensorflow as tf\n",
    "\n",
    "from tensorflow import keras\n",
    "\n",
    "from tensorflow.keras import layers\n",
    "\n",
    "from tensorflow.keras.layers.experimental import preprocessing\n",
    "\n",
    "import numpy as np\n",
    "\n",
    "import pandas as pd\n",
    "\n",
    "import statistics as stat\n",
    "\n",
    "import matplotlib.pyplot as plt\n",
    "from numpy import inf"
   ]
  },
  {
   "cell_type": "code",
   "execution_count": 2,
   "id": "427bd072",
   "metadata": {},
   "outputs": [
    {
     "data": {
      "text/html": [
       "<div>\n",
       "<style scoped>\n",
       "    .dataframe tbody tr th:only-of-type {\n",
       "        vertical-align: middle;\n",
       "    }\n",
       "\n",
       "    .dataframe tbody tr th {\n",
       "        vertical-align: top;\n",
       "    }\n",
       "\n",
       "    .dataframe thead th {\n",
       "        text-align: right;\n",
       "    }\n",
       "</style>\n",
       "<table border=\"1\" class=\"dataframe\">\n",
       "  <thead>\n",
       "    <tr style=\"text-align: right;\">\n",
       "      <th></th>\n",
       "      <th>tx_date</th>\n",
       "      <th>pharmacy</th>\n",
       "      <th>diagnosis</th>\n",
       "      <th>drug</th>\n",
       "      <th>bin</th>\n",
       "      <th>pcn</th>\n",
       "      <th>group</th>\n",
       "      <th>rejected</th>\n",
       "      <th>patient_pay</th>\n",
       "      <th>Type</th>\n",
       "      <th>Drug</th>\n",
       "    </tr>\n",
       "  </thead>\n",
       "  <tbody>\n",
       "    <tr>\n",
       "      <th>0</th>\n",
       "      <td>2022-01-02</td>\n",
       "      <td>Pharmacy #6</td>\n",
       "      <td>G99.93</td>\n",
       "      <td>branded tanoclolol</td>\n",
       "      <td>725700</td>\n",
       "      <td>1UQC</td>\n",
       "      <td>NaN</td>\n",
       "      <td>False</td>\n",
       "      <td>13.39</td>\n",
       "      <td>branded</td>\n",
       "      <td>tanoclolol</td>\n",
       "    </tr>\n",
       "    <tr>\n",
       "      <th>1</th>\n",
       "      <td>2022-01-02</td>\n",
       "      <td>Pharmacy #42</td>\n",
       "      <td>U60.52</td>\n",
       "      <td>branded oxasoted</td>\n",
       "      <td>664344</td>\n",
       "      <td>NaN</td>\n",
       "      <td>52H8KH0F83K</td>\n",
       "      <td>False</td>\n",
       "      <td>7.02</td>\n",
       "      <td>branded</td>\n",
       "      <td>oxasoted</td>\n",
       "    </tr>\n",
       "    <tr>\n",
       "      <th>2</th>\n",
       "      <td>2022-01-02</td>\n",
       "      <td>Pharmacy #37</td>\n",
       "      <td>Q85.91</td>\n",
       "      <td>branded cupitelol</td>\n",
       "      <td>725700</td>\n",
       "      <td>1UQC</td>\n",
       "      <td>NaN</td>\n",
       "      <td>False</td>\n",
       "      <td>13.39</td>\n",
       "      <td>branded</td>\n",
       "      <td>cupitelol</td>\n",
       "    </tr>\n",
       "    <tr>\n",
       "      <th>3</th>\n",
       "      <td>2022-01-02</td>\n",
       "      <td>Pharmacy #30</td>\n",
       "      <td>U60.52</td>\n",
       "      <td>generic oxasoted</td>\n",
       "      <td>571569</td>\n",
       "      <td>KB38N</td>\n",
       "      <td>6BYJBW</td>\n",
       "      <td>False</td>\n",
       "      <td>10.84</td>\n",
       "      <td>generic</td>\n",
       "      <td>oxasoted</td>\n",
       "    </tr>\n",
       "    <tr>\n",
       "      <th>4</th>\n",
       "      <td>2022-01-02</td>\n",
       "      <td>Pharmacy #18</td>\n",
       "      <td>N55.01</td>\n",
       "      <td>branded mamate</td>\n",
       "      <td>664344</td>\n",
       "      <td>NaN</td>\n",
       "      <td>ZX2QUWR</td>\n",
       "      <td>False</td>\n",
       "      <td>47.00</td>\n",
       "      <td>branded</td>\n",
       "      <td>mamate</td>\n",
       "    </tr>\n",
       "    <tr>\n",
       "      <th>...</th>\n",
       "      <td>...</td>\n",
       "      <td>...</td>\n",
       "      <td>...</td>\n",
       "      <td>...</td>\n",
       "      <td>...</td>\n",
       "      <td>...</td>\n",
       "      <td>...</td>\n",
       "      <td>...</td>\n",
       "      <td>...</td>\n",
       "      <td>...</td>\n",
       "      <td>...</td>\n",
       "    </tr>\n",
       "    <tr>\n",
       "      <th>13910239</th>\n",
       "      <td>2022-12-30</td>\n",
       "      <td>Pharmacy #42</td>\n",
       "      <td>U27.71</td>\n",
       "      <td>branded colifunene</td>\n",
       "      <td>322463</td>\n",
       "      <td>NaN</td>\n",
       "      <td>HO8HUGL</td>\n",
       "      <td>True</td>\n",
       "      <td>0.00</td>\n",
       "      <td>branded</td>\n",
       "      <td>colifunene</td>\n",
       "    </tr>\n",
       "    <tr>\n",
       "      <th>13910240</th>\n",
       "      <td>2022-12-30</td>\n",
       "      <td>Pharmacy #45</td>\n",
       "      <td>N59.44</td>\n",
       "      <td>generic tafistitrisin</td>\n",
       "      <td>664344</td>\n",
       "      <td>NaN</td>\n",
       "      <td>TFZOR5R49</td>\n",
       "      <td>False</td>\n",
       "      <td>6.28</td>\n",
       "      <td>generic</td>\n",
       "      <td>tafistitrisin</td>\n",
       "    </tr>\n",
       "    <tr>\n",
       "      <th>13910241</th>\n",
       "      <td>2022-12-30</td>\n",
       "      <td>Pharmacy #54</td>\n",
       "      <td>W50.87</td>\n",
       "      <td>generic tanoclolol</td>\n",
       "      <td>691847</td>\n",
       "      <td>N098KI</td>\n",
       "      <td>6SP1DG</td>\n",
       "      <td>False</td>\n",
       "      <td>6.94</td>\n",
       "      <td>generic</td>\n",
       "      <td>tanoclolol</td>\n",
       "    </tr>\n",
       "    <tr>\n",
       "      <th>13910242</th>\n",
       "      <td>2022-12-30</td>\n",
       "      <td>Pharmacy #0</td>\n",
       "      <td>I68.27</td>\n",
       "      <td>branded prazinib</td>\n",
       "      <td>96934</td>\n",
       "      <td>S76J7V6</td>\n",
       "      <td>NaN</td>\n",
       "      <td>False</td>\n",
       "      <td>13.93</td>\n",
       "      <td>branded</td>\n",
       "      <td>prazinib</td>\n",
       "    </tr>\n",
       "    <tr>\n",
       "      <th>13910243</th>\n",
       "      <td>2022-12-30</td>\n",
       "      <td>Pharmacy #46</td>\n",
       "      <td>G99.93</td>\n",
       "      <td>branded bovirol</td>\n",
       "      <td>322463</td>\n",
       "      <td>3O71UTS</td>\n",
       "      <td>NaN</td>\n",
       "      <td>False</td>\n",
       "      <td>12.22</td>\n",
       "      <td>branded</td>\n",
       "      <td>bovirol</td>\n",
       "    </tr>\n",
       "  </tbody>\n",
       "</table>\n",
       "<p>13910244 rows × 11 columns</p>\n",
       "</div>"
      ],
      "text/plain": [
       "             tx_date      pharmacy diagnosis                   drug     bin  \\\n",
       "0         2022-01-02   Pharmacy #6    G99.93     branded tanoclolol  725700   \n",
       "1         2022-01-02  Pharmacy #42    U60.52       branded oxasoted  664344   \n",
       "2         2022-01-02  Pharmacy #37    Q85.91      branded cupitelol  725700   \n",
       "3         2022-01-02  Pharmacy #30    U60.52       generic oxasoted  571569   \n",
       "4         2022-01-02  Pharmacy #18    N55.01         branded mamate  664344   \n",
       "...              ...           ...       ...                    ...     ...   \n",
       "13910239  2022-12-30  Pharmacy #42    U27.71     branded colifunene  322463   \n",
       "13910240  2022-12-30  Pharmacy #45    N59.44  generic tafistitrisin  664344   \n",
       "13910241  2022-12-30  Pharmacy #54    W50.87     generic tanoclolol  691847   \n",
       "13910242  2022-12-30   Pharmacy #0    I68.27       branded prazinib   96934   \n",
       "13910243  2022-12-30  Pharmacy #46    G99.93        branded bovirol  322463   \n",
       "\n",
       "              pcn        group  rejected  patient_pay     Type           Drug  \n",
       "0            1UQC          NaN     False        13.39  branded     tanoclolol  \n",
       "1             NaN  52H8KH0F83K     False         7.02  branded       oxasoted  \n",
       "2            1UQC          NaN     False        13.39  branded      cupitelol  \n",
       "3           KB38N       6BYJBW     False        10.84  generic       oxasoted  \n",
       "4             NaN      ZX2QUWR     False        47.00  branded         mamate  \n",
       "...           ...          ...       ...          ...      ...            ...  \n",
       "13910239      NaN      HO8HUGL      True         0.00  branded     colifunene  \n",
       "13910240      NaN    TFZOR5R49     False         6.28  generic  tafistitrisin  \n",
       "13910241   N098KI       6SP1DG     False         6.94  generic     tanoclolol  \n",
       "13910242  S76J7V6          NaN     False        13.93  branded       prazinib  \n",
       "13910243  3O71UTS          NaN     False        12.22  branded        bovirol  \n",
       "\n",
       "[13910244 rows x 11 columns]"
      ]
     },
     "execution_count": 2,
     "metadata": {},
     "output_type": "execute_result"
    }
   ],
   "source": [
    "#read the file \n",
    "data= pd.read_csv('pharmacy_tx.csv') \n",
    "data\n",
    "drugsplit=data['drug'].str.split(\" \",n=1,expand=True)\n",
    "data['Type']=drugsplit[0]\n",
    "data['Drug']=drugsplit[1]\n",
    "data"
   ]
  },
  {
   "cell_type": "code",
   "execution_count": 3,
   "id": "6d90c093",
   "metadata": {},
   "outputs": [],
   "source": [
    "#Categorical Variables \n",
    "data.Drug=data.Drug.astype('category').cat.codes\n",
    "pd.get_dummies(data['rejected'])\n",
    "data.loc[:,\"True Rejected\"] = pd.get_dummies(data['rejected'])[True].copy()\n",
    "pd.get_dummies(data['Type'])\n",
    "data.loc[:,'branded'] = pd.get_dummies(data['Type'])['branded'].copy()\n",
    "data.diagnosis=data.diagnosis.astype('category').cat.codes\n",
    "data.bin=data.bin.astype('category').cat.codes\n",
    "data.pcn=data.pcn.astype('category').cat.codes\n",
    "data.group=data.group.astype('category').cat.codes\n"
   ]
  },
  {
   "cell_type": "code",
   "execution_count": 4,
   "id": "3c23c14d",
   "metadata": {
    "scrolled": true
   },
   "outputs": [
    {
     "data": {
      "text/html": [
       "<div>\n",
       "<style scoped>\n",
       "    .dataframe tbody tr th:only-of-type {\n",
       "        vertical-align: middle;\n",
       "    }\n",
       "\n",
       "    .dataframe tbody tr th {\n",
       "        vertical-align: top;\n",
       "    }\n",
       "\n",
       "    .dataframe thead th {\n",
       "        text-align: right;\n",
       "    }\n",
       "</style>\n",
       "<table border=\"1\" class=\"dataframe\">\n",
       "  <thead>\n",
       "    <tr style=\"text-align: right;\">\n",
       "      <th></th>\n",
       "      <th>tx_date</th>\n",
       "      <th>pharmacy</th>\n",
       "      <th>diagnosis</th>\n",
       "      <th>drug</th>\n",
       "      <th>bin</th>\n",
       "      <th>pcn</th>\n",
       "      <th>group</th>\n",
       "      <th>rejected</th>\n",
       "      <th>patient_pay</th>\n",
       "      <th>Type</th>\n",
       "      <th>Drug</th>\n",
       "      <th>True Rejected</th>\n",
       "      <th>branded</th>\n",
       "    </tr>\n",
       "  </thead>\n",
       "  <tbody>\n",
       "    <tr>\n",
       "      <th>0</th>\n",
       "      <td>2022-01-02</td>\n",
       "      <td>Pharmacy #6</td>\n",
       "      <td>37</td>\n",
       "      <td>branded tanoclolol</td>\n",
       "      <td>8</td>\n",
       "      <td>0</td>\n",
       "      <td>-1</td>\n",
       "      <td>False</td>\n",
       "      <td>13.39</td>\n",
       "      <td>branded</td>\n",
       "      <td>67</td>\n",
       "      <td>0</td>\n",
       "      <td>1</td>\n",
       "    </tr>\n",
       "    <tr>\n",
       "      <th>1</th>\n",
       "      <td>2022-01-02</td>\n",
       "      <td>Pharmacy #42</td>\n",
       "      <td>102</td>\n",
       "      <td>branded oxasoted</td>\n",
       "      <td>5</td>\n",
       "      <td>-1</td>\n",
       "      <td>4</td>\n",
       "      <td>False</td>\n",
       "      <td>7.02</td>\n",
       "      <td>branded</td>\n",
       "      <td>48</td>\n",
       "      <td>0</td>\n",
       "      <td>1</td>\n",
       "    </tr>\n",
       "    <tr>\n",
       "      <th>2</th>\n",
       "      <td>2022-01-02</td>\n",
       "      <td>Pharmacy #37</td>\n",
       "      <td>89</td>\n",
       "      <td>branded cupitelol</td>\n",
       "      <td>8</td>\n",
       "      <td>0</td>\n",
       "      <td>-1</td>\n",
       "      <td>False</td>\n",
       "      <td>13.39</td>\n",
       "      <td>branded</td>\n",
       "      <td>8</td>\n",
       "      <td>0</td>\n",
       "      <td>1</td>\n",
       "    </tr>\n",
       "    <tr>\n",
       "      <th>3</th>\n",
       "      <td>2022-01-02</td>\n",
       "      <td>Pharmacy #30</td>\n",
       "      <td>102</td>\n",
       "      <td>generic oxasoted</td>\n",
       "      <td>4</td>\n",
       "      <td>21</td>\n",
       "      <td>5</td>\n",
       "      <td>False</td>\n",
       "      <td>10.84</td>\n",
       "      <td>generic</td>\n",
       "      <td>48</td>\n",
       "      <td>0</td>\n",
       "      <td>0</td>\n",
       "    </tr>\n",
       "    <tr>\n",
       "      <th>4</th>\n",
       "      <td>2022-01-02</td>\n",
       "      <td>Pharmacy #18</td>\n",
       "      <td>75</td>\n",
       "      <td>branded mamate</td>\n",
       "      <td>5</td>\n",
       "      <td>-1</td>\n",
       "      <td>47</td>\n",
       "      <td>False</td>\n",
       "      <td>47.00</td>\n",
       "      <td>branded</td>\n",
       "      <td>38</td>\n",
       "      <td>0</td>\n",
       "      <td>1</td>\n",
       "    </tr>\n",
       "    <tr>\n",
       "      <th>...</th>\n",
       "      <td>...</td>\n",
       "      <td>...</td>\n",
       "      <td>...</td>\n",
       "      <td>...</td>\n",
       "      <td>...</td>\n",
       "      <td>...</td>\n",
       "      <td>...</td>\n",
       "      <td>...</td>\n",
       "      <td>...</td>\n",
       "      <td>...</td>\n",
       "      <td>...</td>\n",
       "      <td>...</td>\n",
       "      <td>...</td>\n",
       "    </tr>\n",
       "    <tr>\n",
       "      <th>13910239</th>\n",
       "      <td>2022-12-30</td>\n",
       "      <td>Pharmacy #42</td>\n",
       "      <td>100</td>\n",
       "      <td>branded colifunene</td>\n",
       "      <td>2</td>\n",
       "      <td>-1</td>\n",
       "      <td>20</td>\n",
       "      <td>True</td>\n",
       "      <td>0.00</td>\n",
       "      <td>branded</td>\n",
       "      <td>7</td>\n",
       "      <td>1</td>\n",
       "      <td>1</td>\n",
       "    </tr>\n",
       "    <tr>\n",
       "      <th>13910240</th>\n",
       "      <td>2022-12-30</td>\n",
       "      <td>Pharmacy #45</td>\n",
       "      <td>76</td>\n",
       "      <td>generic tafistitrisin</td>\n",
       "      <td>5</td>\n",
       "      <td>-1</td>\n",
       "      <td>38</td>\n",
       "      <td>False</td>\n",
       "      <td>6.28</td>\n",
       "      <td>generic</td>\n",
       "      <td>66</td>\n",
       "      <td>0</td>\n",
       "      <td>0</td>\n",
       "    </tr>\n",
       "    <tr>\n",
       "      <th>13910241</th>\n",
       "      <td>2022-12-30</td>\n",
       "      <td>Pharmacy #54</td>\n",
       "      <td>115</td>\n",
       "      <td>generic tanoclolol</td>\n",
       "      <td>6</td>\n",
       "      <td>25</td>\n",
       "      <td>6</td>\n",
       "      <td>False</td>\n",
       "      <td>6.94</td>\n",
       "      <td>generic</td>\n",
       "      <td>67</td>\n",
       "      <td>0</td>\n",
       "      <td>0</td>\n",
       "    </tr>\n",
       "    <tr>\n",
       "      <th>13910242</th>\n",
       "      <td>2022-12-30</td>\n",
       "      <td>Pharmacy #0</td>\n",
       "      <td>52</td>\n",
       "      <td>branded prazinib</td>\n",
       "      <td>0</td>\n",
       "      <td>34</td>\n",
       "      <td>-1</td>\n",
       "      <td>False</td>\n",
       "      <td>13.93</td>\n",
       "      <td>branded</td>\n",
       "      <td>52</td>\n",
       "      <td>0</td>\n",
       "      <td>1</td>\n",
       "    </tr>\n",
       "    <tr>\n",
       "      <th>13910243</th>\n",
       "      <td>2022-12-30</td>\n",
       "      <td>Pharmacy #46</td>\n",
       "      <td>37</td>\n",
       "      <td>branded bovirol</td>\n",
       "      <td>2</td>\n",
       "      <td>4</td>\n",
       "      <td>-1</td>\n",
       "      <td>False</td>\n",
       "      <td>12.22</td>\n",
       "      <td>branded</td>\n",
       "      <td>1</td>\n",
       "      <td>0</td>\n",
       "      <td>1</td>\n",
       "    </tr>\n",
       "  </tbody>\n",
       "</table>\n",
       "<p>13910244 rows × 13 columns</p>\n",
       "</div>"
      ],
      "text/plain": [
       "             tx_date      pharmacy  diagnosis                   drug  bin  \\\n",
       "0         2022-01-02   Pharmacy #6         37     branded tanoclolol    8   \n",
       "1         2022-01-02  Pharmacy #42        102       branded oxasoted    5   \n",
       "2         2022-01-02  Pharmacy #37         89      branded cupitelol    8   \n",
       "3         2022-01-02  Pharmacy #30        102       generic oxasoted    4   \n",
       "4         2022-01-02  Pharmacy #18         75         branded mamate    5   \n",
       "...              ...           ...        ...                    ...  ...   \n",
       "13910239  2022-12-30  Pharmacy #42        100     branded colifunene    2   \n",
       "13910240  2022-12-30  Pharmacy #45         76  generic tafistitrisin    5   \n",
       "13910241  2022-12-30  Pharmacy #54        115     generic tanoclolol    6   \n",
       "13910242  2022-12-30   Pharmacy #0         52       branded prazinib    0   \n",
       "13910243  2022-12-30  Pharmacy #46         37        branded bovirol    2   \n",
       "\n",
       "          pcn  group  rejected  patient_pay     Type  Drug  True Rejected  \\\n",
       "0           0     -1     False        13.39  branded    67              0   \n",
       "1          -1      4     False         7.02  branded    48              0   \n",
       "2           0     -1     False        13.39  branded     8              0   \n",
       "3          21      5     False        10.84  generic    48              0   \n",
       "4          -1     47     False        47.00  branded    38              0   \n",
       "...       ...    ...       ...          ...      ...   ...            ...   \n",
       "13910239   -1     20      True         0.00  branded     7              1   \n",
       "13910240   -1     38     False         6.28  generic    66              0   \n",
       "13910241   25      6     False         6.94  generic    67              0   \n",
       "13910242   34     -1     False        13.93  branded    52              0   \n",
       "13910243    4     -1     False        12.22  branded     1              0   \n",
       "\n",
       "          branded  \n",
       "0               1  \n",
       "1               1  \n",
       "2               1  \n",
       "3               0  \n",
       "4               1  \n",
       "...           ...  \n",
       "13910239        1  \n",
       "13910240        0  \n",
       "13910241        0  \n",
       "13910242        1  \n",
       "13910243        1  \n",
       "\n",
       "[13910244 rows x 13 columns]"
      ]
     },
     "execution_count": 4,
     "metadata": {},
     "output_type": "execute_result"
    }
   ],
   "source": [
    "data"
   ]
  },
  {
   "cell_type": "code",
   "execution_count": 5,
   "id": "84fd180a",
   "metadata": {},
   "outputs": [],
   "source": [
    "#All data\n",
    "X= data[['diagnosis','bin','pcn','group', 'Drug','True Rejected', 'branded']]\n",
    "Y= data['patient_pay']"
   ]
  },
  {
   "cell_type": "markdown",
   "id": "889d49af",
   "metadata": {},
   "source": [
    "## Too Much data, so maybe it would be better to take a random sample of n=1000"
   ]
  },
  {
   "cell_type": "code",
   "execution_count": 6,
   "id": "5e1b67d0",
   "metadata": {},
   "outputs": [],
   "source": [
    "X= data[['diagnosis','bin','pcn','group', 'Drug','True Rejected', 'branded']]\n",
    "data_used = data[['diagnosis','bin','pcn','group', 'Drug','True Rejected', 'branded','patient_pay']]"
   ]
  },
  {
   "cell_type": "code",
   "execution_count": null,
   "id": "7ed8c947",
   "metadata": {},
   "outputs": [],
   "source": []
  },
  {
   "cell_type": "code",
   "execution_count": 7,
   "id": "8678b0b9",
   "metadata": {},
   "outputs": [],
   "source": [
    "data_samp = data_used.sample(1000,random_state=365) #random sample of n=1000\n",
    "data_samp\n",
    "X_samp = data_samp[['diagnosis','bin','pcn','group', 'Drug','True Rejected', 'branded']]"
   ]
  },
  {
   "cell_type": "code",
   "execution_count": 8,
   "id": "d1c7375c",
   "metadata": {
    "scrolled": true
   },
   "outputs": [
    {
     "data": {
      "text/plain": [
       "4032113      9.82\n",
       "6721957     11.15\n",
       "9488955      9.10\n",
       "6410361     22.73\n",
       "13239511    16.42\n",
       "            ...  \n",
       "1609099     10.54\n",
       "1188586      6.28\n",
       "3842348     16.41\n",
       "8581717      5.94\n",
       "9380273     17.91\n",
       "Name: patient_pay, Length: 1000, dtype: float64"
      ]
     },
     "execution_count": 8,
     "metadata": {},
     "output_type": "execute_result"
    }
   ],
   "source": [
    "Y_samp = data_samp['patient_pay'] #random sample of Y n=100\n",
    "Y_samp"
   ]
  },
  {
   "cell_type": "code",
   "execution_count": 9,
   "id": "04465dc5",
   "metadata": {},
   "outputs": [],
   "source": [
    "from sklearn.model_selection import train_test_split"
   ]
  },
  {
   "cell_type": "code",
   "execution_count": 10,
   "id": "f693822a",
   "metadata": {},
   "outputs": [],
   "source": [
    "X_train, X_test, Y_train, Y_test = train_test_split(X_samp, Y_samp,\n",
    "                                                       shuffle=True,\n",
    "                                                       random_state=435,\n",
    "                                                       test_size=.2)"
   ]
  },
  {
   "cell_type": "code",
   "execution_count": 15,
   "id": "acf90774",
   "metadata": {},
   "outputs": [
    {
     "data": {
      "text/html": [
       "<div>\n",
       "<style scoped>\n",
       "    .dataframe tbody tr th:only-of-type {\n",
       "        vertical-align: middle;\n",
       "    }\n",
       "\n",
       "    .dataframe tbody tr th {\n",
       "        vertical-align: top;\n",
       "    }\n",
       "\n",
       "    .dataframe thead th {\n",
       "        text-align: right;\n",
       "    }\n",
       "</style>\n",
       "<table border=\"1\" class=\"dataframe\">\n",
       "  <thead>\n",
       "    <tr style=\"text-align: right;\">\n",
       "      <th></th>\n",
       "      <th>diagnosis</th>\n",
       "      <th>bin</th>\n",
       "      <th>pcn</th>\n",
       "      <th>group</th>\n",
       "      <th>Drug</th>\n",
       "      <th>True Rejected</th>\n",
       "      <th>branded</th>\n",
       "    </tr>\n",
       "  </thead>\n",
       "  <tbody>\n",
       "    <tr>\n",
       "      <th>11519796</th>\n",
       "      <td>86</td>\n",
       "      <td>2</td>\n",
       "      <td>4</td>\n",
       "      <td>-1</td>\n",
       "      <td>55</td>\n",
       "      <td>0</td>\n",
       "      <td>0</td>\n",
       "    </tr>\n",
       "    <tr>\n",
       "      <th>6740414</th>\n",
       "      <td>71</td>\n",
       "      <td>0</td>\n",
       "      <td>34</td>\n",
       "      <td>-1</td>\n",
       "      <td>66</td>\n",
       "      <td>0</td>\n",
       "      <td>1</td>\n",
       "    </tr>\n",
       "    <tr>\n",
       "      <th>5928183</th>\n",
       "      <td>100</td>\n",
       "      <td>4</td>\n",
       "      <td>-1</td>\n",
       "      <td>9</td>\n",
       "      <td>72</td>\n",
       "      <td>0</td>\n",
       "      <td>0</td>\n",
       "    </tr>\n",
       "    <tr>\n",
       "      <th>11694479</th>\n",
       "      <td>52</td>\n",
       "      <td>6</td>\n",
       "      <td>26</td>\n",
       "      <td>-1</td>\n",
       "      <td>52</td>\n",
       "      <td>0</td>\n",
       "      <td>1</td>\n",
       "    </tr>\n",
       "    <tr>\n",
       "      <th>12901003</th>\n",
       "      <td>51</td>\n",
       "      <td>8</td>\n",
       "      <td>0</td>\n",
       "      <td>-1</td>\n",
       "      <td>34</td>\n",
       "      <td>0</td>\n",
       "      <td>0</td>\n",
       "    </tr>\n",
       "    <tr>\n",
       "      <th>...</th>\n",
       "      <td>...</td>\n",
       "      <td>...</td>\n",
       "      <td>...</td>\n",
       "      <td>...</td>\n",
       "      <td>...</td>\n",
       "      <td>...</td>\n",
       "      <td>...</td>\n",
       "    </tr>\n",
       "    <tr>\n",
       "      <th>12476116</th>\n",
       "      <td>86</td>\n",
       "      <td>5</td>\n",
       "      <td>-1</td>\n",
       "      <td>36</td>\n",
       "      <td>40</td>\n",
       "      <td>0</td>\n",
       "      <td>0</td>\n",
       "    </tr>\n",
       "    <tr>\n",
       "      <th>12812679</th>\n",
       "      <td>102</td>\n",
       "      <td>5</td>\n",
       "      <td>-1</td>\n",
       "      <td>44</td>\n",
       "      <td>48</td>\n",
       "      <td>0</td>\n",
       "      <td>0</td>\n",
       "    </tr>\n",
       "    <tr>\n",
       "      <th>7253282</th>\n",
       "      <td>89</td>\n",
       "      <td>11</td>\n",
       "      <td>42</td>\n",
       "      <td>27</td>\n",
       "      <td>57</td>\n",
       "      <td>0</td>\n",
       "      <td>1</td>\n",
       "    </tr>\n",
       "    <tr>\n",
       "      <th>6545279</th>\n",
       "      <td>115</td>\n",
       "      <td>0</td>\n",
       "      <td>34</td>\n",
       "      <td>-1</td>\n",
       "      <td>54</td>\n",
       "      <td>0</td>\n",
       "      <td>0</td>\n",
       "    </tr>\n",
       "    <tr>\n",
       "      <th>7412501</th>\n",
       "      <td>41</td>\n",
       "      <td>8</td>\n",
       "      <td>0</td>\n",
       "      <td>-1</td>\n",
       "      <td>0</td>\n",
       "      <td>0</td>\n",
       "      <td>1</td>\n",
       "    </tr>\n",
       "  </tbody>\n",
       "</table>\n",
       "<p>800 rows × 7 columns</p>\n",
       "</div>"
      ],
      "text/plain": [
       "          diagnosis  bin  pcn  group  Drug  True Rejected  branded\n",
       "11519796         86    2    4     -1    55              0        0\n",
       "6740414          71    0   34     -1    66              0        1\n",
       "5928183         100    4   -1      9    72              0        0\n",
       "11694479         52    6   26     -1    52              0        1\n",
       "12901003         51    8    0     -1    34              0        0\n",
       "...             ...  ...  ...    ...   ...            ...      ...\n",
       "12476116         86    5   -1     36    40              0        0\n",
       "12812679        102    5   -1     44    48              0        0\n",
       "7253282          89   11   42     27    57              0        1\n",
       "6545279         115    0   34     -1    54              0        0\n",
       "7412501          41    8    0     -1     0              0        1\n",
       "\n",
       "[800 rows x 7 columns]"
      ]
     },
     "execution_count": 15,
     "metadata": {},
     "output_type": "execute_result"
    }
   ],
   "source": [
    "X_train"
   ]
  },
  {
   "cell_type": "markdown",
   "id": "a5cc1d71",
   "metadata": {},
   "source": [
    "# Single Layer NN with 4 nodes"
   ]
  },
  {
   "cell_type": "code",
   "execution_count": 194,
   "id": "85c0ee50",
   "metadata": {},
   "outputs": [
    {
     "data": {
      "text/plain": [
       "<keras.callbacks.History at 0x14492fa6130>"
      ]
     },
     "execution_count": 194,
     "metadata": {},
     "output_type": "execute_result"
    }
   ],
   "source": [
    "# fit deep neural network\n",
    "\n",
    "maxepo=800\n",
    "\n",
    "dnn_model = tf.keras.Sequential([\n",
    "    layers.Dense(4, activation='relu'), # single layer\n",
    "    layers.Dense(1)\n",
    "])\n",
    "\n",
    "dnn_model.compile(\n",
    "    optimizer=tf.optimizers.Adam(learning_rate=0.01),\n",
    "    loss='mean_squared_error')\n",
    "\n",
    "dnn_model.fit(\n",
    "    X_train, Y_train,\n",
    "    validation_split=0,\n",
    "    verbose=0, epochs=maxepo)"
   ]
  },
  {
   "cell_type": "code",
   "execution_count": 195,
   "id": "00e5c7c2",
   "metadata": {},
   "outputs": [
    {
     "data": {
      "text/plain": [
       "1005.435626181604"
      ]
     },
     "execution_count": 195,
     "metadata": {},
     "output_type": "execute_result"
    }
   ],
   "source": [
    "Ypred1=dnn_model.predict(X_test).flatten()\n",
    "Ypred1\n",
    "pred_error=((Ypred1)-Y_test)**2\n",
    "pred_error.mean()"
   ]
  },
  {
   "cell_type": "markdown",
   "id": "faf1b5c5",
   "metadata": {},
   "source": [
    "# Single Layer 16 nodes"
   ]
  },
  {
   "cell_type": "code",
   "execution_count": 196,
   "id": "11d64059",
   "metadata": {
    "scrolled": true
   },
   "outputs": [
    {
     "data": {
      "text/plain": [
       "<keras.callbacks.History at 0x1446b529fd0>"
      ]
     },
     "execution_count": 196,
     "metadata": {},
     "output_type": "execute_result"
    }
   ],
   "source": [
    "# fit deep neural network\n",
    "\n",
    "maxepo=800\n",
    "\n",
    "dnn_model = tf.keras.Sequential([\n",
    "    layers.Dense(16, activation='relu'), # single layer\n",
    "    layers.Dense(1)\n",
    "])\n",
    "\n",
    "dnn_model.compile(\n",
    "    optimizer=tf.optimizers.Adam(learning_rate=0.01),\n",
    "    loss='mean_squared_error')\n",
    "\n",
    "dnn_model.fit(\n",
    "    X_train, Y_train,\n",
    "    validation_split=0,\n",
    "    verbose=0, epochs=maxepo)"
   ]
  },
  {
   "cell_type": "code",
   "execution_count": 197,
   "id": "8c5ed3a8",
   "metadata": {},
   "outputs": [
    {
     "data": {
      "text/plain": [
       "1085.1490909345946"
      ]
     },
     "execution_count": 197,
     "metadata": {},
     "output_type": "execute_result"
    }
   ],
   "source": [
    "Ypred1=dnn_model.predict(X_test).flatten()\n",
    "Ypred1\n",
    "pred_error=((Ypred1)-Y_test)**2\n",
    "pred_error.mean()  "
   ]
  },
  {
   "cell_type": "markdown",
   "id": "905f50ea",
   "metadata": {},
   "source": [
    "# Single layer 64 nodes"
   ]
  },
  {
   "cell_type": "code",
   "execution_count": 192,
   "id": "82db19c6",
   "metadata": {},
   "outputs": [
    {
     "data": {
      "text/plain": [
       "<keras.callbacks.History at 0x14388f4bfd0>"
      ]
     },
     "execution_count": 192,
     "metadata": {},
     "output_type": "execute_result"
    }
   ],
   "source": [
    "# fit deep neural network\n",
    "\n",
    "maxepo=800\n",
    "\n",
    "dnn_model = tf.keras.Sequential([\n",
    "    layers.Dense(64, activation='relu'), # single layer\n",
    "    layers.Dense(1)\n",
    "])\n",
    "\n",
    "dnn_model.compile(\n",
    "    optimizer=tf.optimizers.Adam(learning_rate=0.01),\n",
    "    loss='mean_squared_error')\n",
    "\n",
    "dnn_model.fit(\n",
    "    X_train, Y_train,\n",
    "    validation_split=0,\n",
    "    verbose=0, epochs=maxepo)"
   ]
  },
  {
   "cell_type": "code",
   "execution_count": 193,
   "id": "b0095d9c",
   "metadata": {},
   "outputs": [
    {
     "data": {
      "text/plain": [
       "1594.7519719022396"
      ]
     },
     "execution_count": 193,
     "metadata": {},
     "output_type": "execute_result"
    }
   ],
   "source": [
    "Ypred1=dnn_model.predict(X_test).flatten()\n",
    "Ypred1\n",
    "pred_error=((Ypred1)-Y_test)**2\n",
    "pred_error.mean()  "
   ]
  },
  {
   "cell_type": "markdown",
   "id": "7dc52918",
   "metadata": {},
   "source": [
    "# It seems like error increases as we increase nodes. "
   ]
  },
  {
   "cell_type": "markdown",
   "id": "6ab9793e",
   "metadata": {},
   "source": [
    "## Trying 8, a number in between 4 and 16 "
   ]
  },
  {
   "cell_type": "code",
   "execution_count": 198,
   "id": "1676c8a2",
   "metadata": {},
   "outputs": [
    {
     "data": {
      "text/plain": [
       "<keras.callbacks.History at 0x14466e2a100>"
      ]
     },
     "execution_count": 198,
     "metadata": {},
     "output_type": "execute_result"
    }
   ],
   "source": [
    "# fit deep neural network\n",
    "\n",
    "maxepo=800\n",
    "\n",
    "dnn_model = tf.keras.Sequential([\n",
    "    layers.Dense(8, activation='relu'), # single layer\n",
    "    layers.Dense(1)\n",
    "])\n",
    "\n",
    "dnn_model.compile(\n",
    "    optimizer=tf.optimizers.Adam(learning_rate=0.01),\n",
    "    loss='mean_squared_error')\n",
    "\n",
    "dnn_model.fit(\n",
    "    X_train, Y_train,\n",
    "    validation_split=0,\n",
    "    verbose=0, epochs=maxepo)"
   ]
  },
  {
   "cell_type": "code",
   "execution_count": 199,
   "id": "5b36fc8d",
   "metadata": {},
   "outputs": [
    {
     "data": {
      "text/plain": [
       "1045.9368085763176"
      ]
     },
     "execution_count": 199,
     "metadata": {},
     "output_type": "execute_result"
    }
   ],
   "source": [
    "Ypred1=dnn_model.predict(X_test).flatten()\n",
    "Ypred1\n",
    "pred_error=((Ypred1)-Y_test)**2\n",
    "pred_error.mean()  "
   ]
  },
  {
   "cell_type": "markdown",
   "id": "e96bac67",
   "metadata": {},
   "source": [
    "# Still better with fewer nodes"
   ]
  },
  {
   "cell_type": "markdown",
   "id": "1d00d47e",
   "metadata": {},
   "source": [
    "# Now more Layers and we'll keep it constant at 3 neurons"
   ]
  },
  {
   "cell_type": "code",
   "execution_count": 168,
   "id": "b80bf1bd",
   "metadata": {},
   "outputs": [],
   "source": [
    "#3,6, 10 layers with base 3 neurons"
   ]
  },
  {
   "cell_type": "markdown",
   "id": "03d391ae",
   "metadata": {},
   "source": [
    "## 3 Layers 3 Neuron"
   ]
  },
  {
   "cell_type": "code",
   "execution_count": 169,
   "id": "8761a544",
   "metadata": {},
   "outputs": [
    {
     "data": {
      "text/plain": [
       "<keras.callbacks.History at 0x14470e6a280>"
      ]
     },
     "execution_count": 169,
     "metadata": {},
     "output_type": "execute_result"
    }
   ],
   "source": [
    "# fit deep neural network\n",
    "\n",
    "maxepo=800\n",
    "\n",
    "dnn_model = tf.keras.Sequential([\n",
    "    layers.Dense(3, activation='relu'), # first layer\n",
    "    layers.Dense(3, activation='relu'),  # second layer\n",
    "    layers.Dense(3, activation='relu'),  # Third layer\n",
    "    layers.Dense(1)\n",
    "])\n",
    "\n",
    "dnn_model.compile(\n",
    "    optimizer=tf.optimizers.Adam(learning_rate=0.01),\n",
    "    loss='mean_squared_error')\n",
    "\n",
    "dnn_model.fit(\n",
    "    X_train, Y_train,\n",
    "    validation_split=0,\n",
    "    verbose=0, epochs=maxepo)"
   ]
  },
  {
   "cell_type": "code",
   "execution_count": 171,
   "id": "99e11f9c",
   "metadata": {},
   "outputs": [
    {
     "data": {
      "text/plain": [
       "1014.5908749841675"
      ]
     },
     "execution_count": 171,
     "metadata": {},
     "output_type": "execute_result"
    }
   ],
   "source": [
    "Ypred1=dnn_model.predict(X_test).flatten()\n",
    "Ypred1\n",
    "pred_error=((Ypred1)-Y_test)**2\n",
    "pred_error.mean()  "
   ]
  },
  {
   "cell_type": "markdown",
   "id": "648f5ad9",
   "metadata": {},
   "source": [
    "## 6 layers 3 Neurons"
   ]
  },
  {
   "cell_type": "code",
   "execution_count": 200,
   "id": "d44a9884",
   "metadata": {},
   "outputs": [
    {
     "data": {
      "text/plain": [
       "<keras.callbacks.History at 0x144626f6910>"
      ]
     },
     "execution_count": 200,
     "metadata": {},
     "output_type": "execute_result"
    }
   ],
   "source": [
    "# fit deep neural network\n",
    "\n",
    "maxepo=800\n",
    "\n",
    "dnn_model = tf.keras.Sequential([\n",
    "    layers.Dense(3, activation='relu'), # first layer\n",
    "    layers.Dense(3, activation='relu'),  # second layer\n",
    "    layers.Dense(3, activation='relu'),  # Third layer\n",
    "    layers.Dense(3, activation='relu'), # first layer\n",
    "    layers.Dense(3, activation='relu'),  # second layer\n",
    "    layers.Dense(3, activation='relu'),  # Third layer\n",
    "    layers.Dense(1)\n",
    "])\n",
    "\n",
    "dnn_model.compile(\n",
    "    optimizer=tf.optimizers.Adam(learning_rate=0.01),\n",
    "    loss='mean_squared_error')\n",
    "\n",
    "dnn_model.fit(\n",
    "    X_train, Y_train,\n",
    "    validation_split=0,\n",
    "    verbose=0, epochs=maxepo)"
   ]
  },
  {
   "cell_type": "code",
   "execution_count": 201,
   "id": "4b049c4c",
   "metadata": {},
   "outputs": [
    {
     "data": {
      "text/plain": [
       "1000.0816939717552"
      ]
     },
     "execution_count": 201,
     "metadata": {},
     "output_type": "execute_result"
    }
   ],
   "source": [
    "Ypred1=dnn_model.predict(X_test).flatten()\n",
    "Ypred1\n",
    "pred_error=((Ypred1)-Y_test)**2\n",
    "pred_error.mean()  "
   ]
  },
  {
   "cell_type": "markdown",
   "id": "6096a3d2",
   "metadata": {},
   "source": [
    "# 10 Layers 3 Neurons"
   ]
  },
  {
   "cell_type": "code",
   "execution_count": 202,
   "id": "598dcba3",
   "metadata": {},
   "outputs": [
    {
     "data": {
      "text/plain": [
       "<keras.callbacks.History at 0x1445bd5b820>"
      ]
     },
     "execution_count": 202,
     "metadata": {},
     "output_type": "execute_result"
    }
   ],
   "source": [
    "# fit deep neural network\n",
    "\n",
    "maxepo=800\n",
    "\n",
    "dnn_model = tf.keras.Sequential([\n",
    "    layers.Dense(3, activation='relu'), # first layer\n",
    "    layers.Dense(3, activation='relu'),  # second layer\n",
    "    layers.Dense(3, activation='relu'),  # Third layer\n",
    "    layers.Dense(3, activation='relu'), # first layer\n",
    "    layers.Dense(3, activation='relu'),  # second layer\n",
    "    layers.Dense(3, activation='relu'),  # Third layer\n",
    "    layers.Dense(3, activation='relu'),  # Third layer\n",
    "    layers.Dense(3, activation='relu'), # first layer\n",
    "    layers.Dense(3, activation='relu'),  # second layer\n",
    "    layers.Dense(3, activation='relu'),  # Third layer\n",
    "    layers.Dense(1)\n",
    "])\n",
    "\n",
    "dnn_model.compile(\n",
    "    optimizer=tf.optimizers.Adam(learning_rate=0.01),\n",
    "    loss='mean_squared_error')\n",
    "\n",
    "dnn_model.fit(\n",
    "    X_train, Y_train,\n",
    "    validation_split=0,\n",
    "    verbose=0, epochs=maxepo)"
   ]
  },
  {
   "cell_type": "code",
   "execution_count": 203,
   "id": "20c0ece1",
   "metadata": {},
   "outputs": [
    {
     "data": {
      "text/plain": [
       "1028.6762854864714"
      ]
     },
     "execution_count": 203,
     "metadata": {},
     "output_type": "execute_result"
    }
   ],
   "source": [
    "Ypred1=dnn_model.predict(X_test).flatten()\n",
    "Ypred1\n",
    "pred_error=((Ypred1)-Y_test)**2\n",
    "pred_error.mean()  "
   ]
  },
  {
   "cell_type": "markdown",
   "id": "c22085b5",
   "metadata": {},
   "source": [
    "#### 6 Layers gives us the lowest MSE"
   ]
  },
  {
   "cell_type": "markdown",
   "id": "95ff54a3",
   "metadata": {},
   "source": [
    "### It looks like it would be logical to try 4 nodes with 6 layers"
   ]
  },
  {
   "cell_type": "code",
   "execution_count": 53,
   "id": "1ca6229c",
   "metadata": {},
   "outputs": [
    {
     "data": {
      "text/plain": [
       "<keras.callbacks.History at 0x2279ff50310>"
      ]
     },
     "execution_count": 53,
     "metadata": {},
     "output_type": "execute_result"
    }
   ],
   "source": [
    "# fit deep neural network\n",
    "\n",
    "maxepo=800\n",
    "\n",
    "dnn_model = tf.keras.Sequential([\n",
    "    layers.Dense(4, activation='relu'), # single layer\n",
    "    layers.Dense(4, activation='relu'),  # second layer\n",
    "    layers.Dense(4, activation='relu'),  # Third layer\n",
    "    layers.Dense(4, activation='relu'), # first layer\n",
    "    layers.Dense(4, activation='relu'),  # second layer\n",
    "    layers.Dense(4, activation='relu'),  # Third layer\n",
    "    layers.Dense(1)\n",
    "])\n",
    "\n",
    "dnn_model.compile(\n",
    "    optimizer=tf.optimizers.Adam(learning_rate=0.01),\n",
    "    loss='mean_squared_error')\n",
    "\n",
    "dnn_model.fit(\n",
    "    X_train, Y_train,\n",
    "    validation_split=0,\n",
    "    verbose=0, epochs=maxepo)"
   ]
  },
  {
   "cell_type": "code",
   "execution_count": 54,
   "id": "84d24591",
   "metadata": {},
   "outputs": [
    {
     "data": {
      "text/plain": [
       "1047.3061135884357"
      ]
     },
     "execution_count": 54,
     "metadata": {},
     "output_type": "execute_result"
    }
   ],
   "source": [
    "Ypred1=dnn_model.predict(X_test).flatten()\n",
    "Ypred1\n",
    "pred_error=((Ypred1)-Y_test)**2\n",
    "pred_error.mean()  "
   ]
  },
  {
   "cell_type": "code",
   "execution_count": 64,
   "id": "1279452f",
   "metadata": {
    "scrolled": false
   },
   "outputs": [
    {
     "data": {
      "text/plain": [
       "<matplotlib.collections.PathCollection at 0x227aab7bc70>"
      ]
     },
     "execution_count": 64,
     "metadata": {},
     "output_type": "execute_result"
    },
    {
     "data": {
      "image/png": "[encoded data removed]",
      "text/plain": [
       "<Figure size 432x288 with 1 Axes>"
      ]
     },
     "metadata": {
      "needs_background": "light"
     },
     "output_type": "display_data"
    }
   ],
   "source": [
    "plt.scatter(Y_test, Ypred1,zorder=2)"
   ]
  },
  {
   "cell_type": "code",
   "execution_count": null,
   "id": "456529b1",
   "metadata": {},
   "outputs": [],
   "source": [
    "#outlier arent being predicted well"
   ]
  },
  {
   "cell_type": "markdown",
   "id": "598e482f",
   "metadata": {},
   "source": [
    "# 6 layers and 4-3 nodes gives us the best answer"
   ]
  },
  {
   "cell_type": "code",
   "execution_count": null,
   "id": "aecd480c",
   "metadata": {},
   "outputs": [],
   "source": []
  },
  {
   "cell_type": "code",
   "execution_count": null,
   "id": "b954a338",
   "metadata": {},
   "outputs": [],
   "source": []
  }
 ],
 "metadata": {
  "kernelspec": {
   "display_name": "Python 3",
   "language": "python",
   "name": "python3"
  },
  "language_info": {
   "codemirror_mode": {
    "name": "ipython",
    "version": 3
   },
   "file_extension": ".py",
   "mimetype": "text/x-python",
   "name": "python",
   "nbconvert_exporter": "python",
   "pygments_lexer": "ipython3",
   "version": "3.8.8"
  }
 },
 "nbformat": 4,
 "nbformat_minor": 5
}
