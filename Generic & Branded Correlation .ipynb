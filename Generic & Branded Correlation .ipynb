{
 "cells": [
  {
   "cell_type": "code",
   "execution_count": 105,
   "id": "77633db4",
   "metadata": {},
   "outputs": [],
   "source": [
    "import pandas as pd\n",
    "import numpy as np\n",
    "\n",
    "## For plotting\n",
    "import matplotlib.pyplot as plt\n",
    "import seaborn as sn"
   ]
  },
  {
   "cell_type": "code",
   "execution_count": 106,
   "id": "03a5005c",
   "metadata": {},
   "outputs": [
    {
     "data": {
      "text/html": [
       "<div>\n",
       "<style scoped>\n",
       "    .dataframe tbody tr th:only-of-type {\n",
       "        vertical-align: middle;\n",
       "    }\n",
       "\n",
       "    .dataframe tbody tr th {\n",
       "        vertical-align: top;\n",
       "    }\n",
       "\n",
       "    .dataframe thead th {\n",
       "        text-align: right;\n",
       "    }\n",
       "</style>\n",
       "<table border=\"1\" class=\"dataframe\">\n",
       "  <thead>\n",
       "    <tr style=\"text-align: right;\">\n",
       "      <th></th>\n",
       "      <th>tx_date</th>\n",
       "      <th>pharmacy</th>\n",
       "      <th>diagnosis</th>\n",
       "      <th>Type</th>\n",
       "      <th>Drug</th>\n",
       "      <th>bin</th>\n",
       "      <th>pcn</th>\n",
       "      <th>group</th>\n",
       "      <th>rejected</th>\n",
       "      <th>patient_pay</th>\n",
       "    </tr>\n",
       "  </thead>\n",
       "  <tbody>\n",
       "    <tr>\n",
       "      <th>0</th>\n",
       "      <td>1/2/2022</td>\n",
       "      <td>Pharmacy #6</td>\n",
       "      <td>G99.93</td>\n",
       "      <td>branded</td>\n",
       "      <td>tanoclolol</td>\n",
       "      <td>725700</td>\n",
       "      <td>1UQC</td>\n",
       "      <td>NaN</td>\n",
       "      <td>False</td>\n",
       "      <td>13.39</td>\n",
       "    </tr>\n",
       "    <tr>\n",
       "      <th>1</th>\n",
       "      <td>1/2/2022</td>\n",
       "      <td>Pharmacy #42</td>\n",
       "      <td>U60.52</td>\n",
       "      <td>branded</td>\n",
       "      <td>oxasoted</td>\n",
       "      <td>664344</td>\n",
       "      <td>NaN</td>\n",
       "      <td>52H8KH0F83K</td>\n",
       "      <td>False</td>\n",
       "      <td>7.02</td>\n",
       "    </tr>\n",
       "    <tr>\n",
       "      <th>2</th>\n",
       "      <td>1/2/2022</td>\n",
       "      <td>Pharmacy #37</td>\n",
       "      <td>Q85.91</td>\n",
       "      <td>branded</td>\n",
       "      <td>cupitelol</td>\n",
       "      <td>725700</td>\n",
       "      <td>1UQC</td>\n",
       "      <td>NaN</td>\n",
       "      <td>False</td>\n",
       "      <td>13.39</td>\n",
       "    </tr>\n",
       "    <tr>\n",
       "      <th>3</th>\n",
       "      <td>1/2/2022</td>\n",
       "      <td>Pharmacy #30</td>\n",
       "      <td>U60.52</td>\n",
       "      <td>generic</td>\n",
       "      <td>oxasoted</td>\n",
       "      <td>571569</td>\n",
       "      <td>KB38N</td>\n",
       "      <td>6BYJBW</td>\n",
       "      <td>False</td>\n",
       "      <td>10.84</td>\n",
       "    </tr>\n",
       "    <tr>\n",
       "      <th>4</th>\n",
       "      <td>1/2/2022</td>\n",
       "      <td>Pharmacy #18</td>\n",
       "      <td>N55.01</td>\n",
       "      <td>branded</td>\n",
       "      <td>mamate</td>\n",
       "      <td>664344</td>\n",
       "      <td>NaN</td>\n",
       "      <td>ZX2QUWR</td>\n",
       "      <td>False</td>\n",
       "      <td>47.00</td>\n",
       "    </tr>\n",
       "    <tr>\n",
       "      <th>...</th>\n",
       "      <td>...</td>\n",
       "      <td>...</td>\n",
       "      <td>...</td>\n",
       "      <td>...</td>\n",
       "      <td>...</td>\n",
       "      <td>...</td>\n",
       "      <td>...</td>\n",
       "      <td>...</td>\n",
       "      <td>...</td>\n",
       "      <td>...</td>\n",
       "    </tr>\n",
       "    <tr>\n",
       "      <th>1048570</th>\n",
       "      <td>2/3/2022</td>\n",
       "      <td>Pharmacy #19</td>\n",
       "      <td>O91.95</td>\n",
       "      <td>branded</td>\n",
       "      <td>bovirol</td>\n",
       "      <td>664344</td>\n",
       "      <td>NaN</td>\n",
       "      <td>STGRDKR1J5RD</td>\n",
       "      <td>False</td>\n",
       "      <td>12.68</td>\n",
       "    </tr>\n",
       "    <tr>\n",
       "      <th>1048571</th>\n",
       "      <td>2/3/2022</td>\n",
       "      <td>Pharmacy #19</td>\n",
       "      <td>I68.27</td>\n",
       "      <td>branded</td>\n",
       "      <td>hidizuzunib</td>\n",
       "      <td>757349</td>\n",
       "      <td>NaN</td>\n",
       "      <td>9R3Z3QKDF3</td>\n",
       "      <td>True</td>\n",
       "      <td>0.00</td>\n",
       "    </tr>\n",
       "    <tr>\n",
       "      <th>1048572</th>\n",
       "      <td>2/3/2022</td>\n",
       "      <td>Pharmacy #3</td>\n",
       "      <td>H36.57</td>\n",
       "      <td>branded</td>\n",
       "      <td>tocilic</td>\n",
       "      <td>664344</td>\n",
       "      <td>DY4B</td>\n",
       "      <td>NaN</td>\n",
       "      <td>False</td>\n",
       "      <td>35.73</td>\n",
       "    </tr>\n",
       "    <tr>\n",
       "      <th>1048573</th>\n",
       "      <td>2/3/2022</td>\n",
       "      <td>Pharmacy #27</td>\n",
       "      <td>M42.24</td>\n",
       "      <td>branded</td>\n",
       "      <td>hivir</td>\n",
       "      <td>664344</td>\n",
       "      <td>CS8580</td>\n",
       "      <td>NaN</td>\n",
       "      <td>False</td>\n",
       "      <td>13.33</td>\n",
       "    </tr>\n",
       "    <tr>\n",
       "      <th>1048574</th>\n",
       "      <td>2/3/2022</td>\n",
       "      <td>Pharmacy #50</td>\n",
       "      <td>U60.52</td>\n",
       "      <td>branded</td>\n",
       "      <td>oxasoted</td>\n",
       "      <td>691847</td>\n",
       "      <td>NC7EN</td>\n",
       "      <td>NaN</td>\n",
       "      <td>False</td>\n",
       "      <td>17.91</td>\n",
       "    </tr>\n",
       "  </tbody>\n",
       "</table>\n",
       "<p>1048575 rows × 10 columns</p>\n",
       "</div>"
      ],
      "text/plain": [
       "          tx_date      pharmacy diagnosis     Type         Drug     bin  \\\n",
       "0        1/2/2022   Pharmacy #6    G99.93  branded   tanoclolol  725700   \n",
       "1        1/2/2022  Pharmacy #42    U60.52  branded     oxasoted  664344   \n",
       "2        1/2/2022  Pharmacy #37    Q85.91  branded    cupitelol  725700   \n",
       "3        1/2/2022  Pharmacy #30    U60.52  generic     oxasoted  571569   \n",
       "4        1/2/2022  Pharmacy #18    N55.01  branded       mamate  664344   \n",
       "...           ...           ...       ...      ...          ...     ...   \n",
       "1048570  2/3/2022  Pharmacy #19    O91.95  branded      bovirol  664344   \n",
       "1048571  2/3/2022  Pharmacy #19    I68.27  branded  hidizuzunib  757349   \n",
       "1048572  2/3/2022   Pharmacy #3    H36.57  branded      tocilic  664344   \n",
       "1048573  2/3/2022  Pharmacy #27    M42.24  branded        hivir  664344   \n",
       "1048574  2/3/2022  Pharmacy #50    U60.52  branded     oxasoted  691847   \n",
       "\n",
       "            pcn         group  rejected  patient_pay  \n",
       "0          1UQC           NaN     False        13.39  \n",
       "1           NaN   52H8KH0F83K     False         7.02  \n",
       "2          1UQC           NaN     False        13.39  \n",
       "3         KB38N        6BYJBW     False        10.84  \n",
       "4           NaN       ZX2QUWR     False        47.00  \n",
       "...         ...           ...       ...          ...  \n",
       "1048570     NaN  STGRDKR1J5RD     False        12.68  \n",
       "1048571     NaN    9R3Z3QKDF3      True         0.00  \n",
       "1048572    DY4B           NaN     False        35.73  \n",
       "1048573  CS8580           NaN     False        13.33  \n",
       "1048574   NC7EN           NaN     False        17.91  \n",
       "\n",
       "[1048575 rows x 10 columns]"
      ]
     },
     "execution_count": 106,
     "metadata": {},
     "output_type": "execute_result"
    }
   ],
   "source": [
    "#read the file \n",
    "data= pd.read_csv('pharmacy_tx_type.csv') \n",
    "data"
   ]
  },
  {
   "cell_type": "code",
   "execution_count": 107,
   "id": "a5d9cf3a",
   "metadata": {},
   "outputs": [],
   "source": [
    "y= data['rejected']\n",
    "x= data['Type']"
   ]
  },
  {
   "cell_type": "code",
   "execution_count": 108,
   "id": "58dd2c02",
   "metadata": {},
   "outputs": [
    {
     "data": {
      "text/plain": [
       "0    False\n",
       "1    False\n",
       "2    False\n",
       "3    False\n",
       "4    False\n",
       "Name: rejected, dtype: bool"
      ]
     },
     "execution_count": 108,
     "metadata": {},
     "output_type": "execute_result"
    }
   ],
   "source": [
    "y.head()"
   ]
  },
  {
   "cell_type": "code",
   "execution_count": null,
   "id": "d374377c",
   "metadata": {},
   "outputs": [],
   "source": []
  },
  {
   "cell_type": "markdown",
   "id": "81319681",
   "metadata": {},
   "source": [
    "# Logistic"
   ]
  },
  {
   "cell_type": "code",
   "execution_count": 109,
   "id": "47efa45f",
   "metadata": {
    "scrolled": true
   },
   "outputs": [
    {
     "data": {
      "text/html": [
       "<div>\n",
       "<style scoped>\n",
       "    .dataframe tbody tr th:only-of-type {\n",
       "        vertical-align: middle;\n",
       "    }\n",
       "\n",
       "    .dataframe tbody tr th {\n",
       "        vertical-align: top;\n",
       "    }\n",
       "\n",
       "    .dataframe thead th {\n",
       "        text-align: right;\n",
       "    }\n",
       "</style>\n",
       "<table border=\"1\" class=\"dataframe\">\n",
       "  <thead>\n",
       "    <tr style=\"text-align: right;\">\n",
       "      <th></th>\n",
       "      <th>tx_date</th>\n",
       "      <th>pharmacy</th>\n",
       "      <th>diagnosis</th>\n",
       "      <th>Type</th>\n",
       "      <th>Drug</th>\n",
       "      <th>bin</th>\n",
       "      <th>pcn</th>\n",
       "      <th>group</th>\n",
       "      <th>rejected</th>\n",
       "      <th>patient_pay</th>\n",
       "    </tr>\n",
       "  </thead>\n",
       "  <tbody>\n",
       "    <tr>\n",
       "      <th>0</th>\n",
       "      <td>1/2/2022</td>\n",
       "      <td>Pharmacy #6</td>\n",
       "      <td>G99.93</td>\n",
       "      <td>branded</td>\n",
       "      <td>tanoclolol</td>\n",
       "      <td>725700</td>\n",
       "      <td>1UQC</td>\n",
       "      <td>NaN</td>\n",
       "      <td>False</td>\n",
       "      <td>13.39</td>\n",
       "    </tr>\n",
       "    <tr>\n",
       "      <th>1</th>\n",
       "      <td>1/2/2022</td>\n",
       "      <td>Pharmacy #42</td>\n",
       "      <td>U60.52</td>\n",
       "      <td>branded</td>\n",
       "      <td>oxasoted</td>\n",
       "      <td>664344</td>\n",
       "      <td>NaN</td>\n",
       "      <td>52H8KH0F83K</td>\n",
       "      <td>False</td>\n",
       "      <td>7.02</td>\n",
       "    </tr>\n",
       "    <tr>\n",
       "      <th>2</th>\n",
       "      <td>1/2/2022</td>\n",
       "      <td>Pharmacy #37</td>\n",
       "      <td>Q85.91</td>\n",
       "      <td>branded</td>\n",
       "      <td>cupitelol</td>\n",
       "      <td>725700</td>\n",
       "      <td>1UQC</td>\n",
       "      <td>NaN</td>\n",
       "      <td>False</td>\n",
       "      <td>13.39</td>\n",
       "    </tr>\n",
       "    <tr>\n",
       "      <th>3</th>\n",
       "      <td>1/2/2022</td>\n",
       "      <td>Pharmacy #30</td>\n",
       "      <td>U60.52</td>\n",
       "      <td>generic</td>\n",
       "      <td>oxasoted</td>\n",
       "      <td>571569</td>\n",
       "      <td>KB38N</td>\n",
       "      <td>6BYJBW</td>\n",
       "      <td>False</td>\n",
       "      <td>10.84</td>\n",
       "    </tr>\n",
       "    <tr>\n",
       "      <th>4</th>\n",
       "      <td>1/2/2022</td>\n",
       "      <td>Pharmacy #18</td>\n",
       "      <td>N55.01</td>\n",
       "      <td>branded</td>\n",
       "      <td>mamate</td>\n",
       "      <td>664344</td>\n",
       "      <td>NaN</td>\n",
       "      <td>ZX2QUWR</td>\n",
       "      <td>False</td>\n",
       "      <td>47.00</td>\n",
       "    </tr>\n",
       "    <tr>\n",
       "      <th>...</th>\n",
       "      <td>...</td>\n",
       "      <td>...</td>\n",
       "      <td>...</td>\n",
       "      <td>...</td>\n",
       "      <td>...</td>\n",
       "      <td>...</td>\n",
       "      <td>...</td>\n",
       "      <td>...</td>\n",
       "      <td>...</td>\n",
       "      <td>...</td>\n",
       "    </tr>\n",
       "    <tr>\n",
       "      <th>1048570</th>\n",
       "      <td>2/3/2022</td>\n",
       "      <td>Pharmacy #19</td>\n",
       "      <td>O91.95</td>\n",
       "      <td>branded</td>\n",
       "      <td>bovirol</td>\n",
       "      <td>664344</td>\n",
       "      <td>NaN</td>\n",
       "      <td>STGRDKR1J5RD</td>\n",
       "      <td>False</td>\n",
       "      <td>12.68</td>\n",
       "    </tr>\n",
       "    <tr>\n",
       "      <th>1048571</th>\n",
       "      <td>2/3/2022</td>\n",
       "      <td>Pharmacy #19</td>\n",
       "      <td>I68.27</td>\n",
       "      <td>branded</td>\n",
       "      <td>hidizuzunib</td>\n",
       "      <td>757349</td>\n",
       "      <td>NaN</td>\n",
       "      <td>9R3Z3QKDF3</td>\n",
       "      <td>True</td>\n",
       "      <td>0.00</td>\n",
       "    </tr>\n",
       "    <tr>\n",
       "      <th>1048572</th>\n",
       "      <td>2/3/2022</td>\n",
       "      <td>Pharmacy #3</td>\n",
       "      <td>H36.57</td>\n",
       "      <td>branded</td>\n",
       "      <td>tocilic</td>\n",
       "      <td>664344</td>\n",
       "      <td>DY4B</td>\n",
       "      <td>NaN</td>\n",
       "      <td>False</td>\n",
       "      <td>35.73</td>\n",
       "    </tr>\n",
       "    <tr>\n",
       "      <th>1048573</th>\n",
       "      <td>2/3/2022</td>\n",
       "      <td>Pharmacy #27</td>\n",
       "      <td>M42.24</td>\n",
       "      <td>branded</td>\n",
       "      <td>hivir</td>\n",
       "      <td>664344</td>\n",
       "      <td>CS8580</td>\n",
       "      <td>NaN</td>\n",
       "      <td>False</td>\n",
       "      <td>13.33</td>\n",
       "    </tr>\n",
       "    <tr>\n",
       "      <th>1048574</th>\n",
       "      <td>2/3/2022</td>\n",
       "      <td>Pharmacy #50</td>\n",
       "      <td>U60.52</td>\n",
       "      <td>branded</td>\n",
       "      <td>oxasoted</td>\n",
       "      <td>691847</td>\n",
       "      <td>NC7EN</td>\n",
       "      <td>NaN</td>\n",
       "      <td>False</td>\n",
       "      <td>17.91</td>\n",
       "    </tr>\n",
       "  </tbody>\n",
       "</table>\n",
       "<p>1048575 rows × 10 columns</p>\n",
       "</div>"
      ],
      "text/plain": [
       "          tx_date      pharmacy diagnosis     Type         Drug     bin  \\\n",
       "0        1/2/2022   Pharmacy #6    G99.93  branded   tanoclolol  725700   \n",
       "1        1/2/2022  Pharmacy #42    U60.52  branded     oxasoted  664344   \n",
       "2        1/2/2022  Pharmacy #37    Q85.91  branded    cupitelol  725700   \n",
       "3        1/2/2022  Pharmacy #30    U60.52  generic     oxasoted  571569   \n",
       "4        1/2/2022  Pharmacy #18    N55.01  branded       mamate  664344   \n",
       "...           ...           ...       ...      ...          ...     ...   \n",
       "1048570  2/3/2022  Pharmacy #19    O91.95  branded      bovirol  664344   \n",
       "1048571  2/3/2022  Pharmacy #19    I68.27  branded  hidizuzunib  757349   \n",
       "1048572  2/3/2022   Pharmacy #3    H36.57  branded      tocilic  664344   \n",
       "1048573  2/3/2022  Pharmacy #27    M42.24  branded        hivir  664344   \n",
       "1048574  2/3/2022  Pharmacy #50    U60.52  branded     oxasoted  691847   \n",
       "\n",
       "            pcn         group  rejected  patient_pay  \n",
       "0          1UQC           NaN     False        13.39  \n",
       "1           NaN   52H8KH0F83K     False         7.02  \n",
       "2          1UQC           NaN     False        13.39  \n",
       "3         KB38N        6BYJBW     False        10.84  \n",
       "4           NaN       ZX2QUWR     False        47.00  \n",
       "...         ...           ...       ...          ...  \n",
       "1048570     NaN  STGRDKR1J5RD     False        12.68  \n",
       "1048571     NaN    9R3Z3QKDF3      True         0.00  \n",
       "1048572    DY4B           NaN     False        35.73  \n",
       "1048573  CS8580           NaN     False        13.33  \n",
       "1048574   NC7EN           NaN     False        17.91  \n",
       "\n",
       "[1048575 rows x 10 columns]"
      ]
     },
     "execution_count": 109,
     "metadata": {},
     "output_type": "execute_result"
    }
   ],
   "source": [
    "data"
   ]
  },
  {
   "cell_type": "code",
   "execution_count": 110,
   "id": "b5627829",
   "metadata": {
    "scrolled": false
   },
   "outputs": [],
   "source": [
    "pd.get_dummies(data['Type'])\n",
    "data.loc[:,'branded'] = pd.get_dummies(data['Type'])['branded'].copy()"
   ]
  },
  {
   "cell_type": "code",
   "execution_count": 111,
   "id": "01eb95a5",
   "metadata": {},
   "outputs": [],
   "source": [
    "pd.get_dummies(data['rejected'])\n",
    "data.loc[:,\"True Rejected\"] = pd.get_dummies(data['rejected'])[True].copy()"
   ]
  },
  {
   "cell_type": "code",
   "execution_count": 112,
   "id": "77bb14af",
   "metadata": {
    "scrolled": true
   },
   "outputs": [
    {
     "data": {
      "text/html": [
       "<div>\n",
       "<style scoped>\n",
       "    .dataframe tbody tr th:only-of-type {\n",
       "        vertical-align: middle;\n",
       "    }\n",
       "\n",
       "    .dataframe tbody tr th {\n",
       "        vertical-align: top;\n",
       "    }\n",
       "\n",
       "    .dataframe thead th {\n",
       "        text-align: right;\n",
       "    }\n",
       "</style>\n",
       "<table border=\"1\" class=\"dataframe\">\n",
       "  <thead>\n",
       "    <tr style=\"text-align: right;\">\n",
       "      <th></th>\n",
       "      <th>tx_date</th>\n",
       "      <th>pharmacy</th>\n",
       "      <th>diagnosis</th>\n",
       "      <th>Type</th>\n",
       "      <th>Drug</th>\n",
       "      <th>bin</th>\n",
       "      <th>pcn</th>\n",
       "      <th>group</th>\n",
       "      <th>rejected</th>\n",
       "      <th>patient_pay</th>\n",
       "      <th>branded</th>\n",
       "      <th>True Rejected</th>\n",
       "    </tr>\n",
       "  </thead>\n",
       "  <tbody>\n",
       "    <tr>\n",
       "      <th>0</th>\n",
       "      <td>1/2/2022</td>\n",
       "      <td>Pharmacy #6</td>\n",
       "      <td>G99.93</td>\n",
       "      <td>branded</td>\n",
       "      <td>tanoclolol</td>\n",
       "      <td>725700</td>\n",
       "      <td>1UQC</td>\n",
       "      <td>NaN</td>\n",
       "      <td>False</td>\n",
       "      <td>13.39</td>\n",
       "      <td>1</td>\n",
       "      <td>0</td>\n",
       "    </tr>\n",
       "    <tr>\n",
       "      <th>1</th>\n",
       "      <td>1/2/2022</td>\n",
       "      <td>Pharmacy #42</td>\n",
       "      <td>U60.52</td>\n",
       "      <td>branded</td>\n",
       "      <td>oxasoted</td>\n",
       "      <td>664344</td>\n",
       "      <td>NaN</td>\n",
       "      <td>52H8KH0F83K</td>\n",
       "      <td>False</td>\n",
       "      <td>7.02</td>\n",
       "      <td>1</td>\n",
       "      <td>0</td>\n",
       "    </tr>\n",
       "    <tr>\n",
       "      <th>2</th>\n",
       "      <td>1/2/2022</td>\n",
       "      <td>Pharmacy #37</td>\n",
       "      <td>Q85.91</td>\n",
       "      <td>branded</td>\n",
       "      <td>cupitelol</td>\n",
       "      <td>725700</td>\n",
       "      <td>1UQC</td>\n",
       "      <td>NaN</td>\n",
       "      <td>False</td>\n",
       "      <td>13.39</td>\n",
       "      <td>1</td>\n",
       "      <td>0</td>\n",
       "    </tr>\n",
       "    <tr>\n",
       "      <th>3</th>\n",
       "      <td>1/2/2022</td>\n",
       "      <td>Pharmacy #30</td>\n",
       "      <td>U60.52</td>\n",
       "      <td>generic</td>\n",
       "      <td>oxasoted</td>\n",
       "      <td>571569</td>\n",
       "      <td>KB38N</td>\n",
       "      <td>6BYJBW</td>\n",
       "      <td>False</td>\n",
       "      <td>10.84</td>\n",
       "      <td>0</td>\n",
       "      <td>0</td>\n",
       "    </tr>\n",
       "    <tr>\n",
       "      <th>4</th>\n",
       "      <td>1/2/2022</td>\n",
       "      <td>Pharmacy #18</td>\n",
       "      <td>N55.01</td>\n",
       "      <td>branded</td>\n",
       "      <td>mamate</td>\n",
       "      <td>664344</td>\n",
       "      <td>NaN</td>\n",
       "      <td>ZX2QUWR</td>\n",
       "      <td>False</td>\n",
       "      <td>47.00</td>\n",
       "      <td>1</td>\n",
       "      <td>0</td>\n",
       "    </tr>\n",
       "    <tr>\n",
       "      <th>...</th>\n",
       "      <td>...</td>\n",
       "      <td>...</td>\n",
       "      <td>...</td>\n",
       "      <td>...</td>\n",
       "      <td>...</td>\n",
       "      <td>...</td>\n",
       "      <td>...</td>\n",
       "      <td>...</td>\n",
       "      <td>...</td>\n",
       "      <td>...</td>\n",
       "      <td>...</td>\n",
       "      <td>...</td>\n",
       "    </tr>\n",
       "    <tr>\n",
       "      <th>1048570</th>\n",
       "      <td>2/3/2022</td>\n",
       "      <td>Pharmacy #19</td>\n",
       "      <td>O91.95</td>\n",
       "      <td>branded</td>\n",
       "      <td>bovirol</td>\n",
       "      <td>664344</td>\n",
       "      <td>NaN</td>\n",
       "      <td>STGRDKR1J5RD</td>\n",
       "      <td>False</td>\n",
       "      <td>12.68</td>\n",
       "      <td>1</td>\n",
       "      <td>0</td>\n",
       "    </tr>\n",
       "    <tr>\n",
       "      <th>1048571</th>\n",
       "      <td>2/3/2022</td>\n",
       "      <td>Pharmacy #19</td>\n",
       "      <td>I68.27</td>\n",
       "      <td>branded</td>\n",
       "      <td>hidizuzunib</td>\n",
       "      <td>757349</td>\n",
       "      <td>NaN</td>\n",
       "      <td>9R3Z3QKDF3</td>\n",
       "      <td>True</td>\n",
       "      <td>0.00</td>\n",
       "      <td>1</td>\n",
       "      <td>1</td>\n",
       "    </tr>\n",
       "    <tr>\n",
       "      <th>1048572</th>\n",
       "      <td>2/3/2022</td>\n",
       "      <td>Pharmacy #3</td>\n",
       "      <td>H36.57</td>\n",
       "      <td>branded</td>\n",
       "      <td>tocilic</td>\n",
       "      <td>664344</td>\n",
       "      <td>DY4B</td>\n",
       "      <td>NaN</td>\n",
       "      <td>False</td>\n",
       "      <td>35.73</td>\n",
       "      <td>1</td>\n",
       "      <td>0</td>\n",
       "    </tr>\n",
       "    <tr>\n",
       "      <th>1048573</th>\n",
       "      <td>2/3/2022</td>\n",
       "      <td>Pharmacy #27</td>\n",
       "      <td>M42.24</td>\n",
       "      <td>branded</td>\n",
       "      <td>hivir</td>\n",
       "      <td>664344</td>\n",
       "      <td>CS8580</td>\n",
       "      <td>NaN</td>\n",
       "      <td>False</td>\n",
       "      <td>13.33</td>\n",
       "      <td>1</td>\n",
       "      <td>0</td>\n",
       "    </tr>\n",
       "    <tr>\n",
       "      <th>1048574</th>\n",
       "      <td>2/3/2022</td>\n",
       "      <td>Pharmacy #50</td>\n",
       "      <td>U60.52</td>\n",
       "      <td>branded</td>\n",
       "      <td>oxasoted</td>\n",
       "      <td>691847</td>\n",
       "      <td>NC7EN</td>\n",
       "      <td>NaN</td>\n",
       "      <td>False</td>\n",
       "      <td>17.91</td>\n",
       "      <td>1</td>\n",
       "      <td>0</td>\n",
       "    </tr>\n",
       "  </tbody>\n",
       "</table>\n",
       "<p>1048575 rows × 12 columns</p>\n",
       "</div>"
      ],
      "text/plain": [
       "          tx_date      pharmacy diagnosis     Type         Drug     bin  \\\n",
       "0        1/2/2022   Pharmacy #6    G99.93  branded   tanoclolol  725700   \n",
       "1        1/2/2022  Pharmacy #42    U60.52  branded     oxasoted  664344   \n",
       "2        1/2/2022  Pharmacy #37    Q85.91  branded    cupitelol  725700   \n",
       "3        1/2/2022  Pharmacy #30    U60.52  generic     oxasoted  571569   \n",
       "4        1/2/2022  Pharmacy #18    N55.01  branded       mamate  664344   \n",
       "...           ...           ...       ...      ...          ...     ...   \n",
       "1048570  2/3/2022  Pharmacy #19    O91.95  branded      bovirol  664344   \n",
       "1048571  2/3/2022  Pharmacy #19    I68.27  branded  hidizuzunib  757349   \n",
       "1048572  2/3/2022   Pharmacy #3    H36.57  branded      tocilic  664344   \n",
       "1048573  2/3/2022  Pharmacy #27    M42.24  branded        hivir  664344   \n",
       "1048574  2/3/2022  Pharmacy #50    U60.52  branded     oxasoted  691847   \n",
       "\n",
       "            pcn         group  rejected  patient_pay  branded  True Rejected  \n",
       "0          1UQC           NaN     False        13.39        1              0  \n",
       "1           NaN   52H8KH0F83K     False         7.02        1              0  \n",
       "2          1UQC           NaN     False        13.39        1              0  \n",
       "3         KB38N        6BYJBW     False        10.84        0              0  \n",
       "4           NaN       ZX2QUWR     False        47.00        1              0  \n",
       "...         ...           ...       ...          ...      ...            ...  \n",
       "1048570     NaN  STGRDKR1J5RD     False        12.68        1              0  \n",
       "1048571     NaN    9R3Z3QKDF3      True         0.00        1              1  \n",
       "1048572    DY4B           NaN     False        35.73        1              0  \n",
       "1048573  CS8580           NaN     False        13.33        1              0  \n",
       "1048574   NC7EN           NaN     False        17.91        1              0  \n",
       "\n",
       "[1048575 rows x 12 columns]"
      ]
     },
     "execution_count": 112,
     "metadata": {},
     "output_type": "execute_result"
    }
   ],
   "source": [
    "data"
   ]
  },
  {
   "cell_type": "code",
   "execution_count": null,
   "id": "a3fc4888",
   "metadata": {},
   "outputs": [],
   "source": []
  },
  {
   "cell_type": "code",
   "execution_count": 113,
   "id": "51081765",
   "metadata": {},
   "outputs": [],
   "source": [
    "X= data[['branded']]\n",
    "y= data['True Rejected']"
   ]
  },
  {
   "cell_type": "code",
   "execution_count": 114,
   "id": "aa7929fb",
   "metadata": {},
   "outputs": [],
   "source": [
    "from sklearn.model_selection import train_test_split"
   ]
  },
  {
   "cell_type": "code",
   "execution_count": 115,
   "id": "1c89bc9b",
   "metadata": {},
   "outputs": [],
   "source": [
    "X_train, X_test, y_train, y_test = train_test_split(X, y,\n",
    "                                                       shuffle=True,\n",
    "                                                       random_state=435,\n",
    "                                                       test_size=.2,\n",
    "                                                       stratify=y)"
   ]
  },
  {
   "cell_type": "code",
   "execution_count": 116,
   "id": "54176c53",
   "metadata": {},
   "outputs": [
    {
     "data": {
      "image/png": "[encoded data removed]",
      "text/plain": [
       "<Figure size 720x576 with 1 Axes>"
      ]
     },
     "metadata": {
      "needs_background": "light"
     },
     "output_type": "display_data"
    }
   ],
   "source": [
    "plt.figure(figsize = (10,8))\n",
    "\n",
    "plt.scatter(X_train,y_train)\n",
    "plt.ylim((-.1,1.1))\n",
    "plt.xlabel(\"Feature\",fontsize = 16)\n",
    "plt.ylabel(\"Class\",fontsize = 16)\n",
    "\n",
    "plt.show()"
   ]
  },
  {
   "cell_type": "code",
   "execution_count": 117,
   "id": "31b3b0d3",
   "metadata": {},
   "outputs": [],
   "source": [
    "#as expected we have 4 categories"
   ]
  },
  {
   "cell_type": "code",
   "execution_count": 118,
   "id": "a20c1b57",
   "metadata": {},
   "outputs": [],
   "source": [
    "## import LogisticRegression\n",
    "from sklearn.linear_model import LogisticRegression"
   ]
  },
  {
   "cell_type": "code",
   "execution_count": 120,
   "id": "b5469630",
   "metadata": {},
   "outputs": [
    {
     "data": {
      "text/plain": [
       "LogisticRegression()"
      ]
     },
     "execution_count": 120,
     "metadata": {},
     "output_type": "execute_result"
    }
   ],
   "source": [
    "## make model object\n",
    "log_reg = LogisticRegression()\n",
    "\n",
    "## fit the model\n",
    "log_reg.fit(X_train, y_train)"
   ]
  },
  {
   "cell_type": "code",
   "execution_count": 121,
   "id": "8081df91",
   "metadata": {},
   "outputs": [],
   "source": [
    "## Demonstrate predict\n",
    "y_pred=log_reg.predict(X_train)"
   ]
  },
  {
   "cell_type": "code",
   "execution_count": 122,
   "id": "0c96aed7",
   "metadata": {},
   "outputs": [
    {
     "data": {
      "text/plain": [
       "array([[0.87869106, 0.12130894],\n",
       "       [0.87869106, 0.12130894],\n",
       "       [0.9955664 , 0.0044336 ],\n",
       "       ...,\n",
       "       [0.87869106, 0.12130894],\n",
       "       [0.87869106, 0.12130894],\n",
       "       [0.87869106, 0.12130894]])"
      ]
     },
     "execution_count": 122,
     "metadata": {},
     "output_type": "execute_result"
    }
   ],
   "source": [
    "## Demonstrate predict_proba\n",
    "log_reg.predict_proba(X_train)"
   ]
  },
  {
   "cell_type": "code",
   "execution_count": 123,
   "id": "27f14cc9",
   "metadata": {
    "scrolled": true
   },
   "outputs": [
    {
     "data": {
      "image/png": "[encoded data removed]",
      "text/plain": [
       "<Figure size 720x576 with 1 Axes>"
      ]
     },
     "metadata": {
      "needs_background": "light"
     },
     "output_type": "display_data"
    }
   ],
   "source": [
    "# Plot figure \n",
    "plt.figure(figsize = (10,8))\n",
    "\n",
    "# With classifications we have a new method\n",
    "# predict_proba which returns the probability\n",
    "# that an observation is a certain class.\n",
    "plt.plot(np.linspace(0,1,1000),\n",
    "            log_reg.predict_proba(np.linspace(0,1,1000).reshape(-1,1))[:,1],\n",
    "            'r--',linewidth=2.5,label = \"Model Fit\")\n",
    "plt.scatter(X_train,y_train,label = 'Training Data',alpha=.7)\n",
    "plt.legend(fontsize = 14,loc = 4)\n",
    "plt.xlabel(\"Feature\",fontsize = 16)\n",
    "plt.ylabel(\"p(X)\",fontsize=16) \n",
    "\n",
    "plt.show()"
   ]
  },
  {
   "cell_type": "code",
   "execution_count": 124,
   "id": "14abb2c9",
   "metadata": {
    "scrolled": true
   },
   "outputs": [
    {
     "data": {
      "text/plain": [
       "<AxesSubplot:xlabel='Predicted', ylabel='Actual'>"
      ]
     },
     "execution_count": 124,
     "metadata": {},
     "output_type": "execute_result"
    },
    {
     "data": {
      "image/png": "[encoded data removed]",
      "text/plain": [
       "<Figure size 432x288 with 2 Axes>"
      ]
     },
     "metadata": {
      "needs_background": "light"
     },
     "output_type": "display_data"
    }
   ],
   "source": [
    "confusion_matrix = pd.crosstab(y_train, y_pred, rownames=['Actual'], colnames=['Predicted'])\n",
    "sn.heatmap(confusion_matrix, annot=True)"
   ]
  },
  {
   "cell_type": "code",
   "execution_count": 126,
   "id": "0556a621",
   "metadata": {},
   "outputs": [],
   "source": [
    "from sklearn import metrics"
   ]
  },
  {
   "cell_type": "code",
   "execution_count": 127,
   "id": "05a23910",
   "metadata": {},
   "outputs": [
    {
     "name": "stdout",
     "output_type": "stream",
     "text": [
      "Accuracy:  0.922102615454307\n"
     ]
    }
   ],
   "source": [
    "print('Accuracy: ',metrics.accuracy_score(y_train, y_pred))\n",
    "plt.show()"
   ]
  },
  {
   "cell_type": "code",
   "execution_count": 129,
   "id": "420e1184",
   "metadata": {},
   "outputs": [
    {
     "data": {
      "text/plain": [
       "array([[3.43400686]])"
      ]
     },
     "execution_count": 129,
     "metadata": {},
     "output_type": "execute_result"
    }
   ],
   "source": [
    "#Being branded increases the likelihood of being \n",
    "log_reg.coef_"
   ]
  },
  {
   "cell_type": "code",
   "execution_count": 131,
   "id": "638bd72c",
   "metadata": {},
   "outputs": [
    {
     "data": {
      "text/plain": [
       "31.0"
      ]
     },
     "execution_count": 131,
     "metadata": {},
     "output_type": "execute_result"
    }
   ],
   "source": [
    "np.round(np.exp(1*log_reg.coef_[0][0]),2)"
   ]
  },
  {
   "cell_type": "code",
   "execution_count": null,
   "id": "39802505",
   "metadata": {},
   "outputs": [],
   "source": [
    "#Getting branded medicine increases the probability of getting rejected by 31.0"
   ]
  }
 ],
 "metadata": {
  "kernelspec": {
   "display_name": "Python 3",
   "language": "python",
   "name": "python3"
  },
  "language_info": {
   "codemirror_mode": {
    "name": "ipython",
    "version": 3
   },
   "file_extension": ".py",
   "mimetype": "text/x-python",
   "name": "python",
   "nbconvert_exporter": "python",
   "pygments_lexer": "ipython3",
   "version": "3.8.8"
  }
 },
 "nbformat": 4,
 "nbformat_minor": 5
}
