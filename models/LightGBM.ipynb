{
 "cells": [
  {
   "cell_type": "code",
   "execution_count": 1,
   "id": "23519675-ebf9-42be-896c-edadba2cc0d4",
   "metadata": {},
   "outputs": [],
   "source": [
    "import pandas as pd\n",
    "import numpy as np\n",
    "import lightgbm as lgbm\n",
    "import datetime\n",
    "from sklearn.preprocessing import OrdinalEncoder\n",
    "from sklearn.model_selection import KFold, train_test_split\n",
    "from sklearn.metrics import mean_squared_error as mse\n",
    "from sklearn.metrics import make_scorer\n",
    "from sklearn.model_selection import cross_val_score"
   ]
  },
  {
   "cell_type": "code",
   "execution_count": 2,
   "id": "27ef04d8-734c-4bc3-853c-480472204c22",
   "metadata": {},
   "outputs": [],
   "source": [
    "df = pd.read_csv('pharmacy_tx.csv') "
   ]
  },
  {
   "cell_type": "code",
   "execution_count": 3,
   "id": "30647ccc-3b8f-4dd0-9179-09b960966233",
   "metadata": {},
   "outputs": [],
   "source": [
    "df[['type', 'drug']]=df['drug'].str.split(' ', expand = True)\n",
    "df['tx_date'] = pd.to_datetime(df['tx_date'])"
   ]
  },
  {
   "cell_type": "code",
   "execution_count": 4,
   "id": "813181d4-a3f3-4a6c-90b8-43447f5dbdec",
   "metadata": {},
   "outputs": [
    {
     "data": {
      "text/html": [
       "<div>\n",
       "<style scoped>\n",
       "    .dataframe tbody tr th:only-of-type {\n",
       "        vertical-align: middle;\n",
       "    }\n",
       "\n",
       "    .dataframe tbody tr th {\n",
       "        vertical-align: top;\n",
       "    }\n",
       "\n",
       "    .dataframe thead th {\n",
       "        text-align: right;\n",
       "    }\n",
       "</style>\n",
       "<table border=\"1\" class=\"dataframe\">\n",
       "  <thead>\n",
       "    <tr style=\"text-align: right;\">\n",
       "      <th></th>\n",
       "      <th>tx_date</th>\n",
       "      <th>pharmacy</th>\n",
       "      <th>diagnosis</th>\n",
       "      <th>drug</th>\n",
       "      <th>bin</th>\n",
       "      <th>pcn</th>\n",
       "      <th>group</th>\n",
       "      <th>rejected</th>\n",
       "      <th>patient_pay</th>\n",
       "      <th>type</th>\n",
       "    </tr>\n",
       "  </thead>\n",
       "  <tbody>\n",
       "    <tr>\n",
       "      <th>0</th>\n",
       "      <td>2022-01-02</td>\n",
       "      <td>Pharmacy #6</td>\n",
       "      <td>G99.93</td>\n",
       "      <td>tanoclolol</td>\n",
       "      <td>725700</td>\n",
       "      <td>1UQC</td>\n",
       "      <td>NaN</td>\n",
       "      <td>False</td>\n",
       "      <td>13.39</td>\n",
       "      <td>branded</td>\n",
       "    </tr>\n",
       "    <tr>\n",
       "      <th>1</th>\n",
       "      <td>2022-01-02</td>\n",
       "      <td>Pharmacy #42</td>\n",
       "      <td>U60.52</td>\n",
       "      <td>oxasoted</td>\n",
       "      <td>664344</td>\n",
       "      <td>NaN</td>\n",
       "      <td>52H8KH0F83K</td>\n",
       "      <td>False</td>\n",
       "      <td>7.02</td>\n",
       "      <td>branded</td>\n",
       "    </tr>\n",
       "    <tr>\n",
       "      <th>2</th>\n",
       "      <td>2022-01-02</td>\n",
       "      <td>Pharmacy #37</td>\n",
       "      <td>Q85.91</td>\n",
       "      <td>cupitelol</td>\n",
       "      <td>725700</td>\n",
       "      <td>1UQC</td>\n",
       "      <td>NaN</td>\n",
       "      <td>False</td>\n",
       "      <td>13.39</td>\n",
       "      <td>branded</td>\n",
       "    </tr>\n",
       "    <tr>\n",
       "      <th>3</th>\n",
       "      <td>2022-01-02</td>\n",
       "      <td>Pharmacy #30</td>\n",
       "      <td>U60.52</td>\n",
       "      <td>oxasoted</td>\n",
       "      <td>571569</td>\n",
       "      <td>KB38N</td>\n",
       "      <td>6BYJBW</td>\n",
       "      <td>False</td>\n",
       "      <td>10.84</td>\n",
       "      <td>generic</td>\n",
       "    </tr>\n",
       "    <tr>\n",
       "      <th>4</th>\n",
       "      <td>2022-01-02</td>\n",
       "      <td>Pharmacy #18</td>\n",
       "      <td>N55.01</td>\n",
       "      <td>mamate</td>\n",
       "      <td>664344</td>\n",
       "      <td>NaN</td>\n",
       "      <td>ZX2QUWR</td>\n",
       "      <td>False</td>\n",
       "      <td>47.00</td>\n",
       "      <td>branded</td>\n",
       "    </tr>\n",
       "    <tr>\n",
       "      <th>...</th>\n",
       "      <td>...</td>\n",
       "      <td>...</td>\n",
       "      <td>...</td>\n",
       "      <td>...</td>\n",
       "      <td>...</td>\n",
       "      <td>...</td>\n",
       "      <td>...</td>\n",
       "      <td>...</td>\n",
       "      <td>...</td>\n",
       "      <td>...</td>\n",
       "    </tr>\n",
       "    <tr>\n",
       "      <th>13910239</th>\n",
       "      <td>2022-12-30</td>\n",
       "      <td>Pharmacy #42</td>\n",
       "      <td>U27.71</td>\n",
       "      <td>colifunene</td>\n",
       "      <td>322463</td>\n",
       "      <td>NaN</td>\n",
       "      <td>HO8HUGL</td>\n",
       "      <td>True</td>\n",
       "      <td>0.00</td>\n",
       "      <td>branded</td>\n",
       "    </tr>\n",
       "    <tr>\n",
       "      <th>13910240</th>\n",
       "      <td>2022-12-30</td>\n",
       "      <td>Pharmacy #45</td>\n",
       "      <td>N59.44</td>\n",
       "      <td>tafistitrisin</td>\n",
       "      <td>664344</td>\n",
       "      <td>NaN</td>\n",
       "      <td>TFZOR5R49</td>\n",
       "      <td>False</td>\n",
       "      <td>6.28</td>\n",
       "      <td>generic</td>\n",
       "    </tr>\n",
       "    <tr>\n",
       "      <th>13910241</th>\n",
       "      <td>2022-12-30</td>\n",
       "      <td>Pharmacy #54</td>\n",
       "      <td>W50.87</td>\n",
       "      <td>tanoclolol</td>\n",
       "      <td>691847</td>\n",
       "      <td>N098KI</td>\n",
       "      <td>6SP1DG</td>\n",
       "      <td>False</td>\n",
       "      <td>6.94</td>\n",
       "      <td>generic</td>\n",
       "    </tr>\n",
       "    <tr>\n",
       "      <th>13910242</th>\n",
       "      <td>2022-12-30</td>\n",
       "      <td>Pharmacy #0</td>\n",
       "      <td>I68.27</td>\n",
       "      <td>prazinib</td>\n",
       "      <td>96934</td>\n",
       "      <td>S76J7V6</td>\n",
       "      <td>NaN</td>\n",
       "      <td>False</td>\n",
       "      <td>13.93</td>\n",
       "      <td>branded</td>\n",
       "    </tr>\n",
       "    <tr>\n",
       "      <th>13910243</th>\n",
       "      <td>2022-12-30</td>\n",
       "      <td>Pharmacy #46</td>\n",
       "      <td>G99.93</td>\n",
       "      <td>bovirol</td>\n",
       "      <td>322463</td>\n",
       "      <td>3O71UTS</td>\n",
       "      <td>NaN</td>\n",
       "      <td>False</td>\n",
       "      <td>12.22</td>\n",
       "      <td>branded</td>\n",
       "    </tr>\n",
       "  </tbody>\n",
       "</table>\n",
       "<p>13910244 rows × 10 columns</p>\n",
       "</div>"
      ],
      "text/plain": [
       "            tx_date      pharmacy diagnosis           drug     bin      pcn  \\\n",
       "0        2022-01-02   Pharmacy #6    G99.93     tanoclolol  725700     1UQC   \n",
       "1        2022-01-02  Pharmacy #42    U60.52       oxasoted  664344      NaN   \n",
       "2        2022-01-02  Pharmacy #37    Q85.91      cupitelol  725700     1UQC   \n",
       "3        2022-01-02  Pharmacy #30    U60.52       oxasoted  571569    KB38N   \n",
       "4        2022-01-02  Pharmacy #18    N55.01         mamate  664344      NaN   \n",
       "...             ...           ...       ...            ...     ...      ...   \n",
       "13910239 2022-12-30  Pharmacy #42    U27.71     colifunene  322463      NaN   \n",
       "13910240 2022-12-30  Pharmacy #45    N59.44  tafistitrisin  664344      NaN   \n",
       "13910241 2022-12-30  Pharmacy #54    W50.87     tanoclolol  691847   N098KI   \n",
       "13910242 2022-12-30   Pharmacy #0    I68.27       prazinib   96934  S76J7V6   \n",
       "13910243 2022-12-30  Pharmacy #46    G99.93        bovirol  322463  3O71UTS   \n",
       "\n",
       "                group  rejected  patient_pay     type  \n",
       "0                 NaN     False        13.39  branded  \n",
       "1         52H8KH0F83K     False         7.02  branded  \n",
       "2                 NaN     False        13.39  branded  \n",
       "3              6BYJBW     False        10.84  generic  \n",
       "4             ZX2QUWR     False        47.00  branded  \n",
       "...               ...       ...          ...      ...  \n",
       "13910239      HO8HUGL      True         0.00  branded  \n",
       "13910240    TFZOR5R49     False         6.28  generic  \n",
       "13910241       6SP1DG     False         6.94  generic  \n",
       "13910242          NaN     False        13.93  branded  \n",
       "13910243          NaN     False        12.22  branded  \n",
       "\n",
       "[13910244 rows x 10 columns]"
      ]
     },
     "execution_count": 4,
     "metadata": {},
     "output_type": "execute_result"
    }
   ],
   "source": [
    "df"
   ]
  },
  {
   "cell_type": "code",
   "execution_count": 5,
   "id": "accd7f92-4d9e-4a2e-b34e-39e6b3199eb7",
   "metadata": {},
   "outputs": [],
   "source": [
    "col = ['pharmacy', 'diagnosis', 'drug', 'bin', 'pcn', 'group', 'type']"
   ]
  },
  {
   "cell_type": "code",
   "execution_count": 6,
   "id": "ed7d017d-a433-44c0-8221-9542261ba801",
   "metadata": {},
   "outputs": [],
   "source": [
    "enc = OrdinalEncoder()\n",
    "for i in col:\n",
    "    df[i] = enc.fit_transform(df[[i]])"
   ]
  },
  {
   "cell_type": "code",
   "execution_count": 7,
   "id": "ef86caeb-716e-4870-8593-945c31347391",
   "metadata": {},
   "outputs": [
    {
     "data": {
      "text/html": [
       "<div>\n",
       "<style scoped>\n",
       "    .dataframe tbody tr th:only-of-type {\n",
       "        vertical-align: middle;\n",
       "    }\n",
       "\n",
       "    .dataframe tbody tr th {\n",
       "        vertical-align: top;\n",
       "    }\n",
       "\n",
       "    .dataframe thead th {\n",
       "        text-align: right;\n",
       "    }\n",
       "</style>\n",
       "<table border=\"1\" class=\"dataframe\">\n",
       "  <thead>\n",
       "    <tr style=\"text-align: right;\">\n",
       "      <th></th>\n",
       "      <th>tx_date</th>\n",
       "      <th>pharmacy</th>\n",
       "      <th>diagnosis</th>\n",
       "      <th>drug</th>\n",
       "      <th>bin</th>\n",
       "      <th>pcn</th>\n",
       "      <th>group</th>\n",
       "      <th>rejected</th>\n",
       "      <th>patient_pay</th>\n",
       "      <th>type</th>\n",
       "    </tr>\n",
       "  </thead>\n",
       "  <tbody>\n",
       "    <tr>\n",
       "      <th>0</th>\n",
       "      <td>2022-01-02</td>\n",
       "      <td>54.0</td>\n",
       "      <td>37.0</td>\n",
       "      <td>67.0</td>\n",
       "      <td>8.0</td>\n",
       "      <td>0.0</td>\n",
       "      <td>NaN</td>\n",
       "      <td>False</td>\n",
       "      <td>13.39</td>\n",
       "      <td>0.0</td>\n",
       "    </tr>\n",
       "    <tr>\n",
       "      <th>1</th>\n",
       "      <td>2022-01-02</td>\n",
       "      <td>37.0</td>\n",
       "      <td>102.0</td>\n",
       "      <td>48.0</td>\n",
       "      <td>5.0</td>\n",
       "      <td>NaN</td>\n",
       "      <td>4.0</td>\n",
       "      <td>False</td>\n",
       "      <td>7.02</td>\n",
       "      <td>0.0</td>\n",
       "    </tr>\n",
       "    <tr>\n",
       "      <th>2</th>\n",
       "      <td>2022-01-02</td>\n",
       "      <td>31.0</td>\n",
       "      <td>89.0</td>\n",
       "      <td>8.0</td>\n",
       "      <td>8.0</td>\n",
       "      <td>0.0</td>\n",
       "      <td>NaN</td>\n",
       "      <td>False</td>\n",
       "      <td>13.39</td>\n",
       "      <td>0.0</td>\n",
       "    </tr>\n",
       "    <tr>\n",
       "      <th>3</th>\n",
       "      <td>2022-01-02</td>\n",
       "      <td>24.0</td>\n",
       "      <td>102.0</td>\n",
       "      <td>48.0</td>\n",
       "      <td>4.0</td>\n",
       "      <td>21.0</td>\n",
       "      <td>5.0</td>\n",
       "      <td>False</td>\n",
       "      <td>10.84</td>\n",
       "      <td>1.0</td>\n",
       "    </tr>\n",
       "    <tr>\n",
       "      <th>4</th>\n",
       "      <td>2022-01-02</td>\n",
       "      <td>10.0</td>\n",
       "      <td>75.0</td>\n",
       "      <td>38.0</td>\n",
       "      <td>5.0</td>\n",
       "      <td>NaN</td>\n",
       "      <td>47.0</td>\n",
       "      <td>False</td>\n",
       "      <td>47.00</td>\n",
       "      <td>0.0</td>\n",
       "    </tr>\n",
       "    <tr>\n",
       "      <th>...</th>\n",
       "      <td>...</td>\n",
       "      <td>...</td>\n",
       "      <td>...</td>\n",
       "      <td>...</td>\n",
       "      <td>...</td>\n",
       "      <td>...</td>\n",
       "      <td>...</td>\n",
       "      <td>...</td>\n",
       "      <td>...</td>\n",
       "      <td>...</td>\n",
       "    </tr>\n",
       "    <tr>\n",
       "      <th>13910239</th>\n",
       "      <td>2022-12-30</td>\n",
       "      <td>37.0</td>\n",
       "      <td>100.0</td>\n",
       "      <td>7.0</td>\n",
       "      <td>2.0</td>\n",
       "      <td>NaN</td>\n",
       "      <td>20.0</td>\n",
       "      <td>True</td>\n",
       "      <td>0.00</td>\n",
       "      <td>0.0</td>\n",
       "    </tr>\n",
       "    <tr>\n",
       "      <th>13910240</th>\n",
       "      <td>2022-12-30</td>\n",
       "      <td>40.0</td>\n",
       "      <td>76.0</td>\n",
       "      <td>66.0</td>\n",
       "      <td>5.0</td>\n",
       "      <td>NaN</td>\n",
       "      <td>38.0</td>\n",
       "      <td>False</td>\n",
       "      <td>6.28</td>\n",
       "      <td>1.0</td>\n",
       "    </tr>\n",
       "    <tr>\n",
       "      <th>13910241</th>\n",
       "      <td>2022-12-30</td>\n",
       "      <td>50.0</td>\n",
       "      <td>115.0</td>\n",
       "      <td>67.0</td>\n",
       "      <td>6.0</td>\n",
       "      <td>25.0</td>\n",
       "      <td>6.0</td>\n",
       "      <td>False</td>\n",
       "      <td>6.94</td>\n",
       "      <td>1.0</td>\n",
       "    </tr>\n",
       "    <tr>\n",
       "      <th>13910242</th>\n",
       "      <td>2022-12-30</td>\n",
       "      <td>0.0</td>\n",
       "      <td>52.0</td>\n",
       "      <td>52.0</td>\n",
       "      <td>0.0</td>\n",
       "      <td>34.0</td>\n",
       "      <td>NaN</td>\n",
       "      <td>False</td>\n",
       "      <td>13.93</td>\n",
       "      <td>0.0</td>\n",
       "    </tr>\n",
       "    <tr>\n",
       "      <th>13910243</th>\n",
       "      <td>2022-12-30</td>\n",
       "      <td>41.0</td>\n",
       "      <td>37.0</td>\n",
       "      <td>1.0</td>\n",
       "      <td>2.0</td>\n",
       "      <td>4.0</td>\n",
       "      <td>NaN</td>\n",
       "      <td>False</td>\n",
       "      <td>12.22</td>\n",
       "      <td>0.0</td>\n",
       "    </tr>\n",
       "  </tbody>\n",
       "</table>\n",
       "<p>13910244 rows × 10 columns</p>\n",
       "</div>"
      ],
      "text/plain": [
       "            tx_date  pharmacy  diagnosis  drug  bin   pcn  group  rejected  \\\n",
       "0        2022-01-02      54.0       37.0  67.0  8.0   0.0    NaN     False   \n",
       "1        2022-01-02      37.0      102.0  48.0  5.0   NaN    4.0     False   \n",
       "2        2022-01-02      31.0       89.0   8.0  8.0   0.0    NaN     False   \n",
       "3        2022-01-02      24.0      102.0  48.0  4.0  21.0    5.0     False   \n",
       "4        2022-01-02      10.0       75.0  38.0  5.0   NaN   47.0     False   \n",
       "...             ...       ...        ...   ...  ...   ...    ...       ...   \n",
       "13910239 2022-12-30      37.0      100.0   7.0  2.0   NaN   20.0      True   \n",
       "13910240 2022-12-30      40.0       76.0  66.0  5.0   NaN   38.0     False   \n",
       "13910241 2022-12-30      50.0      115.0  67.0  6.0  25.0    6.0     False   \n",
       "13910242 2022-12-30       0.0       52.0  52.0  0.0  34.0    NaN     False   \n",
       "13910243 2022-12-30      41.0       37.0   1.0  2.0   4.0    NaN     False   \n",
       "\n",
       "          patient_pay  type  \n",
       "0               13.39   0.0  \n",
       "1                7.02   0.0  \n",
       "2               13.39   0.0  \n",
       "3               10.84   1.0  \n",
       "4               47.00   0.0  \n",
       "...               ...   ...  \n",
       "13910239         0.00   0.0  \n",
       "13910240         6.28   1.0  \n",
       "13910241         6.94   1.0  \n",
       "13910242        13.93   0.0  \n",
       "13910243        12.22   0.0  \n",
       "\n",
       "[13910244 rows x 10 columns]"
      ]
     },
     "execution_count": 7,
     "metadata": {},
     "output_type": "execute_result"
    }
   ],
   "source": [
    "df"
   ]
  },
  {
   "cell_type": "code",
   "execution_count": 8,
   "id": "da1066ac-42c9-4f80-b2eb-e0e8e8ad85ea",
   "metadata": {
    "tags": []
   },
   "outputs": [],
   "source": [
    "#X = pd.concat([(df['tx_date'].astype('int') - df['tx_date'].astype('int')[0])/86400000000000, df.drop(columns=['tx_date','rejected','patient_pay'])], axis=1)\n",
    "X = pd.concat([df['tx_date'].astype('int').astype('float'), df.drop(columns=['tx_date','rejected','patient_pay'])], axis=1)"
   ]
  },
  {
   "cell_type": "code",
   "execution_count": 9,
   "id": "8a3d7842-e796-403d-a557-b32192276a7d",
   "metadata": {},
   "outputs": [],
   "source": [
    "y = df[['rejected', 'patient_pay']]"
   ]
  },
  {
   "cell_type": "code",
   "execution_count": 10,
   "id": "e3923e97-de14-4601-bc5a-0375b58230b4",
   "metadata": {},
   "outputs": [],
   "source": [
    "X_train, X_test, y_train, y_test = train_test_split(X, y, test_size=0.2)"
   ]
  },
  {
   "cell_type": "code",
   "execution_count": 11,
   "id": "cb3034f2-9d2b-4cd2-b7ba-074df7626371",
   "metadata": {},
   "outputs": [],
   "source": [
    "reg = lgbm.LGBMRegressor(n_estimators=500)\n",
    "cl = lgbm.LGBMClassifier(n_estimators=500)"
   ]
  },
  {
   "cell_type": "code",
   "execution_count": 12,
   "id": "98707576-349f-40e8-b823-ea8e92aacfdc",
   "metadata": {},
   "outputs": [
    {
     "name": "stderr",
     "output_type": "stream",
     "text": [
      "/opt/homebrew/lib/python3.9/site-packages/lightgbm/basic.py:2065: UserWarning: Using categorical_feature in Dataset.\n",
      "  _log_warning('Using categorical_feature in Dataset.')\n",
      "/opt/homebrew/lib/python3.9/site-packages/lightgbm/basic.py:2065: UserWarning: Using categorical_feature in Dataset.\n",
      "  _log_warning('Using categorical_feature in Dataset.')\n"
     ]
    },
    {
     "data": {
      "text/html": [
       "<style>#sk-container-id-1 {color: black;background-color: white;}#sk-container-id-1 pre{padding: 0;}#sk-container-id-1 div.sk-toggleable {background-color: white;}#sk-container-id-1 label.sk-toggleable__label {cursor: pointer;display: block;width: 100%;margin-bottom: 0;padding: 0.3em;box-sizing: border-box;text-align: center;}#sk-container-id-1 label.sk-toggleable__label-arrow:before {content: \"▸\";float: left;margin-right: 0.25em;color: #696969;}#sk-container-id-1 label.sk-toggleable__label-arrow:hover:before {color: black;}#sk-container-id-1 div.sk-estimator:hover label.sk-toggleable__label-arrow:before {color: black;}#sk-container-id-1 div.sk-toggleable__content {max-height: 0;max-width: 0;overflow: hidden;text-align: left;background-color: #f0f8ff;}#sk-container-id-1 div.sk-toggleable__content pre {margin: 0.2em;color: black;border-radius: 0.25em;background-color: #f0f8ff;}#sk-container-id-1 input.sk-toggleable__control:checked~div.sk-toggleable__content {max-height: 200px;max-width: 100%;overflow: auto;}#sk-container-id-1 input.sk-toggleable__control:checked~label.sk-toggleable__label-arrow:before {content: \"▾\";}#sk-container-id-1 div.sk-estimator input.sk-toggleable__control:checked~label.sk-toggleable__label {background-color: #d4ebff;}#sk-container-id-1 div.sk-label input.sk-toggleable__control:checked~label.sk-toggleable__label {background-color: #d4ebff;}#sk-container-id-1 input.sk-hidden--visually {border: 0;clip: rect(1px 1px 1px 1px);clip: rect(1px, 1px, 1px, 1px);height: 1px;margin: -1px;overflow: hidden;padding: 0;position: absolute;width: 1px;}#sk-container-id-1 div.sk-estimator {font-family: monospace;background-color: #f0f8ff;border: 1px dotted black;border-radius: 0.25em;box-sizing: border-box;margin-bottom: 0.5em;}#sk-container-id-1 div.sk-estimator:hover {background-color: #d4ebff;}#sk-container-id-1 div.sk-parallel-item::after {content: \"\";width: 100%;border-bottom: 1px solid gray;flex-grow: 1;}#sk-container-id-1 div.sk-label:hover label.sk-toggleable__label {background-color: #d4ebff;}#sk-container-id-1 div.sk-serial::before {content: \"\";position: absolute;border-left: 1px solid gray;box-sizing: border-box;top: 0;bottom: 0;left: 50%;z-index: 0;}#sk-container-id-1 div.sk-serial {display: flex;flex-direction: column;align-items: center;background-color: white;padding-right: 0.2em;padding-left: 0.2em;position: relative;}#sk-container-id-1 div.sk-item {position: relative;z-index: 1;}#sk-container-id-1 div.sk-parallel {display: flex;align-items: stretch;justify-content: center;background-color: white;position: relative;}#sk-container-id-1 div.sk-item::before, #sk-container-id-1 div.sk-parallel-item::before {content: \"\";position: absolute;border-left: 1px solid gray;box-sizing: border-box;top: 0;bottom: 0;left: 50%;z-index: -1;}#sk-container-id-1 div.sk-parallel-item {display: flex;flex-direction: column;z-index: 1;position: relative;background-color: white;}#sk-container-id-1 div.sk-parallel-item:first-child::after {align-self: flex-end;width: 50%;}#sk-container-id-1 div.sk-parallel-item:last-child::after {align-self: flex-start;width: 50%;}#sk-container-id-1 div.sk-parallel-item:only-child::after {width: 0;}#sk-container-id-1 div.sk-dashed-wrapped {border: 1px dashed gray;margin: 0 0.4em 0.5em 0.4em;box-sizing: border-box;padding-bottom: 0.4em;background-color: white;}#sk-container-id-1 div.sk-label label {font-family: monospace;font-weight: bold;display: inline-block;line-height: 1.2em;}#sk-container-id-1 div.sk-label-container {text-align: center;}#sk-container-id-1 div.sk-container {/* jupyter's `normalize.less` sets `[hidden] { display: none; }` but bootstrap.min.css set `[hidden] { display: none !important; }` so we also need the `!important` here to be able to override the default hidden behavior on the sphinx rendered scikit-learn.org. See: https://github.com/scikit-learn/scikit-learn/issues/21755 */display: inline-block !important;position: relative;}#sk-container-id-1 div.sk-text-repr-fallback {display: none;}</style><div id=\"sk-container-id-1\" class=\"sk-top-container\"><div class=\"sk-text-repr-fallback\"><pre>LGBMClassifier(n_estimators=500)</pre><b>In a Jupyter environment, please rerun this cell to show the HTML representation or trust the notebook. <br />On GitHub, the HTML representation is unable to render, please try loading this page with nbviewer.org.</b></div><div class=\"sk-container\" hidden><div class=\"sk-item\"><div class=\"sk-estimator sk-toggleable\"><input class=\"sk-toggleable__control sk-hidden--visually\" id=\"sk-estimator-id-1\" type=\"checkbox\" checked><label for=\"sk-estimator-id-1\" class=\"sk-toggleable__label sk-toggleable__label-arrow\">LGBMClassifier</label><div class=\"sk-toggleable__content\"><pre>LGBMClassifier(n_estimators=500)</pre></div></div></div></div></div>"
      ],
      "text/plain": [
       "LGBMClassifier(n_estimators=500)"
      ]
     },
     "execution_count": 12,
     "metadata": {},
     "output_type": "execute_result"
    }
   ],
   "source": [
    "reg.fit(X_train, y_train.patient_pay, categorical_feature=col)\n",
    "cl.fit(X_train, y_train.rejected, categorical_feature=col)"
   ]
  },
  {
   "cell_type": "code",
   "execution_count": 13,
   "id": "7bc209f2-3ff8-4185-9b58-513b4e302584",
   "metadata": {},
   "outputs": [],
   "source": [
    "pred1 = reg.predict(X_test)\n",
    "pred2 = cl.predict(X_test)"
   ]
  },
  {
   "cell_type": "code",
   "execution_count": 14,
   "id": "bd9edb45-23e4-4511-b768-7e0f32ce38ac",
   "metadata": {},
   "outputs": [],
   "source": [
    "finalpred = pred1* np.invert(pred2)"
   ]
  },
  {
   "cell_type": "code",
   "execution_count": 15,
   "id": "e0f7154d-91d6-403a-b914-da213b5f463d",
   "metadata": {},
   "outputs": [
    {
     "data": {
      "text/plain": [
       "626.1897894500985"
      ]
     },
     "execution_count": 15,
     "metadata": {},
     "output_type": "execute_result"
    }
   ],
   "source": [
    "mse(y_test.patient_pay, finalpred)\n",
    "\n",
    "#100 estimators\n",
    "#627.5328071344909\n",
    "\n",
    "#500 estimators\n",
    "#624.5102918545587\n",
    "\n",
    "#500 estimators with date converted to day of the year\n",
    "#624.6484785279644"
   ]
  },
  {
   "cell_type": "code",
   "execution_count": 16,
   "id": "666d6c78-c305-4730-b435-6fac9ef36903",
   "metadata": {},
   "outputs": [
    {
     "data": {
      "text/plain": [
       "25.02378447497697"
      ]
     },
     "execution_count": 16,
     "metadata": {},
     "output_type": "execute_result"
    }
   ],
   "source": [
    "np.sqrt(mse(y_test.patient_pay, finalpred))"
   ]
  },
  {
   "cell_type": "code",
   "execution_count": 17,
   "id": "24b129b1-12f8-4680-9924-70713adc0183",
   "metadata": {},
   "outputs": [],
   "source": [
    "# One such fold\n",
    "#cv_score= np.array([109.2249873 ,  82.3223107 ,  78.60574637,  78.88451118, 78.84462748])\n",
    "# Mean, STD\n",
    "#(85.79547105270053, 11.910502785502382)"
   ]
  },
  {
   "cell_type": "code",
   "execution_count": 18,
   "id": "22f213f6-d49f-422e-ae58-9ec9f4d04805",
   "metadata": {},
   "outputs": [],
   "source": [
    "featureimportance = pd.DataFrame({'LGBMRegressor':reg.feature_importances_, \n",
    "                                 'LGBMClassifier':cl.feature_importances_}, index=X.columns.values)"
   ]
  },
  {
   "cell_type": "code",
   "execution_count": 19,
   "id": "df35a964-df9c-4973-b577-40bebf04fab0",
   "metadata": {},
   "outputs": [
    {
     "data": {
      "text/html": [
       "<div>\n",
       "<style scoped>\n",
       "    .dataframe tbody tr th:only-of-type {\n",
       "        vertical-align: middle;\n",
       "    }\n",
       "\n",
       "    .dataframe tbody tr th {\n",
       "        vertical-align: top;\n",
       "    }\n",
       "\n",
       "    .dataframe thead th {\n",
       "        text-align: right;\n",
       "    }\n",
       "</style>\n",
       "<table border=\"1\" class=\"dataframe\">\n",
       "  <thead>\n",
       "    <tr style=\"text-align: right;\">\n",
       "      <th></th>\n",
       "      <th>LGBMRegressor</th>\n",
       "      <th>LGBMClassifier</th>\n",
       "    </tr>\n",
       "  </thead>\n",
       "  <tbody>\n",
       "    <tr>\n",
       "      <th>tx_date</th>\n",
       "      <td>4238</td>\n",
       "      <td>976</td>\n",
       "    </tr>\n",
       "    <tr>\n",
       "      <th>pharmacy</th>\n",
       "      <td>2791</td>\n",
       "      <td>3677</td>\n",
       "    </tr>\n",
       "    <tr>\n",
       "      <th>diagnosis</th>\n",
       "      <td>1552</td>\n",
       "      <td>2295</td>\n",
       "    </tr>\n",
       "    <tr>\n",
       "      <th>drug</th>\n",
       "      <td>2706</td>\n",
       "      <td>3409</td>\n",
       "    </tr>\n",
       "    <tr>\n",
       "      <th>bin</th>\n",
       "      <td>378</td>\n",
       "      <td>259</td>\n",
       "    </tr>\n",
       "    <tr>\n",
       "      <th>pcn</th>\n",
       "      <td>1742</td>\n",
       "      <td>2015</td>\n",
       "    </tr>\n",
       "    <tr>\n",
       "      <th>group</th>\n",
       "      <td>1432</td>\n",
       "      <td>1947</td>\n",
       "    </tr>\n",
       "    <tr>\n",
       "      <th>type</th>\n",
       "      <td>161</td>\n",
       "      <td>422</td>\n",
       "    </tr>\n",
       "  </tbody>\n",
       "</table>\n",
       "</div>"
      ],
      "text/plain": [
       "           LGBMRegressor  LGBMClassifier\n",
       "tx_date             4238             976\n",
       "pharmacy            2791            3677\n",
       "diagnosis           1552            2295\n",
       "drug                2706            3409\n",
       "bin                  378             259\n",
       "pcn                 1742            2015\n",
       "group               1432            1947\n",
       "type                 161             422"
      ]
     },
     "execution_count": 19,
     "metadata": {},
     "output_type": "execute_result"
    }
   ],
   "source": [
    "featureimportance"
   ]
  },
  {
   "cell_type": "code",
   "execution_count": 20,
   "id": "5dc4d501-b3e8-4f8d-8de7-59229787ddbf",
   "metadata": {},
   "outputs": [
    {
     "data": {
      "text/plain": [
       "<AxesSubplot:title={'center':'Feature Importance'}>"
      ]
     },
     "execution_count": 20,
     "metadata": {},
     "output_type": "execute_result"
    },
    {
     "data": {
      "image/png": "[encoded data removed]",
      "text/plain": [
       "<Figure size 1440x864 with 1 Axes>"
      ]
     },
     "metadata": {
      "needs_background": "light"
     },
     "output_type": "display_data"
    }
   ],
   "source": [
    "featureimportance.plot(figsize=(20,12), title='Feature Importance')"
   ]
  },
  {
   "cell_type": "code",
   "execution_count": 21,
   "id": "7e4e3a63-9f4c-4303-b952-2ffe7c08d8d2",
   "metadata": {},
   "outputs": [
    {
     "data": {
      "text/plain": [
       "0.9221458716219592"
      ]
     },
     "execution_count": 21,
     "metadata": {},
     "output_type": "execute_result"
    }
   ],
   "source": [
    "(pred2 == y_test.rejected).sum()/len(y_test)"
   ]
  },
  {
   "cell_type": "code",
   "execution_count": 22,
   "id": "6bb7d60d-2915-42a1-8bec-3998b5206270",
   "metadata": {},
   "outputs": [
    {
     "data": {
      "text/plain": [
       "216577"
      ]
     },
     "execution_count": 22,
     "metadata": {},
     "output_type": "execute_result"
    }
   ],
   "source": [
    "y_test.rejected.sum()"
   ]
  },
  {
   "cell_type": "code",
   "execution_count": 23,
   "id": "e41ec234-ed36-4ea0-b54e-9a3b70609ae4",
   "metadata": {},
   "outputs": [
    {
     "data": {
      "text/plain": [
       "61"
      ]
     },
     "execution_count": 23,
     "metadata": {},
     "output_type": "execute_result"
    }
   ],
   "source": [
    "(pred2 == True).sum()"
   ]
  },
  {
   "cell_type": "code",
   "execution_count": 24,
   "id": "46e47d76-d15b-4299-8660-a9b98cd56337",
   "metadata": {},
   "outputs": [
    {
     "data": {
      "text/plain": [
       "2782049"
      ]
     },
     "execution_count": 24,
     "metadata": {},
     "output_type": "execute_result"
    }
   ],
   "source": [
    "len(y_test)"
   ]
  },
  {
   "cell_type": "code",
   "execution_count": null,
   "id": "c17f5dc2-80fc-4d01-88d1-304cafe4e0ba",
   "metadata": {},
   "outputs": [],
   "source": []
  }
 ],
 "metadata": {
  "kernelspec": {
   "display_name": "Python 3 (ipykernel)",
   "language": "python",
   "name": "python3"
  },
  "language_info": {
   "codemirror_mode": {
    "name": "ipython",
    "version": 3
   },
   "file_extension": ".py",
   "mimetype": "text/x-python",
   "name": "python",
   "nbconvert_exporter": "python",
   "pygments_lexer": "ipython3",
   "version": "3.9.12"
  }
 },
 "nbformat": 4,
 "nbformat_minor": 5
}
