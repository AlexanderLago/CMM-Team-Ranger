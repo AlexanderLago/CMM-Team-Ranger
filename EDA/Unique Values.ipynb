{
 "cells": [
  {
   "cell_type": "markdown",
   "id": "c657fad7-6c8a-4c8b-a1bc-38385cb63cbe",
   "metadata": {},
   "source": [
    "## Getting the list of unique values\n",
    "\n",
    "This notebook will get the number of unique values for each categorical feature and what the unique values are."
   ]
  },
  {
   "cell_type": "code",
   "execution_count": 1,
   "id": "c076f2f1-258d-40ab-9f9d-98199e3887ec",
   "metadata": {},
   "outputs": [],
   "source": [
    "import pandas as pd\n",
    "import numpy as np"
   ]
  },
  {
   "cell_type": "code",
   "execution_count": 2,
   "id": "73d4e18c-87b6-46a3-9dae-4769d7feb730",
   "metadata": {},
   "outputs": [],
   "source": [
    "df = pd.read_csv('pharmacy_tx.csv')\n",
    "df[['type', 'drug']]=df['drug'].str.split(' ', expand = True)"
   ]
  },
  {
   "cell_type": "code",
   "execution_count": 3,
   "id": "9255127d-7785-4a57-a468-cd42e4260f2e",
   "metadata": {},
   "outputs": [
    {
     "data": {
      "text/plain": [
       "tx_date          363\n",
       "pharmacy          58\n",
       "diagnosis        133\n",
       "drug              77\n",
       "bin               12\n",
       "pcn               48\n",
       "group             48\n",
       "rejected           2\n",
       "patient_pay    20437\n",
       "type               2\n",
       "dtype: int64"
      ]
     },
     "execution_count": 3,
     "metadata": {},
     "output_type": "execute_result"
    }
   ],
   "source": [
    "df.nunique()"
   ]
  },
  {
   "cell_type": "code",
   "execution_count": 4,
   "id": "083230fd-0829-4542-901e-ef796e40d99a",
   "metadata": {},
   "outputs": [
    {
     "data": {
      "text/plain": [
       "array(['G99.93', 'U60.52', 'Q85.91', 'N55.01', 'K32.86', 'U27.71',\n",
       "       'I68.27', 'Q72.66', 'M42.24', 'G51.87', 'I38.43', 'P77.13',\n",
       "       'P07.55', 'C98.15', 'E71.74', 'H36.57', 'W50.87', 'Z66.42',\n",
       "       'Y11.84', 'H60.83', 'C10.29', 'N80.59', 'K87.68', 'Q74.21',\n",
       "       'V80.87', 'V97.67', 'M06.85', 'B05.36', 'D13.25', 'Z20.23',\n",
       "       'U61.13', 'C14.36', 'Z98.86', 'X75.30', 'H51.45', 'Y51.55',\n",
       "       'W40.94', 'E30.01', 'N27.23', 'E49.13', 'Z25.06', 'W45.59',\n",
       "       'G95.10', 'U06.52', 'A14.01', 'R33.59', 'H47.09', 'L85.96',\n",
       "       'U41.19', 'B45.03', 'H54.35', 'P29.44', 'I59.87', 'B03.27',\n",
       "       'H33.06', 'C48.92', 'J12.31', 'U75.95', 'A13.39', 'N48.90',\n",
       "       'Q80.97', 'C57.40', 'T57.97', 'O91.95', 'X26.32', 'Z95.40',\n",
       "       'M68.79', 'S15.62', 'B42.10', 'L68.59', 'J20.78', 'H86.54',\n",
       "       'C74.81', 'E11.62', 'L85.13', 'V90.72', 'N37.61', 'Q32.32',\n",
       "       'W82.27', 'N22.62', 'I91.91', 'W00.33', 'B84.86', 'E86.20',\n",
       "       'G10.16', 'K78.87', 'N59.44', 'Z34.94', 'L07.00', 'M31.63',\n",
       "       'P59.66', 'S78.19', 'C36.69', 'P79.51', 'C36.99', 'W33.42',\n",
       "       'H89.42', 'T44.18', 'B63.86', 'G64.90', 'E98.09', 'H96.75',\n",
       "       'X68.30', 'Y97.47', 'R52.40', 'H11.36', 'H26.61', 'G05.97',\n",
       "       'A45.07', 'G05.93', 'V70.38', 'A00.82', 'Z04.98', 'C68.95',\n",
       "       'W21.26', 'T84.94', 'T63.88', 'I42.31', 'A22.87', 'N33.46',\n",
       "       'M22.64', 'C87.86', 'W74.56', 'M50.24', 'X00.63', 'Y08.66',\n",
       "       'E78.98', 'U07.99', 'U97.42', 'Q60.75', 'C14.00', 'G27.20',\n",
       "       'J65.04'], dtype=object)"
      ]
     },
     "execution_count": 4,
     "metadata": {},
     "output_type": "execute_result"
    }
   ],
   "source": [
    "df.diagnosis.unique()"
   ]
  },
  {
   "cell_type": "code",
   "execution_count": 5,
   "id": "859c1a33-d8a6-495b-856d-9619be535466",
   "metadata": {},
   "outputs": [
    {
     "data": {
      "text/plain": [
       "I68.27    2193157\n",
       "G99.93    1386006\n",
       "K32.86    1292235\n",
       "Q85.91     775390\n",
       "W50.87     718798\n",
       "           ...   \n",
       "Y08.66         24\n",
       "G27.20         24\n",
       "N33.46         12\n",
       "X00.63         12\n",
       "J65.04         12\n",
       "Name: diagnosis, Length: 133, dtype: int64"
      ]
     },
     "execution_count": 5,
     "metadata": {},
     "output_type": "execute_result"
    }
   ],
   "source": [
    "df.diagnosis.value_counts()"
   ]
  },
  {
   "cell_type": "code",
   "execution_count": 6,
   "id": "fcbc9aeb-86c3-4d65-9266-712cee9f0880",
   "metadata": {},
   "outputs": [
    {
     "data": {
      "text/plain": [
       "array([725700, 664344, 571569,  96934, 539437, 322463, 757349, 691847,\n",
       "       160389, 956971, 718350, 756120])"
      ]
     },
     "execution_count": 6,
     "metadata": {},
     "output_type": "execute_result"
    }
   ],
   "source": [
    "df.bin.unique()"
   ]
  },
  {
   "cell_type": "code",
   "execution_count": 7,
   "id": "905339f5-cd52-48b4-bc31-5bfe30a75979",
   "metadata": {},
   "outputs": [
    {
     "data": {
      "text/plain": [
       "664344    3855462\n",
       "322463    2542376\n",
       "725700    2100642\n",
       "691847    1323776\n",
       "757349     959441\n",
       "96934      870740\n",
       "571569     774925\n",
       "539437     516933\n",
       "956971     272906\n",
       "160389     261912\n",
       "718350     256611\n",
       "756120     174520\n",
       "Name: bin, dtype: int64"
      ]
     },
     "execution_count": 7,
     "metadata": {},
     "output_type": "execute_result"
    }
   ],
   "source": [
    "df.bin.value_counts()"
   ]
  },
  {
   "cell_type": "code",
   "execution_count": 8,
   "id": "1b920dc9-fcb4-4ce6-a468-e6d7b018ef96",
   "metadata": {},
   "outputs": [
    {
     "data": {
      "text/plain": [
       "array(['1UQC', nan, 'KB38N', 'S76J7V6', '327CKV', 'CS8580', 'MSCXSG',\n",
       "       'NC7EN', 'KBOSN', '3O71UTS', 'ZQPX', 'T52GV', 'N098KI', 'DY4B',\n",
       "       'AZUO5U', '3Y5ZW0', 'RB7UU', 'RM0HB', 'BIZF', 'RAM3J', 'TAZ5W',\n",
       "       'WM6A', 'J5DT8', 'YFVIA', 'W1LW9Y', 'OO0E', 'BZ22Z2', 'P4LC',\n",
       "       '6ZGS97C', '9D24', 'T17LNK', 'TPJD', 'REGLCC', 'YICC41', 'XH4T3',\n",
       "       '7THOQ5', 'CG3ZWQ', 'IF448', 'NG4CS', '2TIC', 'MQWH09H', '393U',\n",
       "       '9C5MOR3', 'YL5CMT', '9FU70', 'ULM7G', 'W7L3', 'K5KDJ7G', 'FX2Z'],\n",
       "      dtype=object)"
      ]
     },
     "execution_count": 8,
     "metadata": {},
     "output_type": "execute_result"
    }
   ],
   "source": [
    "df.pcn.unique()"
   ]
  },
  {
   "cell_type": "code",
   "execution_count": 9,
   "id": "4b565c49-e840-4260-8bba-f4220605c328",
   "metadata": {},
   "outputs": [
    {
     "data": {
      "text/plain": [
       "327CKV     1090515\n",
       "S76J7V6     777502\n",
       "MSCXSG      713743\n",
       "3O71UTS     690356\n",
       "1UQC        676984\n",
       "KB38N       594959\n",
       "N098KI      400190\n",
       "T52GV       364750\n",
       "NC7EN       351568\n",
       "CS8580      305315\n",
       "YFVIA       291860\n",
       "WM6A        272906\n",
       "RB7UU       261912\n",
       "J5DT8       256611\n",
       "DY4B        238438\n",
       "TPJD        226317\n",
       "T17LNK      182746\n",
       "7THOQ5      174520\n",
       "TAZ5W       161867\n",
       "RM0HB       157326\n",
       "REGLCC      156307\n",
       "IF448       147338\n",
       "YICC41      132469\n",
       "3Y5ZW0      126536\n",
       "W1LW9Y      111090\n",
       "KBOSN       108027\n",
       "6ZGS97C     105167\n",
       "2TIC        103804\n",
       "BIZF        101105\n",
       "9C5MOR3     100203\n",
       "ZQPX         96356\n",
       "9D24         93238\n",
       "XH4T3        92847\n",
       "9FU70        83021\n",
       "AZUO5U       68067\n",
       "OO0E         60095\n",
       "RAM3J        47895\n",
       "P4LC         46208\n",
       "BZ22Z2       46125\n",
       "W7L3         40076\n",
       "YL5CMT       34869\n",
       "NG4CS        33271\n",
       "MQWH09H      33252\n",
       "ULM7G        30128\n",
       "393U         28893\n",
       "CG3ZWQ       25218\n",
       "K5KDJ7G      21030\n",
       "FX2Z         20263\n",
       "Name: pcn, dtype: int64"
      ]
     },
     "execution_count": 9,
     "metadata": {},
     "output_type": "execute_result"
    }
   ],
   "source": [
    "df.pcn.value_counts()"
   ]
  },
  {
   "cell_type": "code",
   "execution_count": 10,
   "id": "8521cd6d-abb4-492c-b8ae-cd780452e837",
   "metadata": {},
   "outputs": [
    {
     "data": {
      "text/plain": [
       "array([nan, '52H8KH0F83K', '6BYJBW', 'ZX2QUWR', 'IOEAN1DWVV3Y', '1CAHL',\n",
       "       'HO8HUGL', 'STGRDKR1J5RD', 'DGLGRYP', 'I4UYEP84W3',\n",
       "       'KZWQDIHCLLHD1', 'EVD4X5', '6SP1DG', 'IGN6JL34H37D', 'RS5RB3YA',\n",
       "       'SJVO3GXUURRGO', 'QK6BI1N61', '7DUPMODV0', 'T51T6V2E8L', 'L9QZA',\n",
       "       'IX6P0', 'AJK5MZ25T9IA', '0OGKQ', 'HPVSQW7M8', 'ZOYKF0N5NEO',\n",
       "       'O19XSLDEFB', 'VC81HUO7ZD', 'YY6B1J4E8KJ3', 'DYGBI610ZY',\n",
       "       'Z01MLD4I', '7LL04USF', 'BH2Q8B3GY2GAV', 'MP3IQ', '9R3Z3QKDF3',\n",
       "       'GOM8K0', 'FZPLF4O6FD', 'GQIGYFQQ2WGH', 'XK8RM5E75ZW',\n",
       "       '0TZ9XYJZJH', '7Q756WMLLV25X', 'XY5GQQ9', 'S2QKZ0OFNWS6X',\n",
       "       'U19J4RVCA', 'RGVK1', 'V96T9QL5', '77MAJF66DGD', 'TFZOR5R49',\n",
       "       '1N5IRQ', 'OD99VAJGWV'], dtype=object)"
      ]
     },
     "execution_count": 10,
     "metadata": {},
     "output_type": "execute_result"
    }
   ],
   "source": [
    "df.group.unique()"
   ]
  },
  {
   "cell_type": "code",
   "execution_count": 11,
   "id": "bc76bb70-c2de-4775-b3e9-ddbcdbd99736",
   "metadata": {},
   "outputs": [
    {
     "data": {
      "text/plain": [
       "IOEAN1DWVV3Y     1090515\n",
       "HO8HUGL          1010441\n",
       "STGRDKR1J5RD      753156\n",
       "DGLGRYP           713743\n",
       "6BYJBW            594959\n",
       "52H8KH0F83K       507920\n",
       "1CAHL             443820\n",
       "6SP1DG            400190\n",
       "EVD4X5            364750\n",
       "AJK5MZ25T9IA      291860\n",
       "L9QZA             272906\n",
       "RS5RB3YA          261912\n",
       "IX6P0             256611\n",
       "YY6B1J4E8KJ3      241607\n",
       "Z01MLD4I          182746\n",
       "T51T6V2E8L        161867\n",
       "SJVO3GXUURRGO     157326\n",
       "BH2Q8B3GY2GAV     156307\n",
       "FZPLF4O6FD        147338\n",
       "MP3IQ             132469\n",
       "DYGBI610ZY        126720\n",
       "0OGKQ             111090\n",
       "I4UYEP84W3        107321\n",
       "XK8RM5E75ZW       103804\n",
       "QK6BI1N61         101105\n",
       "S2QKZ0OFNWS6X     100203\n",
       "KZWQDIHCLLHD1      96356\n",
       "VC81HUO7ZD         93238\n",
       "GOM8K0             92847\n",
       "9R3Z3QKDF3         88372\n",
       "U19J4RVCA          83021\n",
       "ZX2QUWR            79042\n",
       "0TZ9XYJZJH         75782\n",
       "IGN6JL34H37D       68067\n",
       "HPVSQW7M8          60095\n",
       "RGVK1              56637\n",
       "7DUPMODV0          47895\n",
       "7LL04USF           46678\n",
       "O19XSLDEFB         46208\n",
       "ZOYKF0N5NEO        46125\n",
       "V96T9QL5           40076\n",
       "TFZOR5R49          39997\n",
       "GQIGYFQQ2WGH       33271\n",
       "7Q756WMLLV25X      33252\n",
       "XY5GQQ9            28893\n",
       "1N5IRQ             21030\n",
       "OD99VAJGWV         20263\n",
       "77MAJF66DGD        11388\n",
       "Name: group, dtype: int64"
      ]
     },
     "execution_count": 11,
     "metadata": {},
     "output_type": "execute_result"
    }
   ],
   "source": [
    "df.group.value_counts()"
   ]
  },
  {
   "cell_type": "code",
   "execution_count": 12,
   "id": "7c164431-e661-4dfc-b0ee-a3418e3722a5",
   "metadata": {},
   "outputs": [
    {
     "data": {
      "text/plain": [
       "array(['tanoclolol', 'oxasoted', 'cupitelol', 'mamate', 'lalol',\n",
       "       'foxivelule', 'tafistitrisin', 'prazinib', 'momudobatin',\n",
       "       'gentipapavir', 'cibroniudosin', 'rulfalol', 'keglusited',\n",
       "       'pucomalol', 'glycontazepelol', 'glycogane', 'cicrochoric',\n",
       "       'satrade', 'tovane', 'suvinicuvir', 'semufolic', 'sorine', 'ratin',\n",
       "       'hozirol', 'dienulol', 'hivir', 'diadaric', 'mule', 'tocilic',\n",
       "       'gorol', 'simarol', 'vocopirin', 'cycloxasonol', 'bovirol',\n",
       "       'brede', 'nusudaric', 'hidizuzunib', 'nephelilin', 'colifunene',\n",
       "       'antimab', 'plazamiglutic', 'vivafastat', 'tugesutin',\n",
       "       'pheromycin', 'isobrovelin', 'flacelfatastat', 'choxestamenium',\n",
       "       'colade', 'dusin', 'tricatripride', 'fazipilin', 'tocrocin',\n",
       "       'glulune', 'fumiluric', 'kediborin', 'ribosatharin',\n",
       "       'genetramycicin', 'todiadianic', 'spifistime', 'nicotilin',\n",
       "       'cuxirin', 'notin', 'gosate', 'monemodiase', 'debome',\n",
       "       'lixegimoric', 'sacrode', 'prefluflomycin', 'thiostasteglume',\n",
       "       'flalurin', 'gohevitravir', 'sizubesin', 'lehydrome', 'masonic',\n",
       "       'devacin', 'pranic', 'nenizevir'], dtype=object)"
      ]
     },
     "execution_count": 12,
     "metadata": {},
     "output_type": "execute_result"
    }
   ],
   "source": [
    "df.drug.unique()"
   ]
  },
  {
   "cell_type": "code",
   "execution_count": 13,
   "id": "d68ee40f-e6ae-42f9-9f16-b71baa550d61",
   "metadata": {},
   "outputs": [
    {
     "data": {
      "text/plain": [
       "prazinib        1711757\n",
       "rulfalol         718503\n",
       "pucomalol        556466\n",
       "mule             543372\n",
       "tanoclolol       513317\n",
       "                 ...   \n",
       "dusin              9589\n",
       "sizubesin          8130\n",
       "gohevitravir       4114\n",
       "lehydrome          2561\n",
       "nenizevir          1112\n",
       "Name: drug, Length: 77, dtype: int64"
      ]
     },
     "execution_count": 13,
     "metadata": {},
     "output_type": "execute_result"
    }
   ],
   "source": [
    "df.drug.value_counts()"
   ]
  },
  {
   "cell_type": "code",
   "execution_count": null,
   "id": "0f444133-3ed1-4381-b338-c66dcc62d42c",
   "metadata": {},
   "outputs": [],
   "source": []
  }
 ],
 "metadata": {
  "kernelspec": {
   "display_name": "Python 3 (ipykernel)",
   "language": "python",
   "name": "python3"
  },
  "language_info": {
   "codemirror_mode": {
    "name": "ipython",
    "version": 3
   },
   "file_extension": ".py",
   "mimetype": "text/x-python",
   "name": "python",
   "nbconvert_exporter": "python",
   "pygments_lexer": "ipython3",
   "version": "3.9.12"
  }
 },
 "nbformat": 4,
 "nbformat_minor": 5
}
