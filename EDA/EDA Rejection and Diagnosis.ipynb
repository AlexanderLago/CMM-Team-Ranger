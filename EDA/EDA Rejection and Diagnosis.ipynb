{
 "cells": [
  {
   "cell_type": "code",
   "execution_count": 1,
   "id": "85ec774b",
   "metadata": {},
   "outputs": [],
   "source": [
    "import pandas as pd\n",
    "import numpy as np\n",
    "\n",
    "## For plotting\n",
    "import matplotlib.pyplot as plt\n",
    "import seaborn as sn"
   ]
  },
  {
   "cell_type": "code",
   "execution_count": 2,
   "id": "15f6d502",
   "metadata": {},
   "outputs": [
    {
     "data": {
      "text/html": [
       "<div>\n",
       "<style scoped>\n",
       "    .dataframe tbody tr th:only-of-type {\n",
       "        vertical-align: middle;\n",
       "    }\n",
       "\n",
       "    .dataframe tbody tr th {\n",
       "        vertical-align: top;\n",
       "    }\n",
       "\n",
       "    .dataframe thead th {\n",
       "        text-align: right;\n",
       "    }\n",
       "</style>\n",
       "<table border=\"1\" class=\"dataframe\">\n",
       "  <thead>\n",
       "    <tr style=\"text-align: right;\">\n",
       "      <th></th>\n",
       "      <th>tx_date</th>\n",
       "      <th>pharmacy</th>\n",
       "      <th>diagnosis</th>\n",
       "      <th>drug</th>\n",
       "      <th>bin</th>\n",
       "      <th>pcn</th>\n",
       "      <th>group</th>\n",
       "      <th>rejected</th>\n",
       "      <th>patient_pay</th>\n",
       "    </tr>\n",
       "  </thead>\n",
       "  <tbody>\n",
       "    <tr>\n",
       "      <th>0</th>\n",
       "      <td>2022-01-02</td>\n",
       "      <td>Pharmacy #6</td>\n",
       "      <td>G99.93</td>\n",
       "      <td>branded tanoclolol</td>\n",
       "      <td>725700</td>\n",
       "      <td>1UQC</td>\n",
       "      <td>NaN</td>\n",
       "      <td>False</td>\n",
       "      <td>13.39</td>\n",
       "    </tr>\n",
       "    <tr>\n",
       "      <th>1</th>\n",
       "      <td>2022-01-02</td>\n",
       "      <td>Pharmacy #42</td>\n",
       "      <td>U60.52</td>\n",
       "      <td>branded oxasoted</td>\n",
       "      <td>664344</td>\n",
       "      <td>NaN</td>\n",
       "      <td>52H8KH0F83K</td>\n",
       "      <td>False</td>\n",
       "      <td>7.02</td>\n",
       "    </tr>\n",
       "    <tr>\n",
       "      <th>2</th>\n",
       "      <td>2022-01-02</td>\n",
       "      <td>Pharmacy #37</td>\n",
       "      <td>Q85.91</td>\n",
       "      <td>branded cupitelol</td>\n",
       "      <td>725700</td>\n",
       "      <td>1UQC</td>\n",
       "      <td>NaN</td>\n",
       "      <td>False</td>\n",
       "      <td>13.39</td>\n",
       "    </tr>\n",
       "    <tr>\n",
       "      <th>3</th>\n",
       "      <td>2022-01-02</td>\n",
       "      <td>Pharmacy #30</td>\n",
       "      <td>U60.52</td>\n",
       "      <td>generic oxasoted</td>\n",
       "      <td>571569</td>\n",
       "      <td>KB38N</td>\n",
       "      <td>6BYJBW</td>\n",
       "      <td>False</td>\n",
       "      <td>10.84</td>\n",
       "    </tr>\n",
       "    <tr>\n",
       "      <th>4</th>\n",
       "      <td>2022-01-02</td>\n",
       "      <td>Pharmacy #18</td>\n",
       "      <td>N55.01</td>\n",
       "      <td>branded mamate</td>\n",
       "      <td>664344</td>\n",
       "      <td>NaN</td>\n",
       "      <td>ZX2QUWR</td>\n",
       "      <td>False</td>\n",
       "      <td>47.00</td>\n",
       "    </tr>\n",
       "    <tr>\n",
       "      <th>...</th>\n",
       "      <td>...</td>\n",
       "      <td>...</td>\n",
       "      <td>...</td>\n",
       "      <td>...</td>\n",
       "      <td>...</td>\n",
       "      <td>...</td>\n",
       "      <td>...</td>\n",
       "      <td>...</td>\n",
       "      <td>...</td>\n",
       "    </tr>\n",
       "    <tr>\n",
       "      <th>13910239</th>\n",
       "      <td>2022-12-30</td>\n",
       "      <td>Pharmacy #42</td>\n",
       "      <td>U27.71</td>\n",
       "      <td>branded colifunene</td>\n",
       "      <td>322463</td>\n",
       "      <td>NaN</td>\n",
       "      <td>HO8HUGL</td>\n",
       "      <td>True</td>\n",
       "      <td>0.00</td>\n",
       "    </tr>\n",
       "    <tr>\n",
       "      <th>13910240</th>\n",
       "      <td>2022-12-30</td>\n",
       "      <td>Pharmacy #45</td>\n",
       "      <td>N59.44</td>\n",
       "      <td>generic tafistitrisin</td>\n",
       "      <td>664344</td>\n",
       "      <td>NaN</td>\n",
       "      <td>TFZOR5R49</td>\n",
       "      <td>False</td>\n",
       "      <td>6.28</td>\n",
       "    </tr>\n",
       "    <tr>\n",
       "      <th>13910241</th>\n",
       "      <td>2022-12-30</td>\n",
       "      <td>Pharmacy #54</td>\n",
       "      <td>W50.87</td>\n",
       "      <td>generic tanoclolol</td>\n",
       "      <td>691847</td>\n",
       "      <td>N098KI</td>\n",
       "      <td>6SP1DG</td>\n",
       "      <td>False</td>\n",
       "      <td>6.94</td>\n",
       "    </tr>\n",
       "    <tr>\n",
       "      <th>13910242</th>\n",
       "      <td>2022-12-30</td>\n",
       "      <td>Pharmacy #0</td>\n",
       "      <td>I68.27</td>\n",
       "      <td>branded prazinib</td>\n",
       "      <td>96934</td>\n",
       "      <td>S76J7V6</td>\n",
       "      <td>NaN</td>\n",
       "      <td>False</td>\n",
       "      <td>13.93</td>\n",
       "    </tr>\n",
       "    <tr>\n",
       "      <th>13910243</th>\n",
       "      <td>2022-12-30</td>\n",
       "      <td>Pharmacy #46</td>\n",
       "      <td>G99.93</td>\n",
       "      <td>branded bovirol</td>\n",
       "      <td>322463</td>\n",
       "      <td>3O71UTS</td>\n",
       "      <td>NaN</td>\n",
       "      <td>False</td>\n",
       "      <td>12.22</td>\n",
       "    </tr>\n",
       "  </tbody>\n",
       "</table>\n",
       "<p>13910244 rows × 9 columns</p>\n",
       "</div>"
      ],
      "text/plain": [
       "             tx_date      pharmacy diagnosis                   drug     bin  \\\n",
       "0         2022-01-02   Pharmacy #6    G99.93     branded tanoclolol  725700   \n",
       "1         2022-01-02  Pharmacy #42    U60.52       branded oxasoted  664344   \n",
       "2         2022-01-02  Pharmacy #37    Q85.91      branded cupitelol  725700   \n",
       "3         2022-01-02  Pharmacy #30    U60.52       generic oxasoted  571569   \n",
       "4         2022-01-02  Pharmacy #18    N55.01         branded mamate  664344   \n",
       "...              ...           ...       ...                    ...     ...   \n",
       "13910239  2022-12-30  Pharmacy #42    U27.71     branded colifunene  322463   \n",
       "13910240  2022-12-30  Pharmacy #45    N59.44  generic tafistitrisin  664344   \n",
       "13910241  2022-12-30  Pharmacy #54    W50.87     generic tanoclolol  691847   \n",
       "13910242  2022-12-30   Pharmacy #0    I68.27       branded prazinib   96934   \n",
       "13910243  2022-12-30  Pharmacy #46    G99.93        branded bovirol  322463   \n",
       "\n",
       "              pcn        group  rejected  patient_pay  \n",
       "0            1UQC          NaN     False        13.39  \n",
       "1             NaN  52H8KH0F83K     False         7.02  \n",
       "2            1UQC          NaN     False        13.39  \n",
       "3           KB38N       6BYJBW     False        10.84  \n",
       "4             NaN      ZX2QUWR     False        47.00  \n",
       "...           ...          ...       ...          ...  \n",
       "13910239      NaN      HO8HUGL      True         0.00  \n",
       "13910240      NaN    TFZOR5R49     False         6.28  \n",
       "13910241   N098KI       6SP1DG     False         6.94  \n",
       "13910242  S76J7V6          NaN     False        13.93  \n",
       "13910243  3O71UTS          NaN     False        12.22  \n",
       "\n",
       "[13910244 rows x 9 columns]"
      ]
     },
     "execution_count": 2,
     "metadata": {},
     "output_type": "execute_result"
    }
   ],
   "source": [
    "#read the file \n",
    "data= pd.read_csv('pharmacy_tx.csv') \n",
    "data"
   ]
  },
  {
   "cell_type": "code",
   "execution_count": 3,
   "id": "e6335b43",
   "metadata": {},
   "outputs": [],
   "source": [
    "drugsplit=data['drug'].str.split(\" \",n=1,expand=True)"
   ]
  },
  {
   "cell_type": "code",
   "execution_count": 4,
   "id": "8cd11f06",
   "metadata": {
    "scrolled": true
   },
   "outputs": [
    {
     "data": {
      "text/html": [
       "<div>\n",
       "<style scoped>\n",
       "    .dataframe tbody tr th:only-of-type {\n",
       "        vertical-align: middle;\n",
       "    }\n",
       "\n",
       "    .dataframe tbody tr th {\n",
       "        vertical-align: top;\n",
       "    }\n",
       "\n",
       "    .dataframe thead th {\n",
       "        text-align: right;\n",
       "    }\n",
       "</style>\n",
       "<table border=\"1\" class=\"dataframe\">\n",
       "  <thead>\n",
       "    <tr style=\"text-align: right;\">\n",
       "      <th></th>\n",
       "      <th>tx_date</th>\n",
       "      <th>pharmacy</th>\n",
       "      <th>diagnosis</th>\n",
       "      <th>drug</th>\n",
       "      <th>bin</th>\n",
       "      <th>pcn</th>\n",
       "      <th>group</th>\n",
       "      <th>rejected</th>\n",
       "      <th>patient_pay</th>\n",
       "      <th>Type</th>\n",
       "      <th>Drug</th>\n",
       "    </tr>\n",
       "  </thead>\n",
       "  <tbody>\n",
       "    <tr>\n",
       "      <th>0</th>\n",
       "      <td>2022-01-02</td>\n",
       "      <td>Pharmacy #6</td>\n",
       "      <td>G99.93</td>\n",
       "      <td>branded tanoclolol</td>\n",
       "      <td>725700</td>\n",
       "      <td>1UQC</td>\n",
       "      <td>NaN</td>\n",
       "      <td>False</td>\n",
       "      <td>13.39</td>\n",
       "      <td>branded</td>\n",
       "      <td>tanoclolol</td>\n",
       "    </tr>\n",
       "    <tr>\n",
       "      <th>1</th>\n",
       "      <td>2022-01-02</td>\n",
       "      <td>Pharmacy #42</td>\n",
       "      <td>U60.52</td>\n",
       "      <td>branded oxasoted</td>\n",
       "      <td>664344</td>\n",
       "      <td>NaN</td>\n",
       "      <td>52H8KH0F83K</td>\n",
       "      <td>False</td>\n",
       "      <td>7.02</td>\n",
       "      <td>branded</td>\n",
       "      <td>oxasoted</td>\n",
       "    </tr>\n",
       "    <tr>\n",
       "      <th>2</th>\n",
       "      <td>2022-01-02</td>\n",
       "      <td>Pharmacy #37</td>\n",
       "      <td>Q85.91</td>\n",
       "      <td>branded cupitelol</td>\n",
       "      <td>725700</td>\n",
       "      <td>1UQC</td>\n",
       "      <td>NaN</td>\n",
       "      <td>False</td>\n",
       "      <td>13.39</td>\n",
       "      <td>branded</td>\n",
       "      <td>cupitelol</td>\n",
       "    </tr>\n",
       "    <tr>\n",
       "      <th>3</th>\n",
       "      <td>2022-01-02</td>\n",
       "      <td>Pharmacy #30</td>\n",
       "      <td>U60.52</td>\n",
       "      <td>generic oxasoted</td>\n",
       "      <td>571569</td>\n",
       "      <td>KB38N</td>\n",
       "      <td>6BYJBW</td>\n",
       "      <td>False</td>\n",
       "      <td>10.84</td>\n",
       "      <td>generic</td>\n",
       "      <td>oxasoted</td>\n",
       "    </tr>\n",
       "    <tr>\n",
       "      <th>4</th>\n",
       "      <td>2022-01-02</td>\n",
       "      <td>Pharmacy #18</td>\n",
       "      <td>N55.01</td>\n",
       "      <td>branded mamate</td>\n",
       "      <td>664344</td>\n",
       "      <td>NaN</td>\n",
       "      <td>ZX2QUWR</td>\n",
       "      <td>False</td>\n",
       "      <td>47.00</td>\n",
       "      <td>branded</td>\n",
       "      <td>mamate</td>\n",
       "    </tr>\n",
       "    <tr>\n",
       "      <th>...</th>\n",
       "      <td>...</td>\n",
       "      <td>...</td>\n",
       "      <td>...</td>\n",
       "      <td>...</td>\n",
       "      <td>...</td>\n",
       "      <td>...</td>\n",
       "      <td>...</td>\n",
       "      <td>...</td>\n",
       "      <td>...</td>\n",
       "      <td>...</td>\n",
       "      <td>...</td>\n",
       "    </tr>\n",
       "    <tr>\n",
       "      <th>13910239</th>\n",
       "      <td>2022-12-30</td>\n",
       "      <td>Pharmacy #42</td>\n",
       "      <td>U27.71</td>\n",
       "      <td>branded colifunene</td>\n",
       "      <td>322463</td>\n",
       "      <td>NaN</td>\n",
       "      <td>HO8HUGL</td>\n",
       "      <td>True</td>\n",
       "      <td>0.00</td>\n",
       "      <td>branded</td>\n",
       "      <td>colifunene</td>\n",
       "    </tr>\n",
       "    <tr>\n",
       "      <th>13910240</th>\n",
       "      <td>2022-12-30</td>\n",
       "      <td>Pharmacy #45</td>\n",
       "      <td>N59.44</td>\n",
       "      <td>generic tafistitrisin</td>\n",
       "      <td>664344</td>\n",
       "      <td>NaN</td>\n",
       "      <td>TFZOR5R49</td>\n",
       "      <td>False</td>\n",
       "      <td>6.28</td>\n",
       "      <td>generic</td>\n",
       "      <td>tafistitrisin</td>\n",
       "    </tr>\n",
       "    <tr>\n",
       "      <th>13910241</th>\n",
       "      <td>2022-12-30</td>\n",
       "      <td>Pharmacy #54</td>\n",
       "      <td>W50.87</td>\n",
       "      <td>generic tanoclolol</td>\n",
       "      <td>691847</td>\n",
       "      <td>N098KI</td>\n",
       "      <td>6SP1DG</td>\n",
       "      <td>False</td>\n",
       "      <td>6.94</td>\n",
       "      <td>generic</td>\n",
       "      <td>tanoclolol</td>\n",
       "    </tr>\n",
       "    <tr>\n",
       "      <th>13910242</th>\n",
       "      <td>2022-12-30</td>\n",
       "      <td>Pharmacy #0</td>\n",
       "      <td>I68.27</td>\n",
       "      <td>branded prazinib</td>\n",
       "      <td>96934</td>\n",
       "      <td>S76J7V6</td>\n",
       "      <td>NaN</td>\n",
       "      <td>False</td>\n",
       "      <td>13.93</td>\n",
       "      <td>branded</td>\n",
       "      <td>prazinib</td>\n",
       "    </tr>\n",
       "    <tr>\n",
       "      <th>13910243</th>\n",
       "      <td>2022-12-30</td>\n",
       "      <td>Pharmacy #46</td>\n",
       "      <td>G99.93</td>\n",
       "      <td>branded bovirol</td>\n",
       "      <td>322463</td>\n",
       "      <td>3O71UTS</td>\n",
       "      <td>NaN</td>\n",
       "      <td>False</td>\n",
       "      <td>12.22</td>\n",
       "      <td>branded</td>\n",
       "      <td>bovirol</td>\n",
       "    </tr>\n",
       "  </tbody>\n",
       "</table>\n",
       "<p>13910244 rows × 11 columns</p>\n",
       "</div>"
      ],
      "text/plain": [
       "             tx_date      pharmacy diagnosis                   drug     bin  \\\n",
       "0         2022-01-02   Pharmacy #6    G99.93     branded tanoclolol  725700   \n",
       "1         2022-01-02  Pharmacy #42    U60.52       branded oxasoted  664344   \n",
       "2         2022-01-02  Pharmacy #37    Q85.91      branded cupitelol  725700   \n",
       "3         2022-01-02  Pharmacy #30    U60.52       generic oxasoted  571569   \n",
       "4         2022-01-02  Pharmacy #18    N55.01         branded mamate  664344   \n",
       "...              ...           ...       ...                    ...     ...   \n",
       "13910239  2022-12-30  Pharmacy #42    U27.71     branded colifunene  322463   \n",
       "13910240  2022-12-30  Pharmacy #45    N59.44  generic tafistitrisin  664344   \n",
       "13910241  2022-12-30  Pharmacy #54    W50.87     generic tanoclolol  691847   \n",
       "13910242  2022-12-30   Pharmacy #0    I68.27       branded prazinib   96934   \n",
       "13910243  2022-12-30  Pharmacy #46    G99.93        branded bovirol  322463   \n",
       "\n",
       "              pcn        group  rejected  patient_pay     Type           Drug  \n",
       "0            1UQC          NaN     False        13.39  branded     tanoclolol  \n",
       "1             NaN  52H8KH0F83K     False         7.02  branded       oxasoted  \n",
       "2            1UQC          NaN     False        13.39  branded      cupitelol  \n",
       "3           KB38N       6BYJBW     False        10.84  generic       oxasoted  \n",
       "4             NaN      ZX2QUWR     False        47.00  branded         mamate  \n",
       "...           ...          ...       ...          ...      ...            ...  \n",
       "13910239      NaN      HO8HUGL      True         0.00  branded     colifunene  \n",
       "13910240      NaN    TFZOR5R49     False         6.28  generic  tafistitrisin  \n",
       "13910241   N098KI       6SP1DG     False         6.94  generic     tanoclolol  \n",
       "13910242  S76J7V6          NaN     False        13.93  branded       prazinib  \n",
       "13910243  3O71UTS          NaN     False        12.22  branded        bovirol  \n",
       "\n",
       "[13910244 rows x 11 columns]"
      ]
     },
     "execution_count": 4,
     "metadata": {},
     "output_type": "execute_result"
    }
   ],
   "source": [
    "data['Type']=drugsplit[0]\n",
    "data['Drug']=drugsplit[1]\n",
    "data"
   ]
  },
  {
   "cell_type": "code",
   "execution_count": null,
   "id": "9bffcd3a",
   "metadata": {},
   "outputs": [],
   "source": []
  },
  {
   "cell_type": "markdown",
   "id": "4d5870ed",
   "metadata": {},
   "source": [
    "# Rejection"
   ]
  },
  {
   "cell_type": "markdown",
   "id": "9ddb210e",
   "metadata": {},
   "source": [
    "### In a previous notebook we already found a 30% increase in rejection when the drug is branded as opposed to generic.\n",
    "\n",
    "### Now we want to explore other variables \n",
    "##### Something I suspect will impact rejected is Drug, insurance(covered by andy), and possibly diagnosis."
   ]
  },
  {
   "cell_type": "code",
   "execution_count": 5,
   "id": "e520fa6e",
   "metadata": {},
   "outputs": [],
   "source": [
    "#import linear regression \n",
    "from sklearn.linear_model import LinearRegression"
   ]
  },
  {
   "cell_type": "code",
   "execution_count": 6,
   "id": "880c83b9",
   "metadata": {},
   "outputs": [],
   "source": [
    "from sklearn.model_selection import train_test_split"
   ]
  },
  {
   "cell_type": "code",
   "execution_count": 7,
   "id": "79a0e55f",
   "metadata": {},
   "outputs": [],
   "source": [
    "#data_train, data_test = train_test_split(data.copy(),\n",
    " #                                                     shuffle=True,\n",
    "  #                                                     random_state=435,\n",
    "   #                                                    test_size=.2)"
   ]
  },
  {
   "cell_type": "code",
   "execution_count": 8,
   "id": "e98e9180",
   "metadata": {},
   "outputs": [],
   "source": [
    "from sklearn import preprocessing"
   ]
  },
  {
   "cell_type": "code",
   "execution_count": 9,
   "id": "efd7aa2a",
   "metadata": {},
   "outputs": [],
   "source": [
    "data.Drug=data.Drug.astype('category').cat.codes"
   ]
  },
  {
   "cell_type": "code",
   "execution_count": 10,
   "id": "3e6f42d0",
   "metadata": {},
   "outputs": [
    {
     "data": {
      "text/plain": [
       "0           67\n",
       "1           48\n",
       "2            8\n",
       "3           48\n",
       "4           38\n",
       "            ..\n",
       "13910239     7\n",
       "13910240    66\n",
       "13910241    67\n",
       "13910242    52\n",
       "13910243     1\n",
       "Name: Drug, Length: 13910244, dtype: int8"
      ]
     },
     "execution_count": 10,
     "metadata": {},
     "output_type": "execute_result"
    }
   ],
   "source": [
    "data.Drug"
   ]
  },
  {
   "cell_type": "code",
   "execution_count": 11,
   "id": "ed8956be",
   "metadata": {
    "scrolled": true
   },
   "outputs": [
    {
     "data": {
      "text/plain": [
       "77"
      ]
     },
     "execution_count": 11,
     "metadata": {},
     "output_type": "execute_result"
    }
   ],
   "source": [
    "len(data['Drug'].unique()) #77 categories of drugs"
   ]
  },
  {
   "cell_type": "code",
   "execution_count": 12,
   "id": "8e4bcc46",
   "metadata": {},
   "outputs": [
    {
     "data": {
      "text/plain": [
       "array([67, 48,  8, 38, 35, 19, 66, 52, 40, 22,  4, 57, 34, 54, 25, 24,  5,\n",
       "       59, 72, 65, 60, 63, 55, 31, 14, 30, 13, 42, 69, 27, 61, 76, 10,  1,\n",
       "        2, 47, 29, 44,  7,  0, 50, 75, 74, 49, 32, 17,  3,  6, 15, 73, 16,\n",
       "       70, 23, 20, 33, 56, 21, 71, 64, 45,  9, 46, 28, 41, 11, 37, 58, 53,\n",
       "       68, 18, 26, 62, 36, 39, 12, 51, 43], dtype=int8)"
      ]
     },
     "execution_count": 12,
     "metadata": {},
     "output_type": "execute_result"
    }
   ],
   "source": [
    "(data['Drug'].unique())"
   ]
  },
  {
   "cell_type": "code",
   "execution_count": 43,
   "id": "bfc0c4c7",
   "metadata": {
    "scrolled": true
   },
   "outputs": [
    {
     "data": {
      "text/plain": [
       "<AxesSubplot:xlabel='Drug', ylabel='Proportion'>"
      ]
     },
     "execution_count": 43,
     "metadata": {},
     "output_type": "execute_result"
    },
    {
     "data": {
      "image/png": "[encoded data removed]",
      "text/plain": [
       "<Figure size 432x288 with 1 Axes>"
      ]
     },
     "metadata": {
      "needs_background": "light"
     },
     "output_type": "display_data"
    }
   ],
   "source": [
    "sn.ecdfplot(data = data, x = 'Drug') #CDF"
   ]
  },
  {
   "cell_type": "code",
   "execution_count": 45,
   "id": "71c19916",
   "metadata": {},
   "outputs": [
    {
     "data": {
      "text/plain": [
       "<AxesSubplot:xlabel='Drug', ylabel='count'>"
      ]
     },
     "execution_count": 45,
     "metadata": {},
     "output_type": "execute_result"
    },
    {
     "data": {
      "image/png": "[encoded data removed]",
      "text/plain": [
       "<Figure size 432x288 with 1 Axes>"
      ]
     },
     "metadata": {
      "needs_background": "light"
     },
     "output_type": "display_data"
    }
   ],
   "source": [
    "sn.countplot(data = data, x = 'Drug') # distribution of drug"
   ]
  },
  {
   "cell_type": "code",
   "execution_count": 46,
   "id": "83384f4a",
   "metadata": {},
   "outputs": [
    {
     "data": {
      "text/plain": [
       "<AxesSubplot:xlabel='Drug', ylabel='Density'>"
      ]
     },
     "execution_count": 46,
     "metadata": {},
     "output_type": "execute_result"
    },
    {
     "data": {
      "image/png": "[encoded data removed]",
      "text/plain": [
       "<Figure size 432x288 with 1 Axes>"
      ]
     },
     "metadata": {
      "needs_background": "light"
     },
     "output_type": "display_data"
    }
   ],
   "source": [
    "sn.kdeplot(data = data, x = 'Drug',bw_adjust=2) #distribution of drug variable"
   ]
  },
  {
   "cell_type": "code",
   "execution_count": 14,
   "id": "65b11c9d",
   "metadata": {},
   "outputs": [],
   "source": [
    "pd.get_dummies(data['rejected'])\n",
    "data.loc[:,\"True Rejected\"] = pd.get_dummies(data['rejected'])[True].copy()"
   ]
  },
  {
   "cell_type": "code",
   "execution_count": 15,
   "id": "52d47ec8",
   "metadata": {},
   "outputs": [
    {
     "data": {
      "text/html": [
       "<div>\n",
       "<style scoped>\n",
       "    .dataframe tbody tr th:only-of-type {\n",
       "        vertical-align: middle;\n",
       "    }\n",
       "\n",
       "    .dataframe tbody tr th {\n",
       "        vertical-align: top;\n",
       "    }\n",
       "\n",
       "    .dataframe thead th {\n",
       "        text-align: right;\n",
       "    }\n",
       "</style>\n",
       "<table border=\"1\" class=\"dataframe\">\n",
       "  <thead>\n",
       "    <tr style=\"text-align: right;\">\n",
       "      <th></th>\n",
       "      <th>tx_date</th>\n",
       "      <th>pharmacy</th>\n",
       "      <th>diagnosis</th>\n",
       "      <th>drug</th>\n",
       "      <th>bin</th>\n",
       "      <th>pcn</th>\n",
       "      <th>group</th>\n",
       "      <th>rejected</th>\n",
       "      <th>patient_pay</th>\n",
       "      <th>Type</th>\n",
       "      <th>Drug</th>\n",
       "      <th>True Rejected</th>\n",
       "    </tr>\n",
       "  </thead>\n",
       "  <tbody>\n",
       "    <tr>\n",
       "      <th>0</th>\n",
       "      <td>2022-01-02</td>\n",
       "      <td>Pharmacy #6</td>\n",
       "      <td>G99.93</td>\n",
       "      <td>branded tanoclolol</td>\n",
       "      <td>725700</td>\n",
       "      <td>1UQC</td>\n",
       "      <td>NaN</td>\n",
       "      <td>False</td>\n",
       "      <td>13.39</td>\n",
       "      <td>branded</td>\n",
       "      <td>67</td>\n",
       "      <td>0</td>\n",
       "    </tr>\n",
       "    <tr>\n",
       "      <th>1</th>\n",
       "      <td>2022-01-02</td>\n",
       "      <td>Pharmacy #42</td>\n",
       "      <td>U60.52</td>\n",
       "      <td>branded oxasoted</td>\n",
       "      <td>664344</td>\n",
       "      <td>NaN</td>\n",
       "      <td>52H8KH0F83K</td>\n",
       "      <td>False</td>\n",
       "      <td>7.02</td>\n",
       "      <td>branded</td>\n",
       "      <td>48</td>\n",
       "      <td>0</td>\n",
       "    </tr>\n",
       "    <tr>\n",
       "      <th>2</th>\n",
       "      <td>2022-01-02</td>\n",
       "      <td>Pharmacy #37</td>\n",
       "      <td>Q85.91</td>\n",
       "      <td>branded cupitelol</td>\n",
       "      <td>725700</td>\n",
       "      <td>1UQC</td>\n",
       "      <td>NaN</td>\n",
       "      <td>False</td>\n",
       "      <td>13.39</td>\n",
       "      <td>branded</td>\n",
       "      <td>8</td>\n",
       "      <td>0</td>\n",
       "    </tr>\n",
       "    <tr>\n",
       "      <th>3</th>\n",
       "      <td>2022-01-02</td>\n",
       "      <td>Pharmacy #30</td>\n",
       "      <td>U60.52</td>\n",
       "      <td>generic oxasoted</td>\n",
       "      <td>571569</td>\n",
       "      <td>KB38N</td>\n",
       "      <td>6BYJBW</td>\n",
       "      <td>False</td>\n",
       "      <td>10.84</td>\n",
       "      <td>generic</td>\n",
       "      <td>48</td>\n",
       "      <td>0</td>\n",
       "    </tr>\n",
       "    <tr>\n",
       "      <th>4</th>\n",
       "      <td>2022-01-02</td>\n",
       "      <td>Pharmacy #18</td>\n",
       "      <td>N55.01</td>\n",
       "      <td>branded mamate</td>\n",
       "      <td>664344</td>\n",
       "      <td>NaN</td>\n",
       "      <td>ZX2QUWR</td>\n",
       "      <td>False</td>\n",
       "      <td>47.00</td>\n",
       "      <td>branded</td>\n",
       "      <td>38</td>\n",
       "      <td>0</td>\n",
       "    </tr>\n",
       "    <tr>\n",
       "      <th>...</th>\n",
       "      <td>...</td>\n",
       "      <td>...</td>\n",
       "      <td>...</td>\n",
       "      <td>...</td>\n",
       "      <td>...</td>\n",
       "      <td>...</td>\n",
       "      <td>...</td>\n",
       "      <td>...</td>\n",
       "      <td>...</td>\n",
       "      <td>...</td>\n",
       "      <td>...</td>\n",
       "      <td>...</td>\n",
       "    </tr>\n",
       "    <tr>\n",
       "      <th>13910239</th>\n",
       "      <td>2022-12-30</td>\n",
       "      <td>Pharmacy #42</td>\n",
       "      <td>U27.71</td>\n",
       "      <td>branded colifunene</td>\n",
       "      <td>322463</td>\n",
       "      <td>NaN</td>\n",
       "      <td>HO8HUGL</td>\n",
       "      <td>True</td>\n",
       "      <td>0.00</td>\n",
       "      <td>branded</td>\n",
       "      <td>7</td>\n",
       "      <td>1</td>\n",
       "    </tr>\n",
       "    <tr>\n",
       "      <th>13910240</th>\n",
       "      <td>2022-12-30</td>\n",
       "      <td>Pharmacy #45</td>\n",
       "      <td>N59.44</td>\n",
       "      <td>generic tafistitrisin</td>\n",
       "      <td>664344</td>\n",
       "      <td>NaN</td>\n",
       "      <td>TFZOR5R49</td>\n",
       "      <td>False</td>\n",
       "      <td>6.28</td>\n",
       "      <td>generic</td>\n",
       "      <td>66</td>\n",
       "      <td>0</td>\n",
       "    </tr>\n",
       "    <tr>\n",
       "      <th>13910241</th>\n",
       "      <td>2022-12-30</td>\n",
       "      <td>Pharmacy #54</td>\n",
       "      <td>W50.87</td>\n",
       "      <td>generic tanoclolol</td>\n",
       "      <td>691847</td>\n",
       "      <td>N098KI</td>\n",
       "      <td>6SP1DG</td>\n",
       "      <td>False</td>\n",
       "      <td>6.94</td>\n",
       "      <td>generic</td>\n",
       "      <td>67</td>\n",
       "      <td>0</td>\n",
       "    </tr>\n",
       "    <tr>\n",
       "      <th>13910242</th>\n",
       "      <td>2022-12-30</td>\n",
       "      <td>Pharmacy #0</td>\n",
       "      <td>I68.27</td>\n",
       "      <td>branded prazinib</td>\n",
       "      <td>96934</td>\n",
       "      <td>S76J7V6</td>\n",
       "      <td>NaN</td>\n",
       "      <td>False</td>\n",
       "      <td>13.93</td>\n",
       "      <td>branded</td>\n",
       "      <td>52</td>\n",
       "      <td>0</td>\n",
       "    </tr>\n",
       "    <tr>\n",
       "      <th>13910243</th>\n",
       "      <td>2022-12-30</td>\n",
       "      <td>Pharmacy #46</td>\n",
       "      <td>G99.93</td>\n",
       "      <td>branded bovirol</td>\n",
       "      <td>322463</td>\n",
       "      <td>3O71UTS</td>\n",
       "      <td>NaN</td>\n",
       "      <td>False</td>\n",
       "      <td>12.22</td>\n",
       "      <td>branded</td>\n",
       "      <td>1</td>\n",
       "      <td>0</td>\n",
       "    </tr>\n",
       "  </tbody>\n",
       "</table>\n",
       "<p>13910244 rows × 12 columns</p>\n",
       "</div>"
      ],
      "text/plain": [
       "             tx_date      pharmacy diagnosis                   drug     bin  \\\n",
       "0         2022-01-02   Pharmacy #6    G99.93     branded tanoclolol  725700   \n",
       "1         2022-01-02  Pharmacy #42    U60.52       branded oxasoted  664344   \n",
       "2         2022-01-02  Pharmacy #37    Q85.91      branded cupitelol  725700   \n",
       "3         2022-01-02  Pharmacy #30    U60.52       generic oxasoted  571569   \n",
       "4         2022-01-02  Pharmacy #18    N55.01         branded mamate  664344   \n",
       "...              ...           ...       ...                    ...     ...   \n",
       "13910239  2022-12-30  Pharmacy #42    U27.71     branded colifunene  322463   \n",
       "13910240  2022-12-30  Pharmacy #45    N59.44  generic tafistitrisin  664344   \n",
       "13910241  2022-12-30  Pharmacy #54    W50.87     generic tanoclolol  691847   \n",
       "13910242  2022-12-30   Pharmacy #0    I68.27       branded prazinib   96934   \n",
       "13910243  2022-12-30  Pharmacy #46    G99.93        branded bovirol  322463   \n",
       "\n",
       "              pcn        group  rejected  patient_pay     Type  Drug  \\\n",
       "0            1UQC          NaN     False        13.39  branded    67   \n",
       "1             NaN  52H8KH0F83K     False         7.02  branded    48   \n",
       "2            1UQC          NaN     False        13.39  branded     8   \n",
       "3           KB38N       6BYJBW     False        10.84  generic    48   \n",
       "4             NaN      ZX2QUWR     False        47.00  branded    38   \n",
       "...           ...          ...       ...          ...      ...   ...   \n",
       "13910239      NaN      HO8HUGL      True         0.00  branded     7   \n",
       "13910240      NaN    TFZOR5R49     False         6.28  generic    66   \n",
       "13910241   N098KI       6SP1DG     False         6.94  generic    67   \n",
       "13910242  S76J7V6          NaN     False        13.93  branded    52   \n",
       "13910243  3O71UTS          NaN     False        12.22  branded     1   \n",
       "\n",
       "          True Rejected  \n",
       "0                     0  \n",
       "1                     0  \n",
       "2                     0  \n",
       "3                     0  \n",
       "4                     0  \n",
       "...                 ...  \n",
       "13910239              1  \n",
       "13910240              0  \n",
       "13910241              0  \n",
       "13910242              0  \n",
       "13910243              0  \n",
       "\n",
       "[13910244 rows x 12 columns]"
      ]
     },
     "execution_count": 15,
     "metadata": {},
     "output_type": "execute_result"
    }
   ],
   "source": [
    "data"
   ]
  },
  {
   "cell_type": "code",
   "execution_count": 16,
   "id": "b08bae21",
   "metadata": {},
   "outputs": [],
   "source": [
    "#Now we define our X_train\n",
    "X = np.ones((len(data), 2)) #intercept\n",
    "X[:,1:] = data[['Drug']].values\n",
    "y = data.patient_pay.values"
   ]
  },
  {
   "cell_type": "code",
   "execution_count": 17,
   "id": "b8be4f36",
   "metadata": {},
   "outputs": [],
   "source": [
    "## Make the model object\n",
    "## notice we have to us fit_intercept = False\n",
    "## because X_train has a column of 1s\n",
    "reg = LinearRegression(copy_X=True, fit_intercept=False)\n",
    "\n",
    "## Fit the model object\n",
    "## note I do NOT have to use reshape here\n",
    "## because X_train is a 2D np.array\n",
    "est=reg.fit(X, y)"
   ]
  },
  {
   "cell_type": "code",
   "execution_count": 18,
   "id": "de2e939e",
   "metadata": {},
   "outputs": [
    {
     "data": {
      "text/plain": [
       "array([26.61544096, -0.06339625])"
      ]
     },
     "execution_count": 18,
     "metadata": {},
     "output_type": "execute_result"
    }
   ],
   "source": [
    "## look at coef\n",
    "reg.coef_"
   ]
  },
  {
   "cell_type": "code",
   "execution_count": 19,
   "id": "de18cb82",
   "metadata": {},
   "outputs": [],
   "source": [
    "import statsmodels.api as sm"
   ]
  },
  {
   "cell_type": "code",
   "execution_count": 20,
   "id": "f323cb99",
   "metadata": {
    "scrolled": true
   },
   "outputs": [
    {
     "name": "stdout",
     "output_type": "stream",
     "text": [
      "                            OLS Regression Results                            \n",
      "==============================================================================\n",
      "Dep. Variable:                      y   R-squared:                       0.001\n",
      "Model:                            OLS   Adj. R-squared:                  0.001\n",
      "Method:                 Least Squares   F-statistic:                 1.624e+04\n",
      "Date:                Wed, 25 May 2022   Prob (F-statistic):               0.00\n",
      "Time:                        13:35:29   Log-Likelihood:            -7.0877e+07\n",
      "No. Observations:            13910244   AIC:                         1.418e+08\n",
      "Df Residuals:                13910242   BIC:                         1.418e+08\n",
      "Df Model:                           1                                         \n",
      "Covariance Type:            nonrobust                                         \n",
      "==============================================================================\n",
      "                 coef    std err          t      P>|t|      [0.025      0.975]\n",
      "------------------------------------------------------------------------------\n",
      "const         26.6154      0.023   1173.759      0.000      26.571      26.660\n",
      "x1            -0.0634      0.000   -127.432      0.000      -0.064      -0.062\n",
      "==============================================================================\n",
      "Omnibus:                 14555950.627   Durbin-Watson:                   1.999\n",
      "Prob(Omnibus):                  0.000   Jarque-Bera (JB):       1115553554.982\n",
      "Skew:                           5.274   Prob(JB):                         0.00\n",
      "Kurtosis:                      45.585   Cond. No.                         97.6\n",
      "==============================================================================\n",
      "\n",
      "Notes:\n",
      "[1] Standard Errors assume that the covariance matrix of the errors is correctly specified.\n"
     ]
    }
   ],
   "source": [
    "mod = sm.OLS(y,X)\n",
    "est = mod.fit()\n",
    "\n",
    "print(est.summary())"
   ]
  },
  {
   "cell_type": "code",
   "execution_count": 21,
   "id": "9764ca0f",
   "metadata": {},
   "outputs": [],
   "source": [
    "#Value is statistically significant. Pharmacuetical drug categories has a -6% effect on copay. "
   ]
  },
  {
   "cell_type": "code",
   "execution_count": 22,
   "id": "aab82afb",
   "metadata": {},
   "outputs": [],
   "source": [
    "#Now we define our X_train\n",
    "X = np.ones((len(data), 2)) #intercept\n",
    "X[:,1:] = data[['Drug']].values\n",
    "y = data['True Rejected']"
   ]
  },
  {
   "cell_type": "code",
   "execution_count": 23,
   "id": "b32a7ee7",
   "metadata": {
    "scrolled": true
   },
   "outputs": [
    {
     "name": "stdout",
     "output_type": "stream",
     "text": [
      "                            OLS Regression Results                            \n",
      "==============================================================================\n",
      "Dep. Variable:          True Rejected   R-squared:                       0.000\n",
      "Model:                            OLS   Adj. R-squared:                  0.000\n",
      "Method:                 Least Squares   F-statistic:                     3600.\n",
      "Date:                Wed, 25 May 2022   Prob (F-statistic):               0.00\n",
      "Time:                        13:35:35   Log-Likelihood:            -1.4392e+06\n",
      "No. Observations:            13910244   AIC:                         2.878e+06\n",
      "Df Residuals:                13910242   BIC:                         2.878e+06\n",
      "Df Model:                           1                                         \n",
      "Covariance Type:            nonrobust                                         \n",
      "==============================================================================\n",
      "                 coef    std err          t      P>|t|      [0.025      0.975]\n",
      "------------------------------------------------------------------------------\n",
      "const          0.0863      0.000    560.284      0.000       0.086       0.087\n",
      "x1            -0.0002   3.38e-06    -60.002      0.000      -0.000      -0.000\n",
      "==============================================================================\n",
      "Omnibus:                  8634105.486   Durbin-Watson:                   2.000\n",
      "Prob(Omnibus):                  0.000   Jarque-Bera (JB):         58874928.577\n",
      "Skew:                           3.143   Prob(JB):                         0.00\n",
      "Kurtosis:                      10.879   Cond. No.                         97.6\n",
      "==============================================================================\n",
      "\n",
      "Notes:\n",
      "[1] Standard Errors assume that the covariance matrix of the errors is correctly specified.\n"
     ]
    }
   ],
   "source": [
    "mod = sm.OLS(y,X)\n",
    "est = mod.fit()\n",
    "\n",
    "print(est.summary())"
   ]
  },
  {
   "cell_type": "code",
   "execution_count": 24,
   "id": "009cf814",
   "metadata": {},
   "outputs": [],
   "source": [
    "#There is a very small statistically significant impact of Drug type on Rejected by it is only -.02% which is too small to include in a parsimonious model"
   ]
  },
  {
   "cell_type": "markdown",
   "id": "2511c3c6",
   "metadata": {},
   "source": [
    "## We now look at Diagnosis and Rejection"
   ]
  },
  {
   "cell_type": "code",
   "execution_count": 25,
   "id": "0a2b8a29",
   "metadata": {},
   "outputs": [],
   "source": [
    "reject=data[data[\"True Rejected\"]==1].count()['True Rejected']\n",
    "#1086860\n",
    "accept=data[data[\"True Rejected\"]==0].count()['True Rejected']\n",
    "#12823384\n"
   ]
  },
  {
   "cell_type": "code",
   "execution_count": 26,
   "id": "ef18c52f",
   "metadata": {},
   "outputs": [
    {
     "data": {
      "text/plain": [
       "7.81337839940119"
      ]
     },
     "execution_count": 26,
     "metadata": {},
     "output_type": "execute_result"
    }
   ],
   "source": [
    "reject_percent=(reject/(accept+reject))*100\n",
    "reject_percent"
   ]
  },
  {
   "cell_type": "code",
   "execution_count": 27,
   "id": "45bbb1ab",
   "metadata": {},
   "outputs": [
    {
     "data": {
      "text/html": [
       "<div>\n",
       "<style scoped>\n",
       "    .dataframe tbody tr th:only-of-type {\n",
       "        vertical-align: middle;\n",
       "    }\n",
       "\n",
       "    .dataframe tbody tr th {\n",
       "        vertical-align: top;\n",
       "    }\n",
       "\n",
       "    .dataframe thead th {\n",
       "        text-align: right;\n",
       "    }\n",
       "</style>\n",
       "<table border=\"1\" class=\"dataframe\">\n",
       "  <thead>\n",
       "    <tr style=\"text-align: right;\">\n",
       "      <th></th>\n",
       "      <th>tx_date</th>\n",
       "      <th>pharmacy</th>\n",
       "      <th>diagnosis</th>\n",
       "      <th>drug</th>\n",
       "      <th>bin</th>\n",
       "      <th>pcn</th>\n",
       "      <th>group</th>\n",
       "      <th>rejected</th>\n",
       "      <th>patient_pay</th>\n",
       "      <th>Type</th>\n",
       "      <th>Drug</th>\n",
       "      <th>True Rejected</th>\n",
       "    </tr>\n",
       "  </thead>\n",
       "  <tbody>\n",
       "    <tr>\n",
       "      <th>0</th>\n",
       "      <td>2022-01-02</td>\n",
       "      <td>Pharmacy #6</td>\n",
       "      <td>37</td>\n",
       "      <td>branded tanoclolol</td>\n",
       "      <td>725700</td>\n",
       "      <td>1UQC</td>\n",
       "      <td>NaN</td>\n",
       "      <td>False</td>\n",
       "      <td>13.39</td>\n",
       "      <td>branded</td>\n",
       "      <td>67</td>\n",
       "      <td>0</td>\n",
       "    </tr>\n",
       "    <tr>\n",
       "      <th>1</th>\n",
       "      <td>2022-01-02</td>\n",
       "      <td>Pharmacy #42</td>\n",
       "      <td>102</td>\n",
       "      <td>branded oxasoted</td>\n",
       "      <td>664344</td>\n",
       "      <td>NaN</td>\n",
       "      <td>52H8KH0F83K</td>\n",
       "      <td>False</td>\n",
       "      <td>7.02</td>\n",
       "      <td>branded</td>\n",
       "      <td>48</td>\n",
       "      <td>0</td>\n",
       "    </tr>\n",
       "    <tr>\n",
       "      <th>2</th>\n",
       "      <td>2022-01-02</td>\n",
       "      <td>Pharmacy #37</td>\n",
       "      <td>89</td>\n",
       "      <td>branded cupitelol</td>\n",
       "      <td>725700</td>\n",
       "      <td>1UQC</td>\n",
       "      <td>NaN</td>\n",
       "      <td>False</td>\n",
       "      <td>13.39</td>\n",
       "      <td>branded</td>\n",
       "      <td>8</td>\n",
       "      <td>0</td>\n",
       "    </tr>\n",
       "    <tr>\n",
       "      <th>3</th>\n",
       "      <td>2022-01-02</td>\n",
       "      <td>Pharmacy #30</td>\n",
       "      <td>102</td>\n",
       "      <td>generic oxasoted</td>\n",
       "      <td>571569</td>\n",
       "      <td>KB38N</td>\n",
       "      <td>6BYJBW</td>\n",
       "      <td>False</td>\n",
       "      <td>10.84</td>\n",
       "      <td>generic</td>\n",
       "      <td>48</td>\n",
       "      <td>0</td>\n",
       "    </tr>\n",
       "    <tr>\n",
       "      <th>4</th>\n",
       "      <td>2022-01-02</td>\n",
       "      <td>Pharmacy #18</td>\n",
       "      <td>75</td>\n",
       "      <td>branded mamate</td>\n",
       "      <td>664344</td>\n",
       "      <td>NaN</td>\n",
       "      <td>ZX2QUWR</td>\n",
       "      <td>False</td>\n",
       "      <td>47.00</td>\n",
       "      <td>branded</td>\n",
       "      <td>38</td>\n",
       "      <td>0</td>\n",
       "    </tr>\n",
       "    <tr>\n",
       "      <th>...</th>\n",
       "      <td>...</td>\n",
       "      <td>...</td>\n",
       "      <td>...</td>\n",
       "      <td>...</td>\n",
       "      <td>...</td>\n",
       "      <td>...</td>\n",
       "      <td>...</td>\n",
       "      <td>...</td>\n",
       "      <td>...</td>\n",
       "      <td>...</td>\n",
       "      <td>...</td>\n",
       "      <td>...</td>\n",
       "    </tr>\n",
       "    <tr>\n",
       "      <th>13910239</th>\n",
       "      <td>2022-12-30</td>\n",
       "      <td>Pharmacy #42</td>\n",
       "      <td>100</td>\n",
       "      <td>branded colifunene</td>\n",
       "      <td>322463</td>\n",
       "      <td>NaN</td>\n",
       "      <td>HO8HUGL</td>\n",
       "      <td>True</td>\n",
       "      <td>0.00</td>\n",
       "      <td>branded</td>\n",
       "      <td>7</td>\n",
       "      <td>1</td>\n",
       "    </tr>\n",
       "    <tr>\n",
       "      <th>13910240</th>\n",
       "      <td>2022-12-30</td>\n",
       "      <td>Pharmacy #45</td>\n",
       "      <td>76</td>\n",
       "      <td>generic tafistitrisin</td>\n",
       "      <td>664344</td>\n",
       "      <td>NaN</td>\n",
       "      <td>TFZOR5R49</td>\n",
       "      <td>False</td>\n",
       "      <td>6.28</td>\n",
       "      <td>generic</td>\n",
       "      <td>66</td>\n",
       "      <td>0</td>\n",
       "    </tr>\n",
       "    <tr>\n",
       "      <th>13910241</th>\n",
       "      <td>2022-12-30</td>\n",
       "      <td>Pharmacy #54</td>\n",
       "      <td>115</td>\n",
       "      <td>generic tanoclolol</td>\n",
       "      <td>691847</td>\n",
       "      <td>N098KI</td>\n",
       "      <td>6SP1DG</td>\n",
       "      <td>False</td>\n",
       "      <td>6.94</td>\n",
       "      <td>generic</td>\n",
       "      <td>67</td>\n",
       "      <td>0</td>\n",
       "    </tr>\n",
       "    <tr>\n",
       "      <th>13910242</th>\n",
       "      <td>2022-12-30</td>\n",
       "      <td>Pharmacy #0</td>\n",
       "      <td>52</td>\n",
       "      <td>branded prazinib</td>\n",
       "      <td>96934</td>\n",
       "      <td>S76J7V6</td>\n",
       "      <td>NaN</td>\n",
       "      <td>False</td>\n",
       "      <td>13.93</td>\n",
       "      <td>branded</td>\n",
       "      <td>52</td>\n",
       "      <td>0</td>\n",
       "    </tr>\n",
       "    <tr>\n",
       "      <th>13910243</th>\n",
       "      <td>2022-12-30</td>\n",
       "      <td>Pharmacy #46</td>\n",
       "      <td>37</td>\n",
       "      <td>branded bovirol</td>\n",
       "      <td>322463</td>\n",
       "      <td>3O71UTS</td>\n",
       "      <td>NaN</td>\n",
       "      <td>False</td>\n",
       "      <td>12.22</td>\n",
       "      <td>branded</td>\n",
       "      <td>1</td>\n",
       "      <td>0</td>\n",
       "    </tr>\n",
       "  </tbody>\n",
       "</table>\n",
       "<p>13910244 rows × 12 columns</p>\n",
       "</div>"
      ],
      "text/plain": [
       "             tx_date      pharmacy  diagnosis                   drug     bin  \\\n",
       "0         2022-01-02   Pharmacy #6         37     branded tanoclolol  725700   \n",
       "1         2022-01-02  Pharmacy #42        102       branded oxasoted  664344   \n",
       "2         2022-01-02  Pharmacy #37         89      branded cupitelol  725700   \n",
       "3         2022-01-02  Pharmacy #30        102       generic oxasoted  571569   \n",
       "4         2022-01-02  Pharmacy #18         75         branded mamate  664344   \n",
       "...              ...           ...        ...                    ...     ...   \n",
       "13910239  2022-12-30  Pharmacy #42        100     branded colifunene  322463   \n",
       "13910240  2022-12-30  Pharmacy #45         76  generic tafistitrisin  664344   \n",
       "13910241  2022-12-30  Pharmacy #54        115     generic tanoclolol  691847   \n",
       "13910242  2022-12-30   Pharmacy #0         52       branded prazinib   96934   \n",
       "13910243  2022-12-30  Pharmacy #46         37        branded bovirol  322463   \n",
       "\n",
       "              pcn        group  rejected  patient_pay     Type  Drug  \\\n",
       "0            1UQC          NaN     False        13.39  branded    67   \n",
       "1             NaN  52H8KH0F83K     False         7.02  branded    48   \n",
       "2            1UQC          NaN     False        13.39  branded     8   \n",
       "3           KB38N       6BYJBW     False        10.84  generic    48   \n",
       "4             NaN      ZX2QUWR     False        47.00  branded    38   \n",
       "...           ...          ...       ...          ...      ...   ...   \n",
       "13910239      NaN      HO8HUGL      True         0.00  branded     7   \n",
       "13910240      NaN    TFZOR5R49     False         6.28  generic    66   \n",
       "13910241   N098KI       6SP1DG     False         6.94  generic    67   \n",
       "13910242  S76J7V6          NaN     False        13.93  branded    52   \n",
       "13910243  3O71UTS          NaN     False        12.22  branded     1   \n",
       "\n",
       "          True Rejected  \n",
       "0                     0  \n",
       "1                     0  \n",
       "2                     0  \n",
       "3                     0  \n",
       "4                     0  \n",
       "...                 ...  \n",
       "13910239              1  \n",
       "13910240              0  \n",
       "13910241              0  \n",
       "13910242              0  \n",
       "13910243              0  \n",
       "\n",
       "[13910244 rows x 12 columns]"
      ]
     },
     "execution_count": 27,
     "metadata": {},
     "output_type": "execute_result"
    }
   ],
   "source": [
    "data.diagnosis=data.diagnosis.astype('category').cat.codes\n",
    "data"
   ]
  },
  {
   "cell_type": "code",
   "execution_count": 28,
   "id": "2f07d4fb",
   "metadata": {
    "scrolled": true
   },
   "outputs": [
    {
     "data": {
      "text/plain": [
       "133"
      ]
     },
     "execution_count": 28,
     "metadata": {},
     "output_type": "execute_result"
    }
   ],
   "source": [
    "len(data['diagnosis'].unique()) #catgories \n",
    "#133 diagnosis categories "
   ]
  },
  {
   "cell_type": "code",
   "execution_count": 30,
   "id": "8c05d3da",
   "metadata": {
    "scrolled": true
   },
   "outputs": [
    {
     "data": {
      "text/plain": [
       "<AxesSubplot:xlabel='diagnosis', ylabel='count'>"
      ]
     },
     "execution_count": 30,
     "metadata": {},
     "output_type": "execute_result"
    },
    {
     "data": {
      "image/png": "[encoded data removed]",
      "text/plain": [
       "<Figure size 432x288 with 1 Axes>"
      ]
     },
     "metadata": {
      "needs_background": "light"
     },
     "output_type": "display_data"
    }
   ],
   "source": [
    "sn.countplot(data = data, x = 'diagnosis') # distribution of diagnosis"
   ]
  },
  {
   "cell_type": "code",
   "execution_count": 47,
   "id": "9b537299",
   "metadata": {},
   "outputs": [
    {
     "data": {
      "text/plain": [
       "<AxesSubplot:xlabel='diagnosis', ylabel='Density'>"
      ]
     },
     "execution_count": 47,
     "metadata": {},
     "output_type": "execute_result"
    },
    {
     "data": {
      "image/png": "[encoded data removed]",
      "text/plain": [
       "<Figure size 432x288 with 1 Axes>"
      ]
     },
     "metadata": {
      "needs_background": "light"
     },
     "output_type": "display_data"
    }
   ],
   "source": [
    "sn.kdeplot(data = data, x = 'diagnosis',bw_adjust=2) #distribution of drug variable"
   ]
  },
  {
   "cell_type": "code",
   "execution_count": 31,
   "id": "6f2f7b41",
   "metadata": {},
   "outputs": [],
   "source": [
    "#Now we define our X\n",
    "X = np.ones((len(data), 2)) #intercept\n",
    "X[:,1:] = data[['diagnosis']].values\n",
    "y = data.patient_pay.values"
   ]
  },
  {
   "cell_type": "code",
   "execution_count": 32,
   "id": "8f69f3b2",
   "metadata": {
    "scrolled": true
   },
   "outputs": [
    {
     "name": "stdout",
     "output_type": "stream",
     "text": [
      "                            OLS Regression Results                            \n",
      "==============================================================================\n",
      "Dep. Variable:                      y   R-squared:                       0.004\n",
      "Model:                            OLS   Adj. R-squared:                  0.004\n",
      "Method:                 Least Squares   F-statistic:                 4.944e+04\n",
      "Date:                Wed, 25 May 2022   Prob (F-statistic):               0.00\n",
      "Time:                        13:36:20   Log-Likelihood:            -7.0860e+07\n",
      "No. Observations:            13910244   AIC:                         1.417e+08\n",
      "Df Residuals:                13910242   BIC:                         1.417e+08\n",
      "Df Model:                           1                                         \n",
      "Covariance Type:            nonrobust                                         \n",
      "==============================================================================\n",
      "                 coef    std err          t      P>|t|      [0.025      0.975]\n",
      "------------------------------------------------------------------------------\n",
      "const         18.8276      0.026    729.692      0.000      18.777      18.878\n",
      "x1             0.0771      0.000    222.353      0.000       0.076       0.078\n",
      "==============================================================================\n",
      "Omnibus:                 14518226.967   Durbin-Watson:                   1.999\n",
      "Prob(Omnibus):                  0.000   Jarque-Bera (JB):       1114479413.793\n",
      "Skew:                           5.249   Prob(JB):                         0.00\n",
      "Kurtosis:                      45.575   Cond. No.                         181.\n",
      "==============================================================================\n",
      "\n",
      "Notes:\n",
      "[1] Standard Errors assume that the covariance matrix of the errors is correctly specified.\n"
     ]
    }
   ],
   "source": [
    "mod = sm.OLS(y,X)\n",
    "est = mod.fit()\n",
    "\n",
    "print(est.summary())"
   ]
  },
  {
   "cell_type": "code",
   "execution_count": 33,
   "id": "b3dd3a23",
   "metadata": {},
   "outputs": [],
   "source": [
    "#First off, there is a significant 7.7% increase in copay with the increasing category of diagnosis"
   ]
  },
  {
   "cell_type": "code",
   "execution_count": 34,
   "id": "3f23f244",
   "metadata": {},
   "outputs": [],
   "source": [
    "#Now we define our X\n",
    "X = np.ones((len(data), 2)) #intercept\n",
    "X[:,1:] = data[['diagnosis']].values\n",
    "y = data['True Rejected']"
   ]
  },
  {
   "cell_type": "code",
   "execution_count": 35,
   "id": "f03d6093",
   "metadata": {
    "scrolled": true
   },
   "outputs": [
    {
     "name": "stdout",
     "output_type": "stream",
     "text": [
      "                            OLS Regression Results                            \n",
      "==============================================================================\n",
      "Dep. Variable:          True Rejected   R-squared:                       0.000\n",
      "Model:                            OLS   Adj. R-squared:                  0.000\n",
      "Method:                 Least Squares   F-statistic:                     3047.\n",
      "Date:                Wed, 25 May 2022   Prob (F-statistic):               0.00\n",
      "Time:                        13:36:26   Log-Likelihood:            -1.4395e+06\n",
      "No. Observations:            13910244   AIC:                         2.879e+06\n",
      "Df Residuals:                13910242   BIC:                         2.879e+06\n",
      "Df Model:                           1                                         \n",
      "Covariance Type:            nonrobust                                         \n",
      "==============================================================================\n",
      "                 coef    std err          t      P>|t|      [0.025      0.975]\n",
      "------------------------------------------------------------------------------\n",
      "const          0.0693      0.000    394.876      0.000       0.069       0.070\n",
      "x1             0.0001   2.36e-06     55.199      0.000       0.000       0.000\n",
      "==============================================================================\n",
      "Omnibus:                  8634890.935   Durbin-Watson:                   2.000\n",
      "Prob(Omnibus):                  0.000   Jarque-Bera (JB):         58890861.548\n",
      "Skew:                           3.143   Prob(JB):                         0.00\n",
      "Kurtosis:                      10.880   Cond. No.                         181.\n",
      "==============================================================================\n",
      "\n",
      "Notes:\n",
      "[1] Standard Errors assume that the covariance matrix of the errors is correctly specified.\n"
     ]
    }
   ],
   "source": [
    "mod = sm.OLS(y,X)\n",
    "est = mod.fit()\n",
    "\n",
    "print(est.summary())"
   ]
  },
  {
   "cell_type": "code",
   "execution_count": 36,
   "id": "e20b8ad5",
   "metadata": {},
   "outputs": [],
   "source": [
    "#Diagnosis type has a very small effect of .01% on a patient being rejected. This is not enough to include in our model. "
   ]
  },
  {
   "cell_type": "markdown",
   "id": "8af6fa97",
   "metadata": {},
   "source": [
    "## Drug and Diagnosis are significant for copay but not in regards to rejected. We do not need interaction terms for them. We need an interaction term for Branded though. "
   ]
  },
  {
   "cell_type": "markdown",
   "id": "9106c6f0",
   "metadata": {},
   "source": [
    "# Lets try different insurance measures such as bin pcn and group"
   ]
  },
  {
   "cell_type": "code",
   "execution_count": 37,
   "id": "d04ec13e",
   "metadata": {},
   "outputs": [],
   "source": [
    "data.bin=data.bin.astype('category').cat.codes\n",
    "data.pcn=data.pcn.astype('category').cat.codes\n",
    "data.group=data.group.astype('category').cat.codes"
   ]
  },
  {
   "cell_type": "code",
   "execution_count": 38,
   "id": "f01fc38b",
   "metadata": {},
   "outputs": [],
   "source": [
    "#Now we define our X\n",
    "X = np.ones((len(data), 2)) #intercept\n",
    "X[:,1:] = data[['bin']].values\n",
    "y = data['True Rejected']"
   ]
  },
  {
   "cell_type": "code",
   "execution_count": 39,
   "id": "a7bbf05d",
   "metadata": {},
   "outputs": [
    {
     "name": "stdout",
     "output_type": "stream",
     "text": [
      "                            OLS Regression Results                            \n",
      "==============================================================================\n",
      "Dep. Variable:          True Rejected   R-squared:                       0.000\n",
      "Model:                            OLS   Adj. R-squared:                  0.000\n",
      "Method:                 Least Squares   F-statistic:                     1458.\n",
      "Date:                Wed, 25 May 2022   Prob (F-statistic):          5.86e-319\n",
      "Time:                        13:36:41   Log-Likelihood:            -1.4403e+06\n",
      "No. Observations:            13910244   AIC:                         2.881e+06\n",
      "Df Residuals:                13910242   BIC:                         2.881e+06\n",
      "Df Model:                           1                                         \n",
      "Covariance Type:            nonrobust                                         \n",
      "==============================================================================\n",
      "                 coef    std err          t      P>|t|      [0.025      0.975]\n",
      "------------------------------------------------------------------------------\n",
      "const          0.0831      0.000    562.262      0.000       0.083       0.083\n",
      "x1            -0.0010   2.56e-05    -38.182      0.000      -0.001      -0.001\n",
      "==============================================================================\n",
      "Omnibus:                  8636065.185   Durbin-Watson:                   2.000\n",
      "Prob(Omnibus):                  0.000   Jarque-Bera (JB):         58910768.513\n",
      "Skew:                           3.143   Prob(JB):                         0.00\n",
      "Kurtosis:                      10.882   Cond. No.                         12.1\n",
      "==============================================================================\n",
      "\n",
      "Notes:\n",
      "[1] Standard Errors assume that the covariance matrix of the errors is correctly specified.\n"
     ]
    }
   ],
   "source": [
    "mod = sm.OLS(y,X)\n",
    "est = mod.fit()\n",
    "\n",
    "print(est.summary())"
   ]
  },
  {
   "cell_type": "code",
   "execution_count": null,
   "id": "13e11518",
   "metadata": {},
   "outputs": [],
   "source": [
    "#Not enough"
   ]
  },
  {
   "cell_type": "code",
   "execution_count": null,
   "id": "44e29c29",
   "metadata": {},
   "outputs": [],
   "source": []
  }
 ],
 "metadata": {
  "kernelspec": {
   "display_name": "Python 3",
   "language": "python",
   "name": "python3"
  },
  "language_info": {
   "codemirror_mode": {
    "name": "ipython",
    "version": 3
   },
   "file_extension": ".py",
   "mimetype": "text/x-python",
   "name": "python",
   "nbconvert_exporter": "python",
   "pygments_lexer": "ipython3",
   "version": "3.8.8"
  }
 },
 "nbformat": 4,
 "nbformat_minor": 5
}
