{
 "cells": [
  {
   "cell_type": "markdown",
   "id": "a2455f66-58f4-48c3-b9a5-20a56890fd1b",
   "metadata": {},
   "source": [
    "# Target Analysis\n",
    "\n",
    "I do some target analysis of the columns `rejected` and `patient_pay`. I also check if `patient_pay` is normally distributed, and conclude that it is not."
   ]
  },
  {
   "cell_type": "code",
   "execution_count": null,
   "id": "45783ced-c4fe-4a82-a409-cd0c519aa191",
   "metadata": {},
   "outputs": [],
   "source": [
    "import pandas as pd\n",
    "import numpy as np"
   ]
  },
  {
   "cell_type": "code",
   "execution_count": 2,
   "id": "a379b565",
   "metadata": {},
   "outputs": [],
   "source": [
    "df = pd.read_csv('pharmacy_tx.csv')"
   ]
  },
  {
   "cell_type": "markdown",
   "id": "f9064769-17d2-4131-b362-9016b7127ba9",
   "metadata": {},
   "source": [
    "There are almost 14 million rows."
   ]
  },
  {
   "cell_type": "markdown",
   "id": "5558228b-afe0-47af-9182-bdce351d1d4f",
   "metadata": {},
   "source": [
    "## `rejected` and `patient_pay` Analysis\n",
    "\n",
    "I analyze the `rejected` and `patient_pay` columns."
   ]
  },
  {
   "cell_type": "code",
   "execution_count": 8,
   "id": "90993a7c",
   "metadata": {},
   "outputs": [
    {
     "data": {
      "text/plain": [
       "1086860"
      ]
     },
     "execution_count": 8,
     "metadata": {},
     "output_type": "execute_result"
    }
   ],
   "source": [
    "len(df.loc[df.rejected==True])"
   ]
  },
  {
   "cell_type": "code",
   "execution_count": 9,
   "id": "ba4f8ab5",
   "metadata": {},
   "outputs": [
    {
     "data": {
      "text/plain": [
       "12823384"
      ]
     },
     "execution_count": 9,
     "metadata": {},
     "output_type": "execute_result"
    }
   ],
   "source": [
    "len(df.loc[df.rejected==False])"
   ]
  },
  {
   "cell_type": "code",
   "execution_count": 10,
   "id": "d3c7a9f4-6bae-4e76-9dca-7feef95bb40e",
   "metadata": {},
   "outputs": [
    {
     "name": "stdout",
     "output_type": "stream",
     "text": [
      "Percent rejected is 0.0781337839940119\n",
      "Percent accepted is 0.9218662160059881\n"
     ]
    }
   ],
   "source": [
    "print('Percent rejected is', 1086860/13910244) \n",
    "print('Percent accepted is', 12823384/13910244)"
   ]
  },
  {
   "cell_type": "code",
   "execution_count": 11,
   "id": "3e559cd5",
   "metadata": {},
   "outputs": [
    {
     "data": {
      "text/plain": [
       "<AxesSubplot:>"
      ]
     },
     "execution_count": 11,
     "metadata": {},
     "output_type": "execute_result"
    },
    {
     "data": {
      "image/png": "[encoded data removed]",
      "text/plain": [
       "<Figure size 432x288 with 1 Axes>"
      ]
     },
     "metadata": {
      "needs_background": "light"
     },
     "output_type": "display_data"
    }
   ],
   "source": [
    "df.patient_pay.hist(bins=100)"
   ]
  },
  {
   "cell_type": "code",
   "execution_count": 12,
   "id": "5635df26",
   "metadata": {},
   "outputs": [],
   "source": [
    "df = df.assign(log_patient_pay = np.log(df.patient_pay+1))"
   ]
  },
  {
   "cell_type": "code",
   "execution_count": 7,
   "id": "43f0d63f-d3e1-417f-8d23-0e1ea4f0ff6f",
   "metadata": {},
   "outputs": [
    {
     "data": {
      "text/plain": [
       "<AxesSubplot:>"
      ]
     },
     "execution_count": 7,
     "metadata": {},
     "output_type": "execute_result"
    },
    {
     "data": {
      "image/png": "[encoded data removed]",
      "text/plain": [
       "<Figure size 432x288 with 1 Axes>"
      ]
     },
     "metadata": {
      "needs_background": "light"
     },
     "output_type": "display_data"
    }
   ],
   "source": [
    "df.loc[df.drug == 'branded tanoclolol'].patient_pay.hist(bins=100)"
   ]
  },
  {
   "cell_type": "code",
   "execution_count": 14,
   "id": "8533da34-9ca1-4ca1-bbd1-211f5f74634a",
   "metadata": {},
   "outputs": [
    {
     "data": {
      "text/plain": [
       "1086860"
      ]
     },
     "execution_count": 14,
     "metadata": {},
     "output_type": "execute_result"
    }
   ],
   "source": [
    "len(df.loc[df.patient_pay == 0])"
   ]
  },
  {
   "cell_type": "code",
   "execution_count": 17,
   "id": "f9560c14-f8a6-45af-8295-0f8814290deb",
   "metadata": {},
   "outputs": [
    {
     "data": {
      "text/plain": [
       "1086860"
      ]
     },
     "execution_count": 17,
     "metadata": {},
     "output_type": "execute_result"
    }
   ],
   "source": [
    "df.loc[df.patient_pay == 0]['rejected'].sum()"
   ]
  },
  {
   "cell_type": "markdown",
   "id": "45f2da60-15a4-408a-95e7-b39f787bf70d",
   "metadata": {},
   "source": [
    "## Note\n",
    "\n",
    "- `patient_pay==0` is the same as `rejected==True`"
   ]
  },
  {
   "cell_type": "code",
   "execution_count": 17,
   "id": "92fdf600-5fab-4d00-9d24-3f839c029131",
   "metadata": {},
   "outputs": [
    {
     "data": {
      "text/html": [
       "<div>\n",
       "<style scoped>\n",
       "    .dataframe tbody tr th:only-of-type {\n",
       "        vertical-align: middle;\n",
       "    }\n",
       "\n",
       "    .dataframe tbody tr th {\n",
       "        vertical-align: top;\n",
       "    }\n",
       "\n",
       "    .dataframe thead th {\n",
       "        text-align: right;\n",
       "    }\n",
       "</style>\n",
       "<table border=\"1\" class=\"dataframe\">\n",
       "  <thead>\n",
       "    <tr style=\"text-align: right;\">\n",
       "      <th></th>\n",
       "      <th></th>\n",
       "      <th>rejected</th>\n",
       "      <th>patient_pay</th>\n",
       "    </tr>\n",
       "    <tr>\n",
       "      <th>bin</th>\n",
       "      <th></th>\n",
       "      <th></th>\n",
       "      <th></th>\n",
       "    </tr>\n",
       "  </thead>\n",
       "  <tbody>\n",
       "    <tr>\n",
       "      <th rowspan=\"2\" valign=\"top\">96934</th>\n",
       "      <th>rejected</th>\n",
       "      <td>1.000000</td>\n",
       "      <td>-0.178655</td>\n",
       "    </tr>\n",
       "    <tr>\n",
       "      <th>patient_pay</th>\n",
       "      <td>-0.178655</td>\n",
       "      <td>1.000000</td>\n",
       "    </tr>\n",
       "    <tr>\n",
       "      <th rowspan=\"2\" valign=\"top\">160389</th>\n",
       "      <th>rejected</th>\n",
       "      <td>1.000000</td>\n",
       "      <td>-0.208241</td>\n",
       "    </tr>\n",
       "    <tr>\n",
       "      <th>patient_pay</th>\n",
       "      <td>-0.208241</td>\n",
       "      <td>1.000000</td>\n",
       "    </tr>\n",
       "    <tr>\n",
       "      <th rowspan=\"2\" valign=\"top\">322463</th>\n",
       "      <th>rejected</th>\n",
       "      <td>1.000000</td>\n",
       "      <td>-0.181384</td>\n",
       "    </tr>\n",
       "    <tr>\n",
       "      <th>patient_pay</th>\n",
       "      <td>-0.181384</td>\n",
       "      <td>1.000000</td>\n",
       "    </tr>\n",
       "    <tr>\n",
       "      <th rowspan=\"2\" valign=\"top\">539437</th>\n",
       "      <th>rejected</th>\n",
       "      <td>1.000000</td>\n",
       "      <td>-0.176935</td>\n",
       "    </tr>\n",
       "    <tr>\n",
       "      <th>patient_pay</th>\n",
       "      <td>-0.176935</td>\n",
       "      <td>1.000000</td>\n",
       "    </tr>\n",
       "    <tr>\n",
       "      <th rowspan=\"2\" valign=\"top\">571569</th>\n",
       "      <th>rejected</th>\n",
       "      <td>1.000000</td>\n",
       "      <td>-0.156864</td>\n",
       "    </tr>\n",
       "    <tr>\n",
       "      <th>patient_pay</th>\n",
       "      <td>-0.156864</td>\n",
       "      <td>1.000000</td>\n",
       "    </tr>\n",
       "    <tr>\n",
       "      <th rowspan=\"2\" valign=\"top\">664344</th>\n",
       "      <th>rejected</th>\n",
       "      <td>1.000000</td>\n",
       "      <td>-0.186525</td>\n",
       "    </tr>\n",
       "    <tr>\n",
       "      <th>patient_pay</th>\n",
       "      <td>-0.186525</td>\n",
       "      <td>1.000000</td>\n",
       "    </tr>\n",
       "    <tr>\n",
       "      <th rowspan=\"2\" valign=\"top\">691847</th>\n",
       "      <th>rejected</th>\n",
       "      <td>1.000000</td>\n",
       "      <td>-0.175757</td>\n",
       "    </tr>\n",
       "    <tr>\n",
       "      <th>patient_pay</th>\n",
       "      <td>-0.175757</td>\n",
       "      <td>1.000000</td>\n",
       "    </tr>\n",
       "    <tr>\n",
       "      <th rowspan=\"2\" valign=\"top\">718350</th>\n",
       "      <th>rejected</th>\n",
       "      <td>1.000000</td>\n",
       "      <td>-0.166722</td>\n",
       "    </tr>\n",
       "    <tr>\n",
       "      <th>patient_pay</th>\n",
       "      <td>-0.166722</td>\n",
       "      <td>1.000000</td>\n",
       "    </tr>\n",
       "    <tr>\n",
       "      <th rowspan=\"2\" valign=\"top\">725700</th>\n",
       "      <th>rejected</th>\n",
       "      <td>1.000000</td>\n",
       "      <td>-0.168727</td>\n",
       "    </tr>\n",
       "    <tr>\n",
       "      <th>patient_pay</th>\n",
       "      <td>-0.168727</td>\n",
       "      <td>1.000000</td>\n",
       "    </tr>\n",
       "    <tr>\n",
       "      <th rowspan=\"2\" valign=\"top\">756120</th>\n",
       "      <th>rejected</th>\n",
       "      <td>1.000000</td>\n",
       "      <td>-0.206436</td>\n",
       "    </tr>\n",
       "    <tr>\n",
       "      <th>patient_pay</th>\n",
       "      <td>-0.206436</td>\n",
       "      <td>1.000000</td>\n",
       "    </tr>\n",
       "    <tr>\n",
       "      <th rowspan=\"2\" valign=\"top\">757349</th>\n",
       "      <th>rejected</th>\n",
       "      <td>1.000000</td>\n",
       "      <td>-0.187133</td>\n",
       "    </tr>\n",
       "    <tr>\n",
       "      <th>patient_pay</th>\n",
       "      <td>-0.187133</td>\n",
       "      <td>1.000000</td>\n",
       "    </tr>\n",
       "    <tr>\n",
       "      <th rowspan=\"2\" valign=\"top\">956971</th>\n",
       "      <th>rejected</th>\n",
       "      <td>1.000000</td>\n",
       "      <td>-0.183352</td>\n",
       "    </tr>\n",
       "    <tr>\n",
       "      <th>patient_pay</th>\n",
       "      <td>-0.183352</td>\n",
       "      <td>1.000000</td>\n",
       "    </tr>\n",
       "  </tbody>\n",
       "</table>\n",
       "</div>"
      ],
      "text/plain": [
       "                    rejected  patient_pay\n",
       "bin                                      \n",
       "96934  rejected     1.000000    -0.178655\n",
       "       patient_pay -0.178655     1.000000\n",
       "160389 rejected     1.000000    -0.208241\n",
       "       patient_pay -0.208241     1.000000\n",
       "322463 rejected     1.000000    -0.181384\n",
       "       patient_pay -0.181384     1.000000\n",
       "539437 rejected     1.000000    -0.176935\n",
       "       patient_pay -0.176935     1.000000\n",
       "571569 rejected     1.000000    -0.156864\n",
       "       patient_pay -0.156864     1.000000\n",
       "664344 rejected     1.000000    -0.186525\n",
       "       patient_pay -0.186525     1.000000\n",
       "691847 rejected     1.000000    -0.175757\n",
       "       patient_pay -0.175757     1.000000\n",
       "718350 rejected     1.000000    -0.166722\n",
       "       patient_pay -0.166722     1.000000\n",
       "725700 rejected     1.000000    -0.168727\n",
       "       patient_pay -0.168727     1.000000\n",
       "756120 rejected     1.000000    -0.206436\n",
       "       patient_pay -0.206436     1.000000\n",
       "757349 rejected     1.000000    -0.187133\n",
       "       patient_pay -0.187133     1.000000\n",
       "956971 rejected     1.000000    -0.183352\n",
       "       patient_pay -0.183352     1.000000"
      ]
     },
     "execution_count": 17,
     "metadata": {},
     "output_type": "execute_result"
    }
   ],
   "source": [
    "df.groupby('bin').corr()"
   ]
  },
  {
   "cell_type": "code",
   "execution_count": 54,
   "id": "203122ab-46fa-4d0e-b05e-39ef7c1fed25",
   "metadata": {},
   "outputs": [],
   "source": [
    "df2 = df.drug.str.split(' ', n=2, expand=True).rename({0:'branded', 1:'drug_type'}, \n",
    "                         axis=1).replace({'branded':True, 'generic':False}, \n",
    "                                         inplace=True)\n",
    "#for i in range(len(df.drug)):\n",
    "    "
   ]
  },
  {
   "cell_type": "code",
   "execution_count": 55,
   "id": "50cc3abb-bbc9-4bdc-8d07-74ded76553ea",
   "metadata": {},
   "outputs": [],
   "source": [
    "df2"
   ]
  },
  {
   "cell_type": "markdown",
   "id": "973ef618-570f-4a44-9d43-1604ac8fbdb1",
   "metadata": {},
   "source": [
    "## Target Analysis\n",
    "\n",
    "Here, we are going to check the normality of `patient_pay`."
   ]
  },
  {
   "cell_type": "code",
   "execution_count": 46,
   "id": "069d24e1-f479-4b50-85c6-ea9bc2331a89",
   "metadata": {},
   "outputs": [],
   "source": [
    "from scipy.stats import shapiro, probplot\n",
    "import matplotlib.pyplot as plt"
   ]
  },
  {
   "cell_type": "code",
   "execution_count": null,
   "id": "82ca33d8-0e27-4d05-8a38-15c908b491ea",
   "metadata": {},
   "outputs": [],
   "source": []
  },
  {
   "cell_type": "code",
   "execution_count": 38,
   "id": "311ef8ad-1944-4ff1-947a-6c814ba33585",
   "metadata": {},
   "outputs": [],
   "source": [
    "logvalues = np.log(df.loc[df.patient_pay != 0].patient_pay + 1)"
   ]
  },
  {
   "cell_type": "code",
   "execution_count": 39,
   "id": "eafa0feb-11dc-470f-b27c-20cc5ff844de",
   "metadata": {},
   "outputs": [
    {
     "name": "stderr",
     "output_type": "stream",
     "text": [
      "/opt/homebrew/lib/python3.9/site-packages/scipy/stats/_morestats.py:1761: UserWarning: p-value may not be accurate for N > 5000.\n",
      "  warnings.warn(\"p-value may not be accurate for N > 5000.\")\n"
     ]
    }
   ],
   "source": [
    "test = shapiro(logvalues)"
   ]
  },
  {
   "cell_type": "code",
   "execution_count": 40,
   "id": "d7b180c6-010e-4e1e-a012-b08edb85373c",
   "metadata": {},
   "outputs": [
    {
     "data": {
      "text/plain": [
       "0.8429030179977417"
      ]
     },
     "execution_count": 40,
     "metadata": {},
     "output_type": "execute_result"
    }
   ],
   "source": [
    "test.statistic"
   ]
  },
  {
   "cell_type": "code",
   "execution_count": 41,
   "id": "54b7b7ba-5a1a-46fd-ab28-45427d1f3c8b",
   "metadata": {},
   "outputs": [
    {
     "data": {
      "text/plain": [
       "ShapiroResult(statistic=0.8429030179977417, pvalue=0.0)"
      ]
     },
     "execution_count": 41,
     "metadata": {},
     "output_type": "execute_result"
    }
   ],
   "source": [
    "test"
   ]
  },
  {
   "cell_type": "code",
   "execution_count": 47,
   "id": "0f13ce85-85b2-475c-87ca-12d1a7da8493",
   "metadata": {},
   "outputs": [
    {
     "data": {
      "text/plain": [
       "((array([-5.31254158, -5.14861904, -5.06040071, ...,  5.06040071,\n",
       "          5.14861904,  5.31254158]),\n",
       "  array([1.48160454, 1.48160454, 1.48160454, ..., 6.32589899, 6.32602424,\n",
       "         6.32602424])),\n",
       " (0.7339703457983772, 2.866535358265082, 0.9374205454289386))"
      ]
     },
     "execution_count": 47,
     "metadata": {},
     "output_type": "execute_result"
    },
    {
     "data": {
      "image/png": "[encoded data removed]",
      "text/plain": [
       "<Figure size 432x288 with 1 Axes>"
      ]
     },
     "metadata": {
      "needs_background": "light"
     },
     "output_type": "display_data"
    }
   ],
   "source": [
    "probplot(logvalues, dist='norm', plot=plt)"
   ]
  },
  {
   "cell_type": "markdown",
   "id": "0e4ce55f-3cb0-465b-ae93-0b87743bc837",
   "metadata": {},
   "source": []
  }
 ],
 "metadata": {
  "kernelspec": {
   "display_name": "Python 3 (ipykernel)",
   "language": "python",
   "name": "python3"
  },
  "language_info": {
   "codemirror_mode": {
    "name": "ipython",
    "version": 3
   },
   "file_extension": ".py",
   "mimetype": "text/x-python",
   "name": "python",
   "nbconvert_exporter": "python",
   "pygments_lexer": "ipython3",
   "version": "3.9.12"
  }
 },
 "nbformat": 4,
 "nbformat_minor": 5
}
